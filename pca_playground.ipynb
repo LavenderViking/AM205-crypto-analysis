{
 "cells": [
  {
   "cell_type": "code",
   "execution_count": 1,
   "metadata": {},
   "outputs": [],
   "source": [
    "import numpy as np\n",
    "import pandas as pd\n",
    "from sklearn.decomposition import PCA\n",
    "import sklearn.preprocessing as preprocessing\n",
    "np.set_printoptions(precision=3, suppress=True)\n",
    "pd.set_option('display.precision', 3)\n",
    "\n",
    "FILES = [('ripple_price', 'rip'), ('bitcoin_price', 'btc'),\n",
    "         ('ethereum_price', 'eth'), ('litecoin_price', 'ltc'),\n",
    "         ('monero_price', 'mon'), ('nem_price', 'nem'),\n",
    "         ('dash_price', 'dash')]"
   ]
  },
  {
   "cell_type": "code",
   "execution_count": 2,
   "metadata": {},
   "outputs": [],
   "source": [
    "def load_returns_matrix (center=True, scale=True):\n",
    "    \"\"\"Prepare rolling monthly return matrix.\n",
    "    \n",
    "    Returns:\n",
    "        DataFrame, np.matrix: Both containing returns for cryptos, with \n",
    "            centering/scaling depending on args values.\n",
    "    \"\"\"\n",
    "    dfs = []\n",
    "    for file, name in FILES:\n",
    "        path = 'cryptocurrencypricehistory//{}.csv'.format(file)\n",
    "        df = pd.read_csv(path, usecols=['Date', 'Close'])\n",
    "        df['Date'] = pd.to_datetime(df['Date'])\n",
    "        df = df[['Date', 'Close']]\n",
    "        df.set_index('Date', drop=True, inplace=True)\n",
    "        df.rename(columns={'Close':name}, inplace=True)\n",
    "        dfs.append(df)\n",
    "    dfout = pd.concat(dfs, axis=1, join='inner')\n",
    "    dfout = dfout.pct_change(periods=1, freq=pd.Timedelta(days=30))\n",
    "    dfout.dropna(axis=0, how='any', inplace=True)\n",
    "    xout = preprocessing.scale(dfout, axis=0, with_mean=center, with_std=scale)\n",
    "    dfout = pd.DataFrame(xout, columns=dfout.columns, index=dfout.index)\n",
    "    return dfout, np.matrix(xout)\n",
    "\n",
    "\n",
    "def create_proportion_of_variation_df (eigvals):\n",
    "    total_var = sum(eigvals)\n",
    "    cols = ['component', 'eigenvalue', 'proportion', 'cumulative']\n",
    "    df = pd.DataFrame(columns=cols)\n",
    "    cum = 0\n",
    "    for i, e in enumerate(eigvals):\n",
    "        cum += e\n",
    "        row = {'component':i + 1,\n",
    "               'eigenvalue':e,\n",
    "               'proportion':e/total_var,\n",
    "               'cumulative':cum/total_var}\n",
    "        df = df.append(row, ignore_index=True)\n",
    "    df['component'] = df['component'].astype(int)\n",
    "    df.set_index('component', drop=True, inplace=True)\n",
    "    return df\n",
    "\n",
    "\n",
    "def create_eigvec_df (V):\n",
    "    \"\"\"Create DataFrame of eigenvectors from V made in SVD.\"\"\"\n",
    "    m, _ = V.shape\n",
    "    eigvecs = [np.ravel(V[:, i]) for i in range(m)]  # extract columns\n",
    "    df = pd.DataFrame()\n",
    "    for i, v in enumerate(eigvecs):\n",
    "        df['V{}'.format(i + 1)] = v\n",
    "    return df"
   ]
  },
  {
   "cell_type": "code",
   "execution_count": 3,
   "metadata": {},
   "outputs": [
    {
     "name": "stdout",
     "output_type": "stream",
     "text": [
      "Number of returns in data: 794\n"
     ]
    },
    {
     "data": {
      "text/html": [
       "<div>\n",
       "<style>\n",
       "    .dataframe thead tr:only-child th {\n",
       "        text-align: right;\n",
       "    }\n",
       "\n",
       "    .dataframe thead th {\n",
       "        text-align: left;\n",
       "    }\n",
       "\n",
       "    .dataframe tbody tr th {\n",
       "        vertical-align: top;\n",
       "    }\n",
       "</style>\n",
       "<table border=\"1\" class=\"dataframe\">\n",
       "  <thead>\n",
       "    <tr style=\"text-align: right;\">\n",
       "      <th></th>\n",
       "      <th>rip</th>\n",
       "      <th>btc</th>\n",
       "      <th>eth</th>\n",
       "      <th>ltc</th>\n",
       "      <th>mon</th>\n",
       "      <th>nem</th>\n",
       "      <th>dash</th>\n",
       "    </tr>\n",
       "    <tr>\n",
       "      <th>Date</th>\n",
       "      <th></th>\n",
       "      <th></th>\n",
       "      <th></th>\n",
       "      <th></th>\n",
       "      <th></th>\n",
       "      <th></th>\n",
       "      <th></th>\n",
       "    </tr>\n",
       "  </thead>\n",
       "  <tbody>\n",
       "    <tr>\n",
       "      <th>2015-09-06</th>\n",
       "      <td>-0.291</td>\n",
       "      <td>-1.261</td>\n",
       "      <td>-1.125</td>\n",
       "      <td>-0.946</td>\n",
       "      <td>-0.783</td>\n",
       "      <td>-0.776</td>\n",
       "      <td>-0.828</td>\n",
       "    </tr>\n",
       "    <tr>\n",
       "      <th>2015-09-07</th>\n",
       "      <td>-0.314</td>\n",
       "      <td>-0.998</td>\n",
       "      <td>0.299</td>\n",
       "      <td>-0.803</td>\n",
       "      <td>-0.717</td>\n",
       "      <td>-0.739</td>\n",
       "      <td>-0.814</td>\n",
       "    </tr>\n",
       "    <tr>\n",
       "      <th>2015-09-08</th>\n",
       "      <td>-0.345</td>\n",
       "      <td>-0.998</td>\n",
       "      <td>0.427</td>\n",
       "      <td>-0.825</td>\n",
       "      <td>-0.684</td>\n",
       "      <td>-0.693</td>\n",
       "      <td>-0.852</td>\n",
       "    </tr>\n",
       "    <tr>\n",
       "      <th>2015-09-09</th>\n",
       "      <td>-0.353</td>\n",
       "      <td>-1.077</td>\n",
       "      <td>0.357</td>\n",
       "      <td>-0.915</td>\n",
       "      <td>-0.680</td>\n",
       "      <td>-0.772</td>\n",
       "      <td>-0.782</td>\n",
       "    </tr>\n",
       "    <tr>\n",
       "      <th>2015-09-10</th>\n",
       "      <td>-0.343</td>\n",
       "      <td>-1.157</td>\n",
       "      <td>-0.378</td>\n",
       "      <td>-0.979</td>\n",
       "      <td>-0.619</td>\n",
       "      <td>-0.766</td>\n",
       "      <td>-0.845</td>\n",
       "    </tr>\n",
       "  </tbody>\n",
       "</table>\n",
       "</div>"
      ],
      "text/plain": [
       "              rip    btc    eth    ltc    mon    nem   dash\n",
       "Date                                                       \n",
       "2015-09-06 -0.291 -1.261 -1.125 -0.946 -0.783 -0.776 -0.828\n",
       "2015-09-07 -0.314 -0.998  0.299 -0.803 -0.717 -0.739 -0.814\n",
       "2015-09-08 -0.345 -0.998  0.427 -0.825 -0.684 -0.693 -0.852\n",
       "2015-09-09 -0.353 -1.077  0.357 -0.915 -0.680 -0.772 -0.782\n",
       "2015-09-10 -0.343 -1.157 -0.378 -0.979 -0.619 -0.766 -0.845"
      ]
     },
     "execution_count": 3,
     "metadata": {},
     "output_type": "execute_result"
    }
   ],
   "source": [
    "# Init data and obtain covariance matrix.\n",
    "\n",
    "df_returns, X = load_returns_matrix(center=True, scale=True)\n",
    "n, p = X.shape\n",
    "C = np.cov(X, rowvar=False)  # covariance matrix\n",
    "assert n == len(df_returns.index)\n",
    "print('Number of returns in data: {}'.format(n))\n",
    "df_returns.head()"
   ]
  },
  {
   "cell_type": "code",
   "execution_count": 4,
   "metadata": {},
   "outputs": [
    {
     "name": "stdout",
     "output_type": "stream",
     "text": [
      "Shapes of SVD components:\n",
      "U: (794, 794)\n",
      "S: (794, 7)\n",
      "V: (7, 7)\n",
      "\n"
     ]
    }
   ],
   "source": [
    "# Get SVD breakdown, cast into matrices.\n",
    "U, s, V = np.linalg.svd(X)\n",
    "U = np.matrix(U)\n",
    "S = np.zeros((n, p))\n",
    "S[:p, :p] = np.diag(s)\n",
    "S = np.matrix(S)\n",
    "V = np.matrix(V).T\n",
    "eigvecs = [np.ravel(V[:,i]) for i in range(p)]\n",
    "\n",
    "print('Shapes of SVD components:')\n",
    "print('U: {}'.format(U.shape))\n",
    "print('S: {}'.format(S.shape))\n",
    "print('V: {}\\n'.format(V.shape))\n",
    "\n",
    "# Get eigenvalues through the singular values.\n",
    "eigvals = [(s_**2)/(n - 1) for s_ in s]"
   ]
  },
  {
   "cell_type": "code",
   "execution_count": 5,
   "metadata": {},
   "outputs": [
    {
     "name": "stdout",
     "output_type": "stream",
     "text": [
      "Norm[Xreconstr - X] = 0.00\n",
      "\n",
      "Norm[Creconstr - C] = 0.00\n",
      "\n"
     ]
    }
   ],
   "source": [
    "# Reconstruct data matrix X and covariance matrix C using SVD properties.\n",
    "# Check equality by looking at the norm of their difference.\n",
    "Xreconstr = U*S*V.T\n",
    "print('Norm[Xreconstr - X] = {:.2f}\\n'.format(np.linalg.norm(Xreconstr - X)))\n",
    "\n",
    "Creconstr = V*((S.T*S)/(n - 1))*V.T\n",
    "print('Norm[Creconstr - C] = {:.2f}\\n'.format(np.linalg.norm(Creconstr - C)))\n",
    "\n",
    "# Get principal components (n-by-p matrix).\n",
    "XV = X*V"
   ]
  },
  {
   "cell_type": "markdown",
   "metadata": {},
   "source": [
    "**Inner product should be 0 between all eigenvectors and principal components since they are orthogonal. Test this out for the first two eigenvectors and PCs.**"
   ]
  },
  {
   "cell_type": "code",
   "execution_count": 6,
   "metadata": {},
   "outputs": [
    {
     "name": "stdout",
     "output_type": "stream",
     "text": [
      "Inner product between 1st and 2nd eigenvectors: 0.00\n",
      "\n",
      "Inner product between 1st and 2nd PCs: 0.00\n",
      "\n"
     ]
    }
   ],
   "source": [
    "pc1, pc2 = np.ravel(XV[:, 0]), np.ravel(XV[:, 1])\n",
    "v1, v2 = np.ravel(V[:, 0]), np.ravel(V[:, 1])\n",
    "print('Inner product between 1st and 2nd eigenvectors: {:.2f}\\n'.format(\n",
    "      np.inner(v1, v2)))\n",
    "print('Inner product between 1st and 2nd PCs: {:.2f}\\n'.format(\n",
    "      np.inner(pc1, pc2)))"
   ]
  },
  {
   "cell_type": "code",
   "execution_count": 7,
   "metadata": {},
   "outputs": [],
   "source": [
    "# Create tables for proportion of variation and eigenvectors.\n",
    "df_variation_svd = create_proportion_of_variation_df(eigvals)\n",
    "df_eigvec_svd = create_eigvec_df(V)"
   ]
  },
  {
   "cell_type": "code",
   "execution_count": 8,
   "metadata": {},
   "outputs": [
    {
     "name": "stdout",
     "output_type": "stream",
     "text": [
      "Eigenvectors obtained from SVD\n"
     ]
    },
    {
     "data": {
      "text/html": [
       "<div>\n",
       "<style>\n",
       "    .dataframe thead tr:only-child th {\n",
       "        text-align: right;\n",
       "    }\n",
       "\n",
       "    .dataframe thead th {\n",
       "        text-align: left;\n",
       "    }\n",
       "\n",
       "    .dataframe tbody tr th {\n",
       "        vertical-align: top;\n",
       "    }\n",
       "</style>\n",
       "<table border=\"1\" class=\"dataframe\">\n",
       "  <thead>\n",
       "    <tr style=\"text-align: right;\">\n",
       "      <th></th>\n",
       "      <th>V1</th>\n",
       "      <th>V2</th>\n",
       "      <th>V3</th>\n",
       "      <th>V4</th>\n",
       "      <th>V5</th>\n",
       "      <th>V6</th>\n",
       "      <th>V7</th>\n",
       "    </tr>\n",
       "  </thead>\n",
       "  <tbody>\n",
       "    <tr>\n",
       "      <th>0</th>\n",
       "      <td>0.517</td>\n",
       "      <td>-0.237</td>\n",
       "      <td>0.105</td>\n",
       "      <td>-0.286</td>\n",
       "      <td>0.015</td>\n",
       "      <td>-0.013</td>\n",
       "      <td>-0.764</td>\n",
       "    </tr>\n",
       "    <tr>\n",
       "      <th>1</th>\n",
       "      <td>0.334</td>\n",
       "      <td>-0.150</td>\n",
       "      <td>-0.305</td>\n",
       "      <td>0.867</td>\n",
       "      <td>0.095</td>\n",
       "      <td>-0.064</td>\n",
       "      <td>-0.091</td>\n",
       "    </tr>\n",
       "    <tr>\n",
       "      <th>2</th>\n",
       "      <td>0.358</td>\n",
       "      <td>0.508</td>\n",
       "      <td>0.204</td>\n",
       "      <td>0.007</td>\n",
       "      <td>-0.228</td>\n",
       "      <td>-0.712</td>\n",
       "      <td>0.118</td>\n",
       "    </tr>\n",
       "    <tr>\n",
       "      <th>3</th>\n",
       "      <td>0.455</td>\n",
       "      <td>-0.309</td>\n",
       "      <td>0.065</td>\n",
       "      <td>-0.226</td>\n",
       "      <td>0.611</td>\n",
       "      <td>-0.087</td>\n",
       "      <td>0.511</td>\n",
       "    </tr>\n",
       "    <tr>\n",
       "      <th>4</th>\n",
       "      <td>0.137</td>\n",
       "      <td>0.327</td>\n",
       "      <td>-0.880</td>\n",
       "      <td>-0.311</td>\n",
       "      <td>0.056</td>\n",
       "      <td>0.027</td>\n",
       "      <td>-0.012</td>\n",
       "    </tr>\n",
       "    <tr>\n",
       "      <th>5</th>\n",
       "      <td>0.487</td>\n",
       "      <td>-0.063</td>\n",
       "      <td>0.037</td>\n",
       "      <td>-0.044</td>\n",
       "      <td>-0.640</td>\n",
       "      <td>0.472</td>\n",
       "      <td>0.351</td>\n",
       "    </tr>\n",
       "    <tr>\n",
       "      <th>6</th>\n",
       "      <td>0.174</td>\n",
       "      <td>0.676</td>\n",
       "      <td>0.274</td>\n",
       "      <td>0.130</td>\n",
       "      <td>0.390</td>\n",
       "      <td>0.508</td>\n",
       "      <td>-0.103</td>\n",
       "    </tr>\n",
       "  </tbody>\n",
       "</table>\n",
       "</div>"
      ],
      "text/plain": [
       "      V1     V2     V3     V4     V5     V6     V7\n",
       "0  0.517 -0.237  0.105 -0.286  0.015 -0.013 -0.764\n",
       "1  0.334 -0.150 -0.305  0.867  0.095 -0.064 -0.091\n",
       "2  0.358  0.508  0.204  0.007 -0.228 -0.712  0.118\n",
       "3  0.455 -0.309  0.065 -0.226  0.611 -0.087  0.511\n",
       "4  0.137  0.327 -0.880 -0.311  0.056  0.027 -0.012\n",
       "5  0.487 -0.063  0.037 -0.044 -0.640  0.472  0.351\n",
       "6  0.174  0.676  0.274  0.130  0.390  0.508 -0.103"
      ]
     },
     "execution_count": 8,
     "metadata": {},
     "output_type": "execute_result"
    }
   ],
   "source": [
    "print('Eigenvectors obtained from SVD')\n",
    "df_eigvec_svd"
   ]
  },
  {
   "cell_type": "code",
   "execution_count": 9,
   "metadata": {},
   "outputs": [
    {
     "name": "stdout",
     "output_type": "stream",
     "text": [
      "Eigenvectors obtained from sklearn PCA.components_\n"
     ]
    },
    {
     "data": {
      "text/plain": [
       "array([[ 0.517, -0.237, -0.105, -0.286, -0.015,  0.013,  0.764],\n",
       "       [ 0.334, -0.15 ,  0.305,  0.867, -0.095,  0.064,  0.091],\n",
       "       [ 0.358,  0.508, -0.204,  0.007,  0.228,  0.712, -0.118],\n",
       "       [ 0.455, -0.309, -0.065, -0.226, -0.611,  0.087, -0.511],\n",
       "       [ 0.137,  0.327,  0.88 , -0.311, -0.056, -0.027,  0.012],\n",
       "       [ 0.487, -0.063, -0.037, -0.044,  0.64 , -0.472, -0.351],\n",
       "       [ 0.174,  0.676, -0.274,  0.13 , -0.39 , -0.508,  0.103]])"
      ]
     },
     "execution_count": 9,
     "metadata": {},
     "output_type": "execute_result"
    }
   ],
   "source": [
    "# Print eigenvectors obtained using sklearn.\n",
    "\n",
    "pca = PCA().fit(X)\n",
    "sk_comp = pca.components_\n",
    "\n",
    "print('Eigenvectors obtained from sklearn PCA.components_')\n",
    "sk_comp.T"
   ]
  },
  {
   "cell_type": "code",
   "execution_count": 10,
   "metadata": {},
   "outputs": [
    {
     "name": "stdout",
     "output_type": "stream",
     "text": [
      "Variation Explained using Eigenvalues from SVD\n"
     ]
    },
    {
     "data": {
      "text/html": [
       "<div>\n",
       "<style>\n",
       "    .dataframe thead tr:only-child th {\n",
       "        text-align: right;\n",
       "    }\n",
       "\n",
       "    .dataframe thead th {\n",
       "        text-align: left;\n",
       "    }\n",
       "\n",
       "    .dataframe tbody tr th {\n",
       "        vertical-align: top;\n",
       "    }\n",
       "</style>\n",
       "<table border=\"1\" class=\"dataframe\">\n",
       "  <thead>\n",
       "    <tr style=\"text-align: right;\">\n",
       "      <th></th>\n",
       "      <th>eigenvalue</th>\n",
       "      <th>proportion</th>\n",
       "      <th>cumulative</th>\n",
       "    </tr>\n",
       "    <tr>\n",
       "      <th>component</th>\n",
       "      <th></th>\n",
       "      <th></th>\n",
       "      <th></th>\n",
       "    </tr>\n",
       "  </thead>\n",
       "  <tbody>\n",
       "    <tr>\n",
       "      <th>1</th>\n",
       "      <td>2.657</td>\n",
       "      <td>0.379</td>\n",
       "      <td>0.379</td>\n",
       "    </tr>\n",
       "    <tr>\n",
       "      <th>2</th>\n",
       "      <td>1.376</td>\n",
       "      <td>0.196</td>\n",
       "      <td>0.575</td>\n",
       "    </tr>\n",
       "    <tr>\n",
       "      <th>3</th>\n",
       "      <td>0.941</td>\n",
       "      <td>0.134</td>\n",
       "      <td>0.710</td>\n",
       "    </tr>\n",
       "    <tr>\n",
       "      <th>4</th>\n",
       "      <td>0.769</td>\n",
       "      <td>0.110</td>\n",
       "      <td>0.819</td>\n",
       "    </tr>\n",
       "    <tr>\n",
       "      <th>5</th>\n",
       "      <td>0.564</td>\n",
       "      <td>0.080</td>\n",
       "      <td>0.900</td>\n",
       "    </tr>\n",
       "    <tr>\n",
       "      <th>6</th>\n",
       "      <td>0.464</td>\n",
       "      <td>0.066</td>\n",
       "      <td>0.966</td>\n",
       "    </tr>\n",
       "    <tr>\n",
       "      <th>7</th>\n",
       "      <td>0.239</td>\n",
       "      <td>0.034</td>\n",
       "      <td>1.000</td>\n",
       "    </tr>\n",
       "  </tbody>\n",
       "</table>\n",
       "</div>"
      ],
      "text/plain": [
       "           eigenvalue  proportion  cumulative\n",
       "component                                    \n",
       "1               2.657       0.379       0.379\n",
       "2               1.376       0.196       0.575\n",
       "3               0.941       0.134       0.710\n",
       "4               0.769       0.110       0.819\n",
       "5               0.564       0.080       0.900\n",
       "6               0.464       0.066       0.966\n",
       "7               0.239       0.034       1.000"
      ]
     },
     "execution_count": 10,
     "metadata": {},
     "output_type": "execute_result"
    }
   ],
   "source": [
    "print('Variation Explained using Eigenvalues from SVD')\n",
    "df_variation_svd"
   ]
  },
  {
   "cell_type": "code",
   "execution_count": 11,
   "metadata": {},
   "outputs": [
    {
     "name": "stdout",
     "output_type": "stream",
     "text": [
      "Variation Explained using sklearn\n"
     ]
    },
    {
     "data": {
      "text/html": [
       "<div>\n",
       "<style>\n",
       "    .dataframe thead tr:only-child th {\n",
       "        text-align: right;\n",
       "    }\n",
       "\n",
       "    .dataframe thead th {\n",
       "        text-align: left;\n",
       "    }\n",
       "\n",
       "    .dataframe tbody tr th {\n",
       "        vertical-align: top;\n",
       "    }\n",
       "</style>\n",
       "<table border=\"1\" class=\"dataframe\">\n",
       "  <thead>\n",
       "    <tr style=\"text-align: right;\">\n",
       "      <th></th>\n",
       "      <th>eigenvalue</th>\n",
       "      <th>proportion</th>\n",
       "    </tr>\n",
       "    <tr>\n",
       "      <th>component</th>\n",
       "      <th></th>\n",
       "      <th></th>\n",
       "    </tr>\n",
       "  </thead>\n",
       "  <tbody>\n",
       "    <tr>\n",
       "      <th>1</th>\n",
       "      <td>2.657</td>\n",
       "      <td>0.379</td>\n",
       "    </tr>\n",
       "    <tr>\n",
       "      <th>2</th>\n",
       "      <td>1.376</td>\n",
       "      <td>0.196</td>\n",
       "    </tr>\n",
       "    <tr>\n",
       "      <th>3</th>\n",
       "      <td>0.941</td>\n",
       "      <td>0.134</td>\n",
       "    </tr>\n",
       "    <tr>\n",
       "      <th>4</th>\n",
       "      <td>0.769</td>\n",
       "      <td>0.110</td>\n",
       "    </tr>\n",
       "    <tr>\n",
       "      <th>5</th>\n",
       "      <td>0.564</td>\n",
       "      <td>0.080</td>\n",
       "    </tr>\n",
       "    <tr>\n",
       "      <th>6</th>\n",
       "      <td>0.464</td>\n",
       "      <td>0.066</td>\n",
       "    </tr>\n",
       "    <tr>\n",
       "      <th>7</th>\n",
       "      <td>0.239</td>\n",
       "      <td>0.034</td>\n",
       "    </tr>\n",
       "  </tbody>\n",
       "</table>\n",
       "</div>"
      ],
      "text/plain": [
       "           eigenvalue  proportion\n",
       "component                        \n",
       "1               2.657       0.379\n",
       "2               1.376       0.196\n",
       "3               0.941       0.134\n",
       "4               0.769       0.110\n",
       "5               0.564       0.080\n",
       "6               0.464       0.066\n",
       "7               0.239       0.034"
      ]
     },
     "execution_count": 11,
     "metadata": {},
     "output_type": "execute_result"
    }
   ],
   "source": [
    "print('Variation Explained using sklearn')\n",
    "idx = [i + 1 for i in range(p)]\n",
    "data = {'component': idx,\n",
    "       'eigenvalue': pca.explained_variance_,\n",
    "       'proportion': pca.explained_variance_ratio_}\n",
    "df_variation_sk = pd.DataFrame(data)\n",
    "df_variation_sk.set_index('component', drop=True, inplace=True)\n",
    "df_variation_sk"
   ]
  },
  {
   "cell_type": "code",
   "execution_count": 12,
   "metadata": {},
   "outputs": [
    {
     "data": {
      "text/plain": [
       "(794, 7)"
      ]
     },
     "execution_count": 12,
     "metadata": {},
     "output_type": "execute_result"
    }
   ],
   "source": [
    "# Get principal components using sklearn.\n",
    "XReduced_sk = pca.transform(X)\n",
    "XReduced_sk.shape"
   ]
  },
  {
   "cell_type": "markdown",
   "metadata": {},
   "source": [
    "### Comparing sklearn's PCA and SVD\n",
    "\n",
    "The principal components retrieved using `sklearn` and SVD should be the same.\n",
    "\n",
    "The following cell shows this is true for the first and second principal component."
   ]
  },
  {
   "cell_type": "code",
   "execution_count": 13,
   "metadata": {},
   "outputs": [
    {
     "name": "stdout",
     "output_type": "stream",
     "text": [
      "Norm of difference between sklearn's principal component and component created using SVD:\n",
      "PC1: 0.00\n",
      "PC2: 0.00\n"
     ]
    }
   ],
   "source": [
    "x1_reduced_sk = np.ravel(XReduced_sk[:,0])\n",
    "x2_reduced_sk = np.ravel(XReduced_sk[:,1])\n",
    "\n",
    "x1_reduced_diff = np.linalg.norm(x1_reduced_sk - pc1)\n",
    "x2_reduced_diff = np.linalg.norm(x2_reduced_sk - pc2)\n",
    "\n",
    "print(\"Norm of difference between sklearn's principal component and \" \\\n",
    "     \"component created using SVD:\")\n",
    "print('PC1: {:.2f}'.format(x1_reduced_diff))\n",
    "print('PC2: {:.2f}'.format(x2_reduced_diff))"
   ]
  },
  {
   "cell_type": "markdown",
   "metadata": {},
   "source": [
    "### Loadings"
   ]
  },
  {
   "cell_type": "code",
   "execution_count": 14,
   "metadata": {},
   "outputs": [
    {
     "data": {
      "text/html": [
       "<div>\n",
       "<style>\n",
       "    .dataframe thead tr:only-child th {\n",
       "        text-align: right;\n",
       "    }\n",
       "\n",
       "    .dataframe thead th {\n",
       "        text-align: left;\n",
       "    }\n",
       "\n",
       "    .dataframe tbody tr th {\n",
       "        vertical-align: top;\n",
       "    }\n",
       "</style>\n",
       "<table border=\"1\" class=\"dataframe\">\n",
       "  <thead>\n",
       "    <tr style=\"text-align: right;\">\n",
       "      <th></th>\n",
       "      <th>rip</th>\n",
       "      <th>btc</th>\n",
       "      <th>eth</th>\n",
       "      <th>ltc</th>\n",
       "      <th>mon</th>\n",
       "      <th>nem</th>\n",
       "      <th>dash</th>\n",
       "    </tr>\n",
       "    <tr>\n",
       "      <th>component</th>\n",
       "      <th></th>\n",
       "      <th></th>\n",
       "      <th></th>\n",
       "      <th></th>\n",
       "      <th></th>\n",
       "      <th></th>\n",
       "      <th></th>\n",
       "    </tr>\n",
       "  </thead>\n",
       "  <tbody>\n",
       "    <tr>\n",
       "      <th>1</th>\n",
       "      <td>0.844</td>\n",
       "      <td>0.391</td>\n",
       "      <td>0.347</td>\n",
       "      <td>0.399</td>\n",
       "      <td>0.103</td>\n",
       "      <td>0.331</td>\n",
       "      <td>0.085</td>\n",
       "    </tr>\n",
       "    <tr>\n",
       "      <th>2</th>\n",
       "      <td>-0.386</td>\n",
       "      <td>-0.176</td>\n",
       "      <td>0.492</td>\n",
       "      <td>-0.271</td>\n",
       "      <td>0.245</td>\n",
       "      <td>-0.043</td>\n",
       "      <td>0.330</td>\n",
       "    </tr>\n",
       "    <tr>\n",
       "      <th>3</th>\n",
       "      <td>0.171</td>\n",
       "      <td>-0.358</td>\n",
       "      <td>0.198</td>\n",
       "      <td>0.057</td>\n",
       "      <td>-0.660</td>\n",
       "      <td>0.025</td>\n",
       "      <td>0.134</td>\n",
       "    </tr>\n",
       "    <tr>\n",
       "      <th>4</th>\n",
       "      <td>-0.466</td>\n",
       "      <td>1.017</td>\n",
       "      <td>0.007</td>\n",
       "      <td>-0.198</td>\n",
       "      <td>-0.233</td>\n",
       "      <td>-0.030</td>\n",
       "      <td>0.064</td>\n",
       "    </tr>\n",
       "    <tr>\n",
       "      <th>5</th>\n",
       "      <td>0.024</td>\n",
       "      <td>0.111</td>\n",
       "      <td>-0.221</td>\n",
       "      <td>0.536</td>\n",
       "      <td>0.042</td>\n",
       "      <td>-0.436</td>\n",
       "      <td>0.191</td>\n",
       "    </tr>\n",
       "    <tr>\n",
       "      <th>6</th>\n",
       "      <td>-0.021</td>\n",
       "      <td>-0.075</td>\n",
       "      <td>-0.691</td>\n",
       "      <td>-0.076</td>\n",
       "      <td>0.020</td>\n",
       "      <td>0.321</td>\n",
       "      <td>0.248</td>\n",
       "    </tr>\n",
       "    <tr>\n",
       "      <th>7</th>\n",
       "      <td>-1.245</td>\n",
       "      <td>-0.106</td>\n",
       "      <td>0.114</td>\n",
       "      <td>0.448</td>\n",
       "      <td>-0.009</td>\n",
       "      <td>0.239</td>\n",
       "      <td>-0.051</td>\n",
       "    </tr>\n",
       "  </tbody>\n",
       "</table>\n",
       "</div>"
      ],
      "text/plain": [
       "             rip    btc    eth    ltc    mon    nem   dash\n",
       "component                                                 \n",
       "1          0.844  0.391  0.347  0.399  0.103  0.331  0.085\n",
       "2         -0.386 -0.176  0.492 -0.271  0.245 -0.043  0.330\n",
       "3          0.171 -0.358  0.198  0.057 -0.660  0.025  0.134\n",
       "4         -0.466  1.017  0.007 -0.198 -0.233 -0.030  0.064\n",
       "5          0.024  0.111 -0.221  0.536  0.042 -0.436  0.191\n",
       "6         -0.021 -0.075 -0.691 -0.076  0.020  0.321  0.248\n",
       "7         -1.245 -0.106  0.114  0.448 -0.009  0.239 -0.051"
      ]
     },
     "execution_count": 14,
     "metadata": {},
     "output_type": "execute_result"
    }
   ],
   "source": [
    "# Calc loadings and put into DataFrame.\n",
    "loadings = eigvecs * np.sqrt(np.abs(eigvals))\n",
    "idx = pd.Series([i + 1 for i in range(p)], name='component')\n",
    "\n",
    "df_loadings = pd.DataFrame(loadings, columns=df_returns.columns, index=idx)\n",
    "df_loadings"
   ]
  },
  {
   "cell_type": "code",
   "execution_count": null,
   "metadata": {},
   "outputs": [],
   "source": []
  }
 ],
 "metadata": {
  "kernelspec": {
   "display_name": "Python 3",
   "language": "python",
   "name": "python3"
  },
  "language_info": {
   "codemirror_mode": {
    "name": "ipython",
    "version": 3
   },
   "file_extension": ".py",
   "mimetype": "text/x-python",
   "name": "python",
   "nbconvert_exporter": "python",
   "pygments_lexer": "ipython3",
   "version": "3.5.2"
  }
 },
 "nbformat": 4,
 "nbformat_minor": 2
}

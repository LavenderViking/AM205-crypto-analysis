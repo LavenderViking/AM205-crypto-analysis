{
 "cells": [
  {
   "cell_type": "code",
   "execution_count": 1,
   "metadata": {
    "collapsed": false
   },
   "outputs": [],
   "source": [
    "import matplotlib as mpl\n",
    "import matplotlib.pyplot as plt\n",
    "import numpy as np\n",
    "import pandas as pd\n",
    "import sklearn.preprocessing as preprocessing\n",
    "import statsmodels.api as sm\n",
    "\n",
    "from datetime import datetime\n",
    "from IPython.display import display\n",
    "from itertools import combinations\n",
    "from matplotlib.ticker import MaxNLocator\n",
    "from numpy.testing import assert_almost_equal\n",
    "from sklearn.decomposition import PCA\n",
    "from statsmodels.stats.proportion import proportions_ztest\n",
    "\n",
    "# Custom output options.\n",
    "np.set_printoptions(precision=3, suppress=True)\n",
    "pd.set_option('display.precision', 3)\n",
    "\n",
    "%matplotlib inline\n",
    "\n",
    "CRYPTO_FILES = [('ripple_price', 'rip'), ('bitcoin_price', 'btc'),\n",
    "                ('ethereum_price', 'eth'), ('litecoin_price', 'ltc'),\n",
    "                ('monero_price', 'mon'), ('nem_price', 'nem'),\n",
    "                ('dash_price', 'dash')]\n",
    "\n",
    "XLE_FILES = [('COP_data', 'COP'), ('CVX_data', 'CVX'),\n",
    "                ('EOG_data', 'EOG'), ('OXY_data', 'OXY'),\n",
    "                ('PSX_data', 'PSX'), ('SLB_data', 'SLB'),\n",
    "                ('XOM_data', 'XOM')]"
   ]
  },
  {
   "cell_type": "code",
   "execution_count": 2,
   "metadata": {
    "collapsed": true
   },
   "outputs": [],
   "source": [
    "def load_returns_matrix (files, tdelta=pd.Timedelta(days=30), center=True, \n",
    "                         scale=True):\n",
    "    \"\"\"Returns cryptocurrency rolling returns in three formats for which \n",
    "    a price level is available for all the assets.\n",
    "    \n",
    "    Args:\n",
    "        files (list of tuples): (asset name, file path) tuples. Asset name \n",
    "            used in column headers for DF.\n",
    "        \n",
    "    Returns:\n",
    "        dfout (DataFrame): Returns without centering/scaling.\n",
    "        dfout_adj (DataFrame): Returns with centering/scaling (depending \n",
    "            on input vals for center and scale).\n",
    "        xout (np.matrix): Returns matrix with centering/scaling (depending \n",
    "            on args), i.e., without index or column names.\n",
    "    \"\"\"\n",
    "    dfs = []\n",
    "    for file, name in files:\n",
    "        path = 'cryptocurrencypricehistory//{}.csv'.format(file)\n",
    "        df = pd.read_csv(path, usecols=['Date', 'Close'])\n",
    "        df['Date'] = pd.to_datetime(df['Date'])\n",
    "        df = df[['Date', 'Close']]\n",
    "        df.set_index('Date', drop=True, inplace=True)\n",
    "        df.rename(columns={'Close':name}, inplace=True)\n",
    "        dfs.append(df)\n",
    "    dfout = pd.concat(dfs, axis=1, join='inner')\n",
    "    first_date = min(dfout.index)\n",
    "    last_date = max(dfout.index)\n",
    "    dfout = dfout.pct_change(periods=1, freq=tdelta)\n",
    "    dfout.dropna(axis=0, how='any', inplace=True)\n",
    "    xout = preprocessing.scale(dfout, axis=0, with_mean=center, with_std=scale)\n",
    "    dfout_adj = pd.DataFrame(xout, columns=dfout.columns, index=dfout.index)\n",
    "    return dfout, dfout_adj, np.matrix(xout)\n",
    "\n",
    "\n",
    "def load_xle_returns (files, tdelta=pd.Timedelta(days=30), center=True, \n",
    "                      scale=True):\n",
    "    \"\"\"Returns top XLE components' rolling returns in three formats.\n",
    "        \n",
    "    Args:\n",
    "        files (list of tuples): (asset name, file path) tuples. Asset name \n",
    "            used in column headers for DF.\n",
    "        \n",
    "    Returns:\n",
    "        dfout (DataFrame): Returns without centering/scaling.\n",
    "        dfout_adj (DataFrame): Returns with centering/scaling (depending \n",
    "            on input vals for center and scale).\n",
    "        xout (np.matrix): Returns matrix with centering/scaling (depending \n",
    "            on args), i.e., without index or column names.\n",
    "    \"\"\"\n",
    "    dfs = []\n",
    "    for file, name in files:\n",
    "        path = 'XLE//{}.csv'.format(file)\n",
    "        df = pd.read_csv(path, usecols=['Date', 'Close']).iloc[::-1]\n",
    "        df['Date'] = pd.to_datetime(df['Date'])\n",
    "        df = df[['Date', 'Close']]\n",
    "        df.set_index('Date', drop=True, inplace=True)\n",
    "        df.rename(columns={'Close':name}, inplace=True)\n",
    "        dfs.append(df)\n",
    "    dfout = pd.concat(dfs, axis=1, join='inner')\n",
    "    dfout = dfout.pct_change(periods=1, freq=tdelta)\n",
    "    dfout.dropna(axis=0, how='any', inplace=True)\n",
    "    xout = preprocessing.scale(dfout, axis=0, with_mean=center, with_std=scale)\n",
    "    dfout_adj = pd.DataFrame(xout, columns=dfout.columns, index=dfout.index)\n",
    "    return dfout, dfout_adj, np.matrix(xout)\n",
    "\n",
    "def create_proportion_of_variation_df (eigvals):\n",
    "    total_var = sum(eigvals)\n",
    "    cols = ['component', 'eigenvalue', 'proportion', 'cumulative']\n",
    "    df = pd.DataFrame(columns=cols)\n",
    "    cum = 0\n",
    "    for i, e in enumerate(eigvals):\n",
    "        cum += e\n",
    "        row = {'component':i + 1,\n",
    "               'eigenvalue':e,\n",
    "               'proportion':e/total_var,\n",
    "               'cumulative':cum/total_var}\n",
    "        df = df.append(row, ignore_index=True)\n",
    "    df['component'] = df['component'].astype(int)\n",
    "    df.set_index('component', drop=True, inplace=True)\n",
    "    return df\n",
    "\n",
    "\n",
    "def create_eigvec_df (eigvecs):\n",
    "    \"\"\"Create DataFrame of eigenvectors.\"\"\"\n",
    "    idx = [i + 1 for i in range(len(eigvecs))]\n",
    "    df = pd.DataFrame(index=idx)\n",
    "    for i, v in enumerate(eigvecs):\n",
    "        df['V{}'.format(i + 1)] = v\n",
    "    return df"
   ]
  },
  {
   "cell_type": "markdown",
   "metadata": {},
   "source": [
    "## Cryptocurrency returns analysis"
   ]
  },
  {
   "cell_type": "code",
   "execution_count": 3,
   "metadata": {
    "collapsed": false,
    "scrolled": true
   },
   "outputs": [
    {
     "name": "stdout",
     "output_type": "stream",
     "text": [
      "Number of returns in data: 794\n",
      "Analysis start date: 2015-09-06 00:00:00\n",
      "Analysis end date: 2017-11-07 00:00:00\n"
     ]
    }
   ],
   "source": [
    "# Init data and obtain covariance matrix.\n",
    "cryp_unadj, cryp_std, Xcryp = load_returns_matrix(CRYPTO_FILES,\n",
    "                                                  center=True, \n",
    "                                                  scale=True)\n",
    "\n",
    "analysis_start_dt = min(cryp_std.index)\n",
    "analysis_end_dt = max(cryp_std.index)\n",
    "\n",
    "n, p = Xcryp.shape\n",
    "C = np.cov(Xcryp, rowvar=False)  # covariance matrix\n",
    "assert n == len(cryp_std.index)\n",
    "print('Number of returns in data: {}'.format(n))\n",
    "print('Analysis start date: {}'.format(analysis_start_dt))\n",
    "print('Analysis end date: {}'.format(analysis_end_dt))"
   ]
  },
  {
   "cell_type": "code",
   "execution_count": 4,
   "metadata": {
    "collapsed": false
   },
   "outputs": [],
   "source": [
    "from numpy import array,identity,diagonal\n",
    "from math import sqrt\n",
    "\n",
    "def jacobi(A,tol = 1.0e-9): # Jacobi method\n",
    "\n",
    "    # Finds largest element and its indexes below the diagonal:\n",
    "    def getMax(A):\n",
    "        maxVal = 0.0\n",
    "\t# Only need to check lower triangle of matrix:\n",
    "        for i in range(len(A)-1):\n",
    "            for j in range(i+1,len(A)):\n",
    "                if abs(A[i,j]) >= maxVal:\n",
    "                    maxVal,k,l = abs(A[i,j]),i,j\n",
    "        return maxVal,k,l\n",
    "\n",
    "    # Performs one plane rotation to eliminate the largest element\n",
    "    # that is not on the diagonal.\n",
    "    # Input:\n",
    "    # A: square matrix that is initially the covariance matrix\n",
    "    # P: the eigenvector matrix that is initally the identity matrix\n",
    "    # \n",
    "    # Output (does not return the variables, changes by reference):\n",
    "    # A: has the eigenvalues on the diagonal\n",
    "    # P: stores the eigenvectors\n",
    "    # rotCount: stores how many rotations were performed:\n",
    "    def rotate(A,P,rotCount):\n",
    "\n",
    "        # Performs a rotation at locations (i,j) and (k,l) in matrix M:\n",
    "        # M : the matrix to perform rotation on\n",
    "        # i,j: location of first element to rotate\n",
    "        # k,l: location of second element to rotate\n",
    "        def rotatePair(M,i,j,k,l):\n",
    "            M_ij,M_kl = M[i,j],M[k,l]\n",
    "        \n",
    "            M[i,j] = M_ij - s*(M_kl+M_ij*tau)\n",
    "            M[k,l] = M_kl + s*(M_ij-M_kl*tau)\n",
    "        \n",
    "        # Size of matrix:\n",
    "        n = len(A)\n",
    "\n",
    "        # Get indexes of max element:  \n",
    "        maxVal,i,j = getMax(A)\n",
    "\n",
    "        # Matrix has converged if the maximum non-diagonal value is less than epsilon\n",
    "        # If we have performed 5*n^2 rotations and the matrix has not converged we return:\n",
    "        if maxVal < tol or rotCount==5*n**2: return\n",
    "\n",
    "        # Variables used for rotation:\n",
    "        theta = (A[j,j]-A[i,i])/(2*A[i,j])\n",
    "        t = np.sign(theta)/(abs(theta) + sqrt(theta**2 + 1.0))\n",
    "        c = 1.0/sqrt(1.0 + t**2);\n",
    "        s = t*c\n",
    "        tau = s/(1.0 + c)\n",
    "\n",
    "        # Rotation point and it's projection points on the diagonal:\n",
    "        A_ij = A[i,j]\n",
    "\n",
    "        # Case i)\n",
    "        A[i,j] = 0.0\n",
    "        \n",
    "        # Case ii)\n",
    "        A[i,i] = A[i,i]-t*A_ij\n",
    "        A[j,j] = A[j,j]+t*A_ij\n",
    "\n",
    "        # Case iii)\n",
    "        # Rotation of elements:\n",
    "        # Combines 3 cases of rotations (see picture TODO:):\n",
    "        # i)   r < i\n",
    "        # ii)  i < r < j\n",
    "        # iii) j < r\n",
    "        \n",
    "        for r in range(i):\n",
    "            rotatePair(A,r,i,r,j)\n",
    "        for r in range(i+1,j):\n",
    "            rotatePair(A,i,r,r,j)\n",
    "        for r in range(j+1,n):\n",
    "            rotatePair(A,i,r,j,r)\n",
    "        \n",
    "        # Update eigenvector matrix:\n",
    "        for r in range(n):\n",
    "            rotatePair(P,r,i,r,j)\n",
    "        \n",
    "        # Iterate until matrix converges:\n",
    "        rotate(A,P,rotCount+1)\n",
    "\n",
    "    # Initialize the eigenvector matrix:\n",
    "    n,P,rotCount = len(A),identity(len(A))*1.0,0\n",
    "\n",
    "    # Rotate until the matrix has converged:\n",
    "    rotate(A,P,rotCount)\n",
    "\n",
    "    if rotCount == 5*n**2:\n",
    "        print('The Jacobi method did not converge')\n",
    "\n",
    "    return diagonal(A),P\n"
   ]
  },
  {
   "cell_type": "code",
   "execution_count": 5,
   "metadata": {
    "collapsed": false
   },
   "outputs": [
    {
     "name": "stdout",
     "output_type": "stream",
     "text": [
      "indexes= [3, 6, 4, 1, 5, 2, 0]\n",
      "i= 0\n",
      "[[ 0.764  0.091 -0.118 -0.511  0.012 -0.351  0.103]\n",
      " [-0.286  0.867  0.007 -0.226 -0.311 -0.044  0.13 ]\n",
      " [ 0.013  0.064  0.712  0.087 -0.027 -0.472 -0.508]\n",
      " [ 0.517  0.334  0.358  0.455  0.137  0.487  0.174]\n",
      " [-0.105  0.305 -0.204 -0.065  0.88  -0.037 -0.274]\n",
      " [-0.015 -0.095  0.228 -0.611 -0.056  0.64  -0.39 ]\n",
      " [-0.237 -0.15   0.508 -0.309  0.327 -0.063  0.676]]\n",
      "i= 1\n",
      "[[ 0.517  0.334  0.358  0.455  0.137  0.487  0.174]\n",
      " [-0.286  0.867  0.007 -0.226 -0.311 -0.044  0.13 ]\n",
      " [ 0.013  0.064  0.712  0.087 -0.027 -0.472 -0.508]\n",
      " [ 0.517  0.334  0.358  0.455  0.137  0.487  0.174]\n",
      " [-0.105  0.305 -0.204 -0.065  0.88  -0.037 -0.274]\n",
      " [-0.015 -0.095  0.228 -0.611 -0.056  0.64  -0.39 ]\n",
      " [-0.237 -0.15   0.508 -0.309  0.327 -0.063  0.676]]\n",
      "i= 2\n",
      "[[ 0.517  0.334  0.358  0.455  0.137  0.487  0.174]\n",
      " [-0.237 -0.15   0.508 -0.309  0.327 -0.063  0.676]\n",
      " [ 0.013  0.064  0.712  0.087 -0.027 -0.472 -0.508]\n",
      " [ 0.517  0.334  0.358  0.455  0.137  0.487  0.174]\n",
      " [-0.105  0.305 -0.204 -0.065  0.88  -0.037 -0.274]\n",
      " [-0.015 -0.095  0.228 -0.611 -0.056  0.64  -0.39 ]\n",
      " [-0.237 -0.15   0.508 -0.309  0.327 -0.063  0.676]]\n",
      "i= 3\n",
      "[[ 0.517  0.334  0.358  0.455  0.137  0.487  0.174]\n",
      " [-0.237 -0.15   0.508 -0.309  0.327 -0.063  0.676]\n",
      " [-0.105  0.305 -0.204 -0.065  0.88  -0.037 -0.274]\n",
      " [ 0.517  0.334  0.358  0.455  0.137  0.487  0.174]\n",
      " [-0.105  0.305 -0.204 -0.065  0.88  -0.037 -0.274]\n",
      " [-0.015 -0.095  0.228 -0.611 -0.056  0.64  -0.39 ]\n",
      " [-0.237 -0.15   0.508 -0.309  0.327 -0.063  0.676]]\n",
      "i= 4\n",
      "[[ 0.517  0.334  0.358  0.455  0.137  0.487  0.174]\n",
      " [-0.237 -0.15   0.508 -0.309  0.327 -0.063  0.676]\n",
      " [-0.105  0.305 -0.204 -0.065  0.88  -0.037 -0.274]\n",
      " [-0.286  0.867  0.007 -0.226 -0.311 -0.044  0.13 ]\n",
      " [-0.105  0.305 -0.204 -0.065  0.88  -0.037 -0.274]\n",
      " [-0.015 -0.095  0.228 -0.611 -0.056  0.64  -0.39 ]\n",
      " [-0.237 -0.15   0.508 -0.309  0.327 -0.063  0.676]]\n",
      "i= 5\n",
      "[[ 0.517  0.334  0.358  0.455  0.137  0.487  0.174]\n",
      " [-0.237 -0.15   0.508 -0.309  0.327 -0.063  0.676]\n",
      " [-0.105  0.305 -0.204 -0.065  0.88  -0.037 -0.274]\n",
      " [-0.286  0.867  0.007 -0.226 -0.311 -0.044  0.13 ]\n",
      " [-0.015 -0.095  0.228 -0.611 -0.056  0.64  -0.39 ]\n",
      " [-0.015 -0.095  0.228 -0.611 -0.056  0.64  -0.39 ]\n",
      " [-0.237 -0.15   0.508 -0.309  0.327 -0.063  0.676]]\n",
      "i= 6\n",
      "[[ 0.517  0.334  0.358  0.455  0.137  0.487  0.174]\n",
      " [-0.237 -0.15   0.508 -0.309  0.327 -0.063  0.676]\n",
      " [-0.105  0.305 -0.204 -0.065  0.88  -0.037 -0.274]\n",
      " [-0.286  0.867  0.007 -0.226 -0.311 -0.044  0.13 ]\n",
      " [-0.015 -0.095  0.228 -0.611 -0.056  0.64  -0.39 ]\n",
      " [ 0.013  0.064  0.712  0.087 -0.027 -0.472 -0.508]\n",
      " [-0.237 -0.15   0.508 -0.309  0.327 -0.063  0.676]]\n",
      "[2.6573777970786576, 1.3761939225744024, 0.94070625242644068, 0.76868538699591182, 0.56351198020471571, 0.46350355182270092, 0.23884834723260506]\n",
      "[[ 0.517  0.334  0.358  0.455  0.137  0.487  0.174]\n",
      " [-0.237 -0.15   0.508 -0.309  0.327 -0.063  0.676]\n",
      " [-0.105  0.305 -0.204 -0.065  0.88  -0.037 -0.274]\n",
      " [-0.286  0.867  0.007 -0.226 -0.311 -0.044  0.13 ]\n",
      " [-0.015 -0.095  0.228 -0.611 -0.056  0.64  -0.39 ]\n",
      " [ 0.013  0.064  0.712  0.087 -0.027 -0.472 -0.508]\n",
      " [ 0.764  0.091 -0.118 -0.511  0.012 -0.351  0.103]]\n"
     ]
    }
   ],
   "source": [
    "\n",
    "\n",
    "from copy import deepcopy\n",
    "# Jacobi method\n",
    "# Performs a series of plane rotations to calculate eigenvalues and\n",
    "# eigenvectors of a matrix, A. Iteratively finds the largest element\n",
    "# and makes it zero by performing a plane rotation on the rows and columns\n",
    "# where the largest element is located.\n",
    "#\n",
    "# Return:\n",
    "# Returns eigenvalues for matrix A and the corresponding eigenvectors.\n",
    "def jacobi(A,tol = 1.0e-9): # Jacobi method\n",
    "\n",
    "    # Sorts the eigenvalues and keeps the order of the corresponding\n",
    "    # eigenvectors.\n",
    "    def sortResults(values,vectors):\n",
    "        vectors = vectors.T\n",
    "        \n",
    "        indexes = list(reversed(np.argsort(values)))\n",
    "        print(\"indexes=\",indexes)\n",
    "        values = sorted(values,reverse=True)\n",
    "        \n",
    "        temp = deepcopy(vectors)\n",
    "        \n",
    "        for i in range(len(vectors)):\n",
    "            print(\"i=\",i)\n",
    "            print(vectors)\n",
    "            vectors[i][:] = temp[indexes[i]][:]\n",
    "        \n",
    "        return (values,vectors)\n",
    "\n",
    "    # Finds largest element and its indexes above the diagonal:\n",
    "    def getMax(A):\n",
    "        maxVal = 0.0\n",
    "        # Only need to check upper triangle of matrix:\n",
    "        for i in range(len(A)-1):\n",
    "            for j in range(i+1,len(A)):\n",
    "                if abs(A[i,j]) >= maxVal:\n",
    "                    maxVal,k,l = abs(A[i,j]),i,j\n",
    "        return maxVal,k,l\n",
    "\n",
    "    # Performs one plane rotation to eliminate the largest element\n",
    "    # that is not on the diagonal.\n",
    "    # Input:\n",
    "    # A: square matrix that is initially the covariance matrix\n",
    "    # P: the eigenvector matrix that is initally the identity matrix\n",
    "    # \n",
    "    # Output (does not return the variables; changes by reference):\n",
    "    # A: has the eigenvalues on the diagonal\n",
    "    # P: stores the eigenvectors\n",
    "    # rotCount: stores how many rotations were performed:\n",
    "    def rotate(A,P,rotCount):\n",
    "\n",
    "        # Performs a rotation at locations (i,j) and (k,l) in matrix M:\n",
    "        # M : the matrix to perform rotation on\n",
    "        # i,j: location of first element to rotate\n",
    "        # k,l: location of second element to rotate\n",
    "        def rotatePair(M,i,j,k,l):\n",
    "            M_ij,M_kl = M[i,j],M[k,l]\n",
    "        \n",
    "            M[i,j] = M_ij - s*(M_kl+M_ij*tau)\n",
    "            M[k,l] = M_kl + s*(M_ij-M_kl*tau)\n",
    "        \n",
    "        # Size of matrix:\n",
    "        n = len(A)\n",
    "\n",
    "        # Get indexes of max element:  \n",
    "        maxVal,i,j = getMax(A)\n",
    "\n",
    "        # Matrix has converged if the maximum non-diagonal value is less than epsilon\n",
    "        # If we have performed 5*n^2 rotations and the matrix has not converged we return:\n",
    "        if maxVal < tol or rotCount==5*n**2:\n",
    "            return\n",
    "\n",
    "        # Variables used for rotation:\n",
    "        theta = (A[j,j]-A[i,i])/(2*A[i,j])\n",
    "        t = np.sign(theta)/(abs(theta) + sqrt(theta**2 + 1.0))\n",
    "        c = 1.0/sqrt(1.0 + t**2);\n",
    "        s = t*c\n",
    "        tau = s/(1.0 + c)\n",
    "\n",
    "        # Rotation point and it's projection points on the diagonal:\n",
    "        A_ij = A[i,j]\n",
    "\n",
    "        # Case i)\n",
    "        A[i,j] = 0.0\n",
    "        \n",
    "        # Case ii)\n",
    "        A[i,i] = A[i,i]-t*A_ij\n",
    "        A[j,j] = A[j,j]+t*A_ij\n",
    "\n",
    "        # Case iii)\n",
    "        # Rotation of elements:\n",
    "        # Combines types of rotations (see picture in PDF):\n",
    "        \n",
    "        for r in range(i): # i)   r < i\n",
    "            rotatePair(A,r,i,r,j)\n",
    "        for r in range(i+1,j): # ii)  i < r < j\n",
    "            rotatePair(A,i,r,r,j)\n",
    "        for r in range(j+1,n): # iii) j < r\n",
    "            rotatePair(A,i,r,j,r)\n",
    "        \n",
    "        # Update eigenvector matrix:\n",
    "        for r in range(n):\n",
    "            rotatePair(P,r,i,r,j)\n",
    "        \n",
    "        # Iterate until matrix converges:\n",
    "        rotate(A,P,rotCount+1)\n",
    "\n",
    "    # Initialize the eigenvector matrix:\n",
    "    n,P,rotCount = len(A),identity(len(A))*1.0,0\n",
    "\n",
    "    # Rotate until the matrix has converged:\n",
    "    rotate(A,P,rotCount)\n",
    "\n",
    "    if rotCount == 5*n**2:\n",
    "        print('The Jacobi method did not converge')\n",
    "\n",
    "    A,P = sortResults(diagonal(A),P)\n",
    "    return A,P\n",
    "\n",
    "cov = np.cov(Xcryp, rowvar=False)\n",
    "\n",
    "values,vectors = jacobi(cov,tol = 1.0e-9)\n",
    "print(values)\n",
    "print(vectors)"
   ]
  },
  {
   "cell_type": "code",
   "execution_count": 6,
   "metadata": {
    "collapsed": false
   },
   "outputs": [
    {
     "name": "stdout",
     "output_type": "stream",
     "text": [
      "[2.6573777970786576, 1.3761939225744024, 0.94070625242644068, 0.76868538699591182, 0.56351198020471571, 0.46350355182270092, 0.23884834723260506]\n",
      "[[-0.286  0.867  0.007 -0.226 -0.311 -0.044  0.13 ]\n",
      " [ 0.764  0.091 -0.118 -0.511  0.012 -0.351  0.103]\n",
      " [-0.015 -0.095  0.228 -0.611 -0.056  0.64  -0.39 ]\n",
      " [-0.237 -0.15   0.508 -0.309  0.327 -0.063  0.676]\n",
      " [ 0.013  0.064  0.712  0.087 -0.027 -0.472 -0.508]\n",
      " [-0.105  0.305 -0.204 -0.065  0.88  -0.037 -0.274]\n",
      " [ 0.517  0.334  0.358  0.455  0.137  0.487  0.174]]\n"
     ]
    }
   ],
   "source": [
    "from copy import deepcopy\n",
    "# Jacobi method\n",
    "# Performs a series of plane rotations to calculate eigenvalues and\n",
    "# eigenvectors of a matrix, A. Iteratively finds the largest element\n",
    "# and makes it zero by performing a plane rotation on the rows and columns\n",
    "# where the largest element is located.\n",
    "#\n",
    "# Return:\n",
    "# Returns eigenvalues for matrix A and the corresponding eigenvectors.\n",
    "def jacobi(A,tol = 1.0e-9): # Jacobi method\n",
    "\n",
    "    # Sorts the eigenvalues and keeps the order of the corresponding\n",
    "    # eigenvectors.\n",
    "    # Output:\n",
    "    # Eigenvalues in sorted order\n",
    "    # Eigenvectors in corresponding order\n",
    "    def sortResults(values,vectors):\n",
    "        # Column vectors represent the eigenvectors:\n",
    "        vectors = vectors.T\n",
    "        \n",
    "        indexes = list(reversed(np.argsort(values)))\n",
    "\n",
    "        values = sorted(values,reverse=True)\n",
    "        \n",
    "        temp = deepcopy(vectors)\n",
    "        \n",
    "        for i in range(len(vectors)):\n",
    "            vectors[i][:] = temp[indexes[i]][:]\n",
    "        \n",
    "        return (values,vectors)\n",
    "\n",
    "    # Finds largest element and its indexes above the diagonal:\n",
    "    def getMax(A):\n",
    "        maxVal = 0.0\n",
    "        # Only need to check upper triangle of matrix:\n",
    "        for i in range(len(A)-1):\n",
    "            for j in range(i+1,len(A)):\n",
    "                if abs(A[i,j]) >= maxVal:\n",
    "                    maxVal,k,l = abs(A[i,j]),i,j\n",
    "        return maxVal,k,l\n",
    "\n",
    "    # Performs one plane rotation to eliminate the largest element\n",
    "    # that is not on the diagonal.\n",
    "    # Input:\n",
    "    # A: square matrix that is initially the covariance matrix\n",
    "    # P: the eigenvector matrix that is initally the identity matrix\n",
    "    # \n",
    "    # Output (does not return the variables; changes by reference):\n",
    "    # A: has the eigenvalues on the diagonal\n",
    "    # P: stores the eigenvectors\n",
    "    # rotCount: stores how many rotations were performed:\n",
    "    def rotate(A,P,rotCount):\n",
    "\n",
    "        # Performs a rotation at locations (i,j) and (k,l) in matrix M:\n",
    "        # M : the matrix to perform rotation on\n",
    "        # i,j: location of first element to rotate\n",
    "        # k,l: location of second element to rotate\n",
    "        def rotatePair(M,i,j,k,l):\n",
    "            M_ij,M_kl = M[i,j],M[k,l]\n",
    "        \n",
    "            M[i,j] = M_ij - s*(M_kl+M_ij*tau)\n",
    "            M[k,l] = M_kl + s*(M_ij-M_kl*tau)\n",
    "        \n",
    "        # Size of matrix:\n",
    "        n = len(A)\n",
    "\n",
    "        # Get indexes of max element:  \n",
    "        maxVal,i,j = getMax(A)\n",
    "\n",
    "        # Matrix has converged if the maximum non-diagonal value is less than epsilon\n",
    "        # If we have performed 5*n^2 rotations and the matrix has not converged we return:\n",
    "        if maxVal < tol or rotCount==5*n**2:\n",
    "            A,P = sortResults(diagonal(A),P)\n",
    "            return\n",
    "\n",
    "        # Variables used for rotation:\n",
    "        theta = (A[j,j]-A[i,i])/(2*A[i,j])\n",
    "        t = np.sign(theta)/(abs(theta) + sqrt(theta**2 + 1.0))\n",
    "        c = 1.0/sqrt(1.0 + t**2);\n",
    "        s = t*c\n",
    "        tau = s/(1.0 + c)\n",
    "\n",
    "        # Rotation point and it's projection points on the diagonal:\n",
    "        A_ij = A[i,j]\n",
    "\n",
    "        # Case i)\n",
    "        A[i,j] = 0.0\n",
    "        \n",
    "        # Case ii)\n",
    "        A[i,i] = A[i,i]-t*A_ij\n",
    "        A[j,j] = A[j,j]+t*A_ij\n",
    "\n",
    "        # Case iii)\n",
    "        # Rotation of elements:\n",
    "        # Combines types of rotations (see picture in PDF):\n",
    "        \n",
    "        for r in range(i): # i)   r < i\n",
    "            rotatePair(A,r,i,r,j)\n",
    "        for r in range(i+1,j): # ii)  i < r < j\n",
    "            rotatePair(A,i,r,r,j)\n",
    "        for r in range(j+1,n): # iii) j < r\n",
    "            rotatePair(A,i,r,j,r)\n",
    "        \n",
    "        # Update eigenvector matrix:\n",
    "        for r in range(n):\n",
    "            rotatePair(P,r,i,r,j)\n",
    "        \n",
    "        # Iterate until matrix converges:\n",
    "        rotate(A,P,rotCount+1)\n",
    "\n",
    "    # Initialize the eigenvector matrix:\n",
    "    n,P,rotCount = len(A),identity(len(A))*1.0,0\n",
    "\n",
    "    # Rotate until the matrix has converged:\n",
    "    rotate(A,P,rotCount)\n",
    "\n",
    "    if rotCount == 5*n**2:\n",
    "        print('The Jacobi method did not converge')\n",
    "\n",
    "    A,P = sortResults(diagonal(A),P)\n",
    "    return A,P\n",
    "\n",
    "cov = np.cov(Xcryp, rowvar=False)\n",
    "\n",
    "values,vectors = jacobi(cov,tol = 1.0e-9)\n",
    "print(values)\n",
    "print(vectors)"
   ]
  },
  {
   "cell_type": "code",
   "execution_count": 7,
   "metadata": {
    "collapsed": false
   },
   "outputs": [
    {
     "name": "stdout",
     "output_type": "stream",
     "text": [
      "[ 0.239  0.769  0.464  2.657  0.941  0.564  1.376]\n",
      "indexes= [3, 6, 4, 1, 5, 2, 0]\n",
      "i= 0\n",
      "[[ 0.764  0.091 -0.118 -0.511  0.012 -0.351  0.103]\n",
      " [-0.286  0.867  0.007 -0.226 -0.311 -0.044  0.13 ]\n",
      " [ 0.013  0.064  0.712  0.087 -0.027 -0.472 -0.508]\n",
      " [ 0.517  0.334  0.358  0.455  0.137  0.487  0.174]\n",
      " [-0.105  0.305 -0.204 -0.065  0.88  -0.037 -0.274]\n",
      " [-0.015 -0.095  0.228 -0.611 -0.056  0.64  -0.39 ]\n",
      " [-0.237 -0.15   0.508 -0.309  0.327 -0.063  0.676]]\n",
      "i= 1\n",
      "[[ 0.517  0.334  0.358  0.455  0.137  0.487  0.174]\n",
      " [-0.286  0.867  0.007 -0.226 -0.311 -0.044  0.13 ]\n",
      " [ 0.013  0.064  0.712  0.087 -0.027 -0.472 -0.508]\n",
      " [ 0.517  0.334  0.358  0.455  0.137  0.487  0.174]\n",
      " [-0.105  0.305 -0.204 -0.065  0.88  -0.037 -0.274]\n",
      " [-0.015 -0.095  0.228 -0.611 -0.056  0.64  -0.39 ]\n",
      " [-0.237 -0.15   0.508 -0.309  0.327 -0.063  0.676]]\n",
      "i= 2\n",
      "[[ 0.517  0.334  0.358  0.455  0.137  0.487  0.174]\n",
      " [-0.237 -0.15   0.508 -0.309  0.327 -0.063  0.676]\n",
      " [ 0.013  0.064  0.712  0.087 -0.027 -0.472 -0.508]\n",
      " [ 0.517  0.334  0.358  0.455  0.137  0.487  0.174]\n",
      " [-0.105  0.305 -0.204 -0.065  0.88  -0.037 -0.274]\n",
      " [-0.015 -0.095  0.228 -0.611 -0.056  0.64  -0.39 ]\n",
      " [-0.237 -0.15   0.508 -0.309  0.327 -0.063  0.676]]\n",
      "i= 3\n",
      "[[ 0.517  0.334  0.358  0.455  0.137  0.487  0.174]\n",
      " [-0.237 -0.15   0.508 -0.309  0.327 -0.063  0.676]\n",
      " [-0.105  0.305 -0.204 -0.065  0.88  -0.037 -0.274]\n",
      " [ 0.517  0.334  0.358  0.455  0.137  0.487  0.174]\n",
      " [-0.105  0.305 -0.204 -0.065  0.88  -0.037 -0.274]\n",
      " [-0.015 -0.095  0.228 -0.611 -0.056  0.64  -0.39 ]\n",
      " [-0.237 -0.15   0.508 -0.309  0.327 -0.063  0.676]]\n",
      "i= 4\n",
      "[[ 0.517  0.334  0.358  0.455  0.137  0.487  0.174]\n",
      " [-0.237 -0.15   0.508 -0.309  0.327 -0.063  0.676]\n",
      " [-0.105  0.305 -0.204 -0.065  0.88  -0.037 -0.274]\n",
      " [-0.286  0.867  0.007 -0.226 -0.311 -0.044  0.13 ]\n",
      " [-0.105  0.305 -0.204 -0.065  0.88  -0.037 -0.274]\n",
      " [-0.015 -0.095  0.228 -0.611 -0.056  0.64  -0.39 ]\n",
      " [-0.237 -0.15   0.508 -0.309  0.327 -0.063  0.676]]\n",
      "i= 5\n",
      "[[ 0.517  0.334  0.358  0.455  0.137  0.487  0.174]\n",
      " [-0.237 -0.15   0.508 -0.309  0.327 -0.063  0.676]\n",
      " [-0.105  0.305 -0.204 -0.065  0.88  -0.037 -0.274]\n",
      " [-0.286  0.867  0.007 -0.226 -0.311 -0.044  0.13 ]\n",
      " [-0.015 -0.095  0.228 -0.611 -0.056  0.64  -0.39 ]\n",
      " [-0.015 -0.095  0.228 -0.611 -0.056  0.64  -0.39 ]\n",
      " [-0.237 -0.15   0.508 -0.309  0.327 -0.063  0.676]]\n",
      "i= 6\n",
      "[[ 0.517  0.334  0.358  0.455  0.137  0.487  0.174]\n",
      " [-0.237 -0.15   0.508 -0.309  0.327 -0.063  0.676]\n",
      " [-0.105  0.305 -0.204 -0.065  0.88  -0.037 -0.274]\n",
      " [-0.286  0.867  0.007 -0.226 -0.311 -0.044  0.13 ]\n",
      " [-0.015 -0.095  0.228 -0.611 -0.056  0.64  -0.39 ]\n",
      " [ 0.013  0.064  0.712  0.087 -0.027 -0.472 -0.508]\n",
      " [-0.237 -0.15   0.508 -0.309  0.327 -0.063  0.676]]\n",
      "[2.6573777970786576, 1.3761939225744024, 0.94070625242644068, 0.76868538699591182, 0.56351198020471571, 0.46350355182270092, 0.23884834723260506]\n",
      "[[ 0.517  0.334  0.358  0.455  0.137  0.487  0.174]\n",
      " [-0.237 -0.15   0.508 -0.309  0.327 -0.063  0.676]\n",
      " [-0.105  0.305 -0.204 -0.065  0.88  -0.037 -0.274]\n",
      " [-0.286  0.867  0.007 -0.226 -0.311 -0.044  0.13 ]\n",
      " [-0.015 -0.095  0.228 -0.611 -0.056  0.64  -0.39 ]\n",
      " [ 0.013  0.064  0.712  0.087 -0.027 -0.472 -0.508]\n",
      " [ 0.764  0.091 -0.118 -0.511  0.012 -0.351  0.103]]\n"
     ]
    }
   ],
   "source": [
    "def jacobi(A,tol = 1.0e-9): # Jacobi method\n",
    "    \n",
    "    # Sorts the eigenvalues and keeps the order of the corresponding\n",
    "    # eigenvectors.\n",
    "    def sortResults(values,vectors):\n",
    "        vectors = vectors.T\n",
    "        \n",
    "        indexes = list(reversed(np.argsort(values)))\n",
    "        print(values)\n",
    "        print(\"indexes=\",indexes)\n",
    "        values = sorted(values,reverse=True)\n",
    "        \n",
    "        temp = deepcopy(vectors)\n",
    "        \n",
    "        for i in range(len(vectors)):\n",
    "            print(\"i=\",i)\n",
    "            print(vectors)\n",
    "            vectors[i][:] = temp[indexes[i]][:]\n",
    "        \n",
    "        return (values,vectors)\n",
    "    \n",
    "    # Finds largest element and its indexes above the diagonal:\n",
    "    def getMax(A):\n",
    "        maxVal = 0.0\n",
    "        # Only need to check upper triangle of matrix:\n",
    "        for i in range(len(A)-1):\n",
    "            for j in range(i+1,len(A)):\n",
    "                if abs(A[i,j]) >= maxVal:\n",
    "                    maxVal,k,l = abs(A[i,j]),i,j\n",
    "        return maxVal,k,l\n",
    "    \n",
    "    # Performs one plane rotation to eliminate the largest element\n",
    "    # that is not on the diagonal.\n",
    "    # Input:\n",
    "    # A: square matrix that is initially the covariance matrix\n",
    "    # P: the eigenvector matrix that is initally the identity matrix\n",
    "    #\n",
    "    # Output (does not return the variables; changes by reference):\n",
    "    # A: has the eigenvalues on the diagonal\n",
    "    # P: stores the eigenvectors\n",
    "    # rotCount: stores how many rotations were performed:\n",
    "    def rotate(A,P,rotCount):\n",
    "        \n",
    "        # Performs a rotation at locations (i,j) and (k,l) in matrix M:\n",
    "        # M : the matrix to perform rotation on\n",
    "        # i,j: location of first element to rotate\n",
    "        # k,l: location of second element to rotate\n",
    "        def rotatePair(M,i,j,k,l):\n",
    "            M_ij,M_kl = M[i,j],M[k,l]\n",
    "            \n",
    "            M[i,j] = M_ij - s*(M_kl+M_ij*tau)\n",
    "            M[k,l] = M_kl + s*(M_ij-M_kl*tau)\n",
    "        \n",
    "        # Size of matrix:\n",
    "        n = len(A)\n",
    "        \n",
    "        # Get indexes of max element:\n",
    "        maxVal,i,j = getMax(A)\n",
    "        \n",
    "        # Matrix has converged if the maximum non-diagonal value is less than epsilon\n",
    "        # If we have performed 5*n^2 rotations and the matrix has not converged we return:\n",
    "        if maxVal < tol or rotCount==5*n**2:\n",
    "            return\n",
    "        \n",
    "        # Variables used for rotation:\n",
    "        theta = (A[j,j]-A[i,i])/(2*A[i,j])\n",
    "        t = np.sign(theta)/(abs(theta) + sqrt(theta**2 + 1.0))\n",
    "        c = 1.0/sqrt(1.0 + t**2);\n",
    "        s = t*c\n",
    "        tau = s/(1.0 + c)\n",
    "        \n",
    "        # Rotation point and it's projection points on the diagonal:\n",
    "        A_ij = A[i,j]\n",
    "        \n",
    "        # Case i)\n",
    "        A[i,j] = 0.0\n",
    "        \n",
    "        # Case ii)\n",
    "        A[i,i] = A[i,i]-t*A_ij\n",
    "        A[j,j] = A[j,j]+t*A_ij\n",
    "        \n",
    "        # Case iii)\n",
    "        # Rotation of elements:\n",
    "        # Combines types of rotations (see picture in PDF):\n",
    "        \n",
    "        for r in range(i): # i)   r < i\n",
    "            rotatePair(A,r,i,r,j)\n",
    "        for r in range(i+1,j): # ii)  i < r < j\n",
    "            rotatePair(A,i,r,r,j)\n",
    "        for r in range(j+1,n): # iii) j < r\n",
    "            rotatePair(A,i,r,j,r)\n",
    "        \n",
    "        # Update eigenvector matrix:\n",
    "        for r in range(n):\n",
    "            rotatePair(P,r,i,r,j)\n",
    "        \n",
    "        # Iterate until matrix converges:\n",
    "        rotate(A,P,rotCount+1)\n",
    "    \n",
    "    # Initialize the eigenvector matrix:\n",
    "    n,P,rotCount = len(A),identity(len(A))*1.0,0\n",
    "    \n",
    "    # Rotate until the matrix has converged:\n",
    "    rotate(A,P,rotCount)\n",
    "    \n",
    "    if rotCount == 5*n**2:\n",
    "        print('The Jacobi method did not converge')\n",
    "    \n",
    "    A,P = sortResults(diagonal(A),P)\n",
    "    return A,P\n",
    "\n",
    "cov = np.cov(Xcryp, rowvar=False)\n",
    "\n",
    "A,P = jacobi(cov,tol = 1.0e-9)\n",
    "print(A)\n",
    "print(P)"
   ]
  },
  {
   "cell_type": "code",
   "execution_count": 10,
   "metadata": {
    "collapsed": false
   },
   "outputs": [
    {
     "name": "stdout",
     "output_type": "stream",
     "text": [
      "[[ 1.001  0.305  0.326  0.695  0.066  0.631  0.037]\n",
      " [ 0.305  1.001  0.165  0.323  0.102  0.349  0.031]\n",
      " [ 0.326  0.165  1.001  0.192  0.172  0.361  0.471]\n",
      " [ 0.695  0.323  0.192  1.001  0.044  0.428  0.018]\n",
      " [ 0.066  0.102  0.172  0.044  1.001  0.114  0.129]\n",
      " [ 0.631  0.349  0.361  0.428  0.114  1.001  0.133]\n",
      " [ 0.037  0.031  0.471  0.018  0.129  0.133  1.001]]\n",
      "[ 0.239  0.769  0.464  2.657  0.941  0.564  1.376]\n",
      "indexes= [3, 6, 4, 1, 5, 2, 0]\n",
      "i= 0\n",
      "[[ 0.764  0.091 -0.118 -0.511  0.012 -0.351  0.103]\n",
      " [-0.286  0.867  0.007 -0.226 -0.311 -0.044  0.13 ]\n",
      " [ 0.013  0.064  0.712  0.087 -0.027 -0.472 -0.508]\n",
      " [ 0.517  0.334  0.358  0.455  0.137  0.487  0.174]\n",
      " [-0.105  0.305 -0.204 -0.065  0.88  -0.037 -0.274]\n",
      " [-0.015 -0.095  0.228 -0.611 -0.056  0.64  -0.39 ]\n",
      " [-0.237 -0.15   0.508 -0.309  0.327 -0.063  0.676]]\n",
      "i= 1\n",
      "[[ 0.517  0.334  0.358  0.455  0.137  0.487  0.174]\n",
      " [-0.286  0.867  0.007 -0.226 -0.311 -0.044  0.13 ]\n",
      " [ 0.013  0.064  0.712  0.087 -0.027 -0.472 -0.508]\n",
      " [ 0.517  0.334  0.358  0.455  0.137  0.487  0.174]\n",
      " [-0.105  0.305 -0.204 -0.065  0.88  -0.037 -0.274]\n",
      " [-0.015 -0.095  0.228 -0.611 -0.056  0.64  -0.39 ]\n",
      " [-0.237 -0.15   0.508 -0.309  0.327 -0.063  0.676]]\n",
      "i= 2\n",
      "[[ 0.517  0.334  0.358  0.455  0.137  0.487  0.174]\n",
      " [-0.237 -0.15   0.508 -0.309  0.327 -0.063  0.676]\n",
      " [ 0.013  0.064  0.712  0.087 -0.027 -0.472 -0.508]\n",
      " [ 0.517  0.334  0.358  0.455  0.137  0.487  0.174]\n",
      " [-0.105  0.305 -0.204 -0.065  0.88  -0.037 -0.274]\n",
      " [-0.015 -0.095  0.228 -0.611 -0.056  0.64  -0.39 ]\n",
      " [-0.237 -0.15   0.508 -0.309  0.327 -0.063  0.676]]\n",
      "i= 3\n",
      "[[ 0.517  0.334  0.358  0.455  0.137  0.487  0.174]\n",
      " [-0.237 -0.15   0.508 -0.309  0.327 -0.063  0.676]\n",
      " [-0.105  0.305 -0.204 -0.065  0.88  -0.037 -0.274]\n",
      " [ 0.517  0.334  0.358  0.455  0.137  0.487  0.174]\n",
      " [-0.105  0.305 -0.204 -0.065  0.88  -0.037 -0.274]\n",
      " [-0.015 -0.095  0.228 -0.611 -0.056  0.64  -0.39 ]\n",
      " [-0.237 -0.15   0.508 -0.309  0.327 -0.063  0.676]]\n",
      "i= 4\n",
      "[[ 0.517  0.334  0.358  0.455  0.137  0.487  0.174]\n",
      " [-0.237 -0.15   0.508 -0.309  0.327 -0.063  0.676]\n",
      " [-0.105  0.305 -0.204 -0.065  0.88  -0.037 -0.274]\n",
      " [-0.286  0.867  0.007 -0.226 -0.311 -0.044  0.13 ]\n",
      " [-0.105  0.305 -0.204 -0.065  0.88  -0.037 -0.274]\n",
      " [-0.015 -0.095  0.228 -0.611 -0.056  0.64  -0.39 ]\n",
      " [-0.237 -0.15   0.508 -0.309  0.327 -0.063  0.676]]\n",
      "i= 5\n",
      "[[ 0.517  0.334  0.358  0.455  0.137  0.487  0.174]\n",
      " [-0.237 -0.15   0.508 -0.309  0.327 -0.063  0.676]\n",
      " [-0.105  0.305 -0.204 -0.065  0.88  -0.037 -0.274]\n",
      " [-0.286  0.867  0.007 -0.226 -0.311 -0.044  0.13 ]\n",
      " [-0.015 -0.095  0.228 -0.611 -0.056  0.64  -0.39 ]\n",
      " [-0.015 -0.095  0.228 -0.611 -0.056  0.64  -0.39 ]\n",
      " [-0.237 -0.15   0.508 -0.309  0.327 -0.063  0.676]]\n",
      "i= 6\n",
      "[[ 0.517  0.334  0.358  0.455  0.137  0.487  0.174]\n",
      " [-0.237 -0.15   0.508 -0.309  0.327 -0.063  0.676]\n",
      " [-0.105  0.305 -0.204 -0.065  0.88  -0.037 -0.274]\n",
      " [-0.286  0.867  0.007 -0.226 -0.311 -0.044  0.13 ]\n",
      " [-0.015 -0.095  0.228 -0.611 -0.056  0.64  -0.39 ]\n",
      " [ 0.013  0.064  0.712  0.087 -0.027 -0.472 -0.508]\n",
      " [-0.237 -0.15   0.508 -0.309  0.327 -0.063  0.676]]\n",
      "indexes= [0, 1, 2, 3, 4, 5, 6]\n"
     ]
    }
   ],
   "source": [
    "cov = np.cov(Xcryp, rowvar=False)\n",
    "print(cov)\n",
    "values,vectors = jacobi(cov,tol = 1.0e-9)\n",
    "\n",
    "#values, vectors = zip(*sorted(zip(values, vectors),reverse=True))\n",
    "from copy import deepcopy\n",
    "def sortEV(values,vectors):\n",
    "    indexes = list(reversed(np.argsort(values)))\n",
    "\n",
    "    values = sorted(values,reverse=True)\n",
    "    print(\"indexes=\", indexes)\n",
    "    temp = deepcopy(vectors)\n",
    "    \n",
    "    for i in range(len(vectors)):\n",
    "        #print(\"i=\",i)\n",
    "        #print(vectors)\n",
    "        #print(vectors[i][:])\n",
    "        vectors[i][:] = temp[indexes[i]][:]\n",
    "        #print(\"\")\n",
    "    \n",
    "    return values,vectors\n",
    "\n",
    "vectors = vectors.T\n",
    "\n",
    "values,vectors = sortEV(values,vectors)\n",
    "\n",
    "#print(values)\n",
    "#print(\"\")\n",
    "#print(vectors)"
   ]
  },
  {
   "cell_type": "markdown",
   "metadata": {},
   "source": [
    "### Basic features of unstandardized price return data"
   ]
  },
  {
   "cell_type": "code",
   "execution_count": 11,
   "metadata": {
    "collapsed": false
   },
   "outputs": [
    {
     "name": "stdout",
     "output_type": "stream",
     "text": [
      "Price return statistics without centering/scaling:\n",
      "Mean returns:\n"
     ]
    },
    {
     "data": {
      "text/plain": [
       "rip     0.395\n",
       "btc     0.150\n",
       "eth     0.410\n",
       "ltc     0.173\n",
       "mon     0.364\n",
       "nem     0.585\n",
       "dash    0.277\n",
       "dtype: float64"
      ]
     },
     "metadata": {},
     "output_type": "display_data"
    },
    {
     "name": "stdout",
     "output_type": "stream",
     "text": [
      "S.D. of returns:\n"
     ]
    },
    {
     "data": {
      "text/plain": [
       "rip     1.468\n",
       "btc     0.232\n",
       "eth     0.836\n",
       "ltc     0.475\n",
       "mon     0.873\n",
       "nem     1.190\n",
       "dash    0.620\n",
       "dtype: float64"
      ]
     },
     "metadata": {},
     "output_type": "display_data"
    },
    {
     "name": "stdout",
     "output_type": "stream",
     "text": [
      "Cumulative return:\n"
     ]
    },
    {
     "data": {
      "text/plain": [
       "rip     1.841e+43\n",
       "btc     8.094e+41\n",
       "eth     2.544e+71\n",
       "ltc     7.702e+36\n",
       "mon     3.682e+66\n",
       "nem     1.561e+98\n",
       "dash    3.883e+60\n",
       "dtype: float64"
      ]
     },
     "metadata": {},
     "output_type": "display_data"
    },
    {
     "name": "stdout",
     "output_type": "stream",
     "text": [
      "Correlation:\n"
     ]
    },
    {
     "data": {
      "text/html": [
       "<div>\n",
       "<table border=\"1\" class=\"dataframe\">\n",
       "  <thead>\n",
       "    <tr style=\"text-align: right;\">\n",
       "      <th></th>\n",
       "      <th>rip</th>\n",
       "      <th>btc</th>\n",
       "      <th>eth</th>\n",
       "      <th>ltc</th>\n",
       "      <th>mon</th>\n",
       "      <th>nem</th>\n",
       "      <th>dash</th>\n",
       "    </tr>\n",
       "  </thead>\n",
       "  <tbody>\n",
       "    <tr>\n",
       "      <th>rip</th>\n",
       "      <td>1.000</td>\n",
       "      <td>0.305</td>\n",
       "      <td>0.325</td>\n",
       "      <td>0.694</td>\n",
       "      <td>0.066</td>\n",
       "      <td>0.630</td>\n",
       "      <td>0.037</td>\n",
       "    </tr>\n",
       "    <tr>\n",
       "      <th>btc</th>\n",
       "      <td>0.305</td>\n",
       "      <td>1.000</td>\n",
       "      <td>0.164</td>\n",
       "      <td>0.322</td>\n",
       "      <td>0.102</td>\n",
       "      <td>0.349</td>\n",
       "      <td>0.031</td>\n",
       "    </tr>\n",
       "    <tr>\n",
       "      <th>eth</th>\n",
       "      <td>0.325</td>\n",
       "      <td>0.164</td>\n",
       "      <td>1.000</td>\n",
       "      <td>0.192</td>\n",
       "      <td>0.171</td>\n",
       "      <td>0.361</td>\n",
       "      <td>0.470</td>\n",
       "    </tr>\n",
       "    <tr>\n",
       "      <th>ltc</th>\n",
       "      <td>0.694</td>\n",
       "      <td>0.322</td>\n",
       "      <td>0.192</td>\n",
       "      <td>1.000</td>\n",
       "      <td>0.044</td>\n",
       "      <td>0.428</td>\n",
       "      <td>0.018</td>\n",
       "    </tr>\n",
       "    <tr>\n",
       "      <th>mon</th>\n",
       "      <td>0.066</td>\n",
       "      <td>0.102</td>\n",
       "      <td>0.171</td>\n",
       "      <td>0.044</td>\n",
       "      <td>1.000</td>\n",
       "      <td>0.114</td>\n",
       "      <td>0.128</td>\n",
       "    </tr>\n",
       "    <tr>\n",
       "      <th>nem</th>\n",
       "      <td>0.630</td>\n",
       "      <td>0.349</td>\n",
       "      <td>0.361</td>\n",
       "      <td>0.428</td>\n",
       "      <td>0.114</td>\n",
       "      <td>1.000</td>\n",
       "      <td>0.133</td>\n",
       "    </tr>\n",
       "    <tr>\n",
       "      <th>dash</th>\n",
       "      <td>0.037</td>\n",
       "      <td>0.031</td>\n",
       "      <td>0.470</td>\n",
       "      <td>0.018</td>\n",
       "      <td>0.128</td>\n",
       "      <td>0.133</td>\n",
       "      <td>1.000</td>\n",
       "    </tr>\n",
       "  </tbody>\n",
       "</table>\n",
       "</div>"
      ],
      "text/plain": [
       "        rip    btc    eth    ltc    mon    nem   dash\n",
       "rip   1.000  0.305  0.325  0.694  0.066  0.630  0.037\n",
       "btc   0.305  1.000  0.164  0.322  0.102  0.349  0.031\n",
       "eth   0.325  0.164  1.000  0.192  0.171  0.361  0.470\n",
       "ltc   0.694  0.322  0.192  1.000  0.044  0.428  0.018\n",
       "mon   0.066  0.102  0.171  0.044  1.000  0.114  0.128\n",
       "nem   0.630  0.349  0.361  0.428  0.114  1.000  0.133\n",
       "dash  0.037  0.031  0.470  0.018  0.128  0.133  1.000"
      ]
     },
     "execution_count": 11,
     "metadata": {},
     "output_type": "execute_result"
    }
   ],
   "source": [
    "print('Price return statistics without centering/scaling:')\n",
    "print('Mean returns:')\n",
    "display(cryp_unadj.mean(axis=0))\n",
    "print('S.D. of returns:')\n",
    "display(cryp_unadj.std(axis=0))\n",
    "print('Cumulative return:')\n",
    "display((cryp_unadj + 1).prod(axis=0))\n",
    "print('Correlation:')\n",
    "cryp_unadj.corr()"
   ]
  },
  {
   "cell_type": "code",
   "execution_count": 27,
   "metadata": {
    "collapsed": false
   },
   "outputs": [
    {
     "data": {
      "image/png": "[encoded data removed]",
      "text/plain": [
       "<matplotlib.figure.Figure at 0x115352710>"
      ]
     },
     "metadata": {},
     "output_type": "display_data"
    }
   ],
   "source": [
    "small_df_std = cryp_std\n",
    "small_df = cryp_unadj\n",
    "cov = np.cov(cryp_std.values.T) \n",
    "corr = np.corrcoef(cryp_unadj.values.T)\n",
    "eig_vals, eig_vecs = np.linalg.eig(cov)\n",
    "tickers = list(small_df_std.columns)\n",
    "\n",
    "# Graph - Correlation matrix\n",
    "plt.figure(figsize=(8,8))\n",
    "plt.imshow(corr, cmap=\"RdGy\", interpolation=\"nearest\")\n",
    "cb = plt.colorbar()\n",
    "cb.set_label(\"Correlation Matrix Coefficients\")\n",
    "plt.title(\"Correlation Matrix\", fontsize=14)\n",
    "plt.xticks(np.arange(len(tickers)), tickers, rotation=90)\n",
    "plt.yticks(np.arange(len(tickers)), tickers);"
   ]
  },
  {
   "cell_type": "markdown",
   "metadata": {},
   "source": [
    "### Principal components"
   ]
  },
  {
   "cell_type": "code",
   "execution_count": 24,
   "metadata": {
    "collapsed": false
   },
   "outputs": [
    {
     "name": "stdout",
     "output_type": "stream",
     "text": [
      "[[ 0.517  0.334  0.358  0.455  0.137  0.487  0.174]\n",
      " [-0.237 -0.15   0.508 -0.309  0.327 -0.063  0.676]\n",
      " [ 0.105 -0.305  0.204  0.065 -0.88   0.037  0.274]\n",
      " [-0.286  0.867  0.007 -0.226 -0.311 -0.044  0.13 ]\n",
      " [ 0.015  0.095 -0.228  0.611  0.056 -0.64   0.39 ]\n",
      " [-0.013 -0.064 -0.712 -0.087  0.027  0.472  0.508]\n",
      " [-0.764 -0.091  0.118  0.511 -0.012  0.351 -0.103]]\n"
     ]
    }
   ],
   "source": [
    "# Get SVD breakdown, cast into matrices.\n",
    "U, s, V = np.linalg.svd(Xcryp)\n",
    "print(V)\n",
    "U = np.matrix(U)  # n x n matrix\n",
    "S = np.zeros((n, p)) \n",
    "S[:p, :p] = np.diag(s)\n",
    "S = np.matrix(S)  # n x p matrix\n",
    "V = np.matrix(V).T  # p x p matrix\n",
    "\n",
    "# Get eigenvalues through the singular values.\n",
    "eigvals_cryp = [(s_**2)/(n - 1) for s_ in s]\n"
   ]
  },
  {
   "cell_type": "code",
   "execution_count": 25,
   "metadata": {
    "collapsed": false
   },
   "outputs": [],
   "source": [
    "# Get principal components (n-by-p matrix).\n",
    "XV = Xcryp*V\n",
    "\n",
    "pc1, pc2 = np.ravel(XV[:, 0]), np.ravel(XV[:, 1])\n",
    "v1, v2 = np.ravel(V[:, 0]), np.ravel(V[:, 1])\n",
    "\n",
    "assert_almost_equal(np.inner(v1, v2), 0)\n",
    "assert_almost_equal(np.inner(pc1, pc2), 0)"
   ]
  },
  {
   "cell_type": "code",
   "execution_count": 26,
   "metadata": {
    "collapsed": false
   },
   "outputs": [
    {
     "name": "stdout",
     "output_type": "stream",
     "text": [
      "Variation Explained:\n"
     ]
    },
    {
     "data": {
      "text/html": [
       "<div>\n",
       "<table border=\"1\" class=\"dataframe\">\n",
       "  <thead>\n",
       "    <tr style=\"text-align: right;\">\n",
       "      <th></th>\n",
       "      <th>eigenvalue</th>\n",
       "      <th>proportion</th>\n",
       "      <th>cumulative</th>\n",
       "    </tr>\n",
       "    <tr>\n",
       "      <th>component</th>\n",
       "      <th></th>\n",
       "      <th></th>\n",
       "      <th></th>\n",
       "    </tr>\n",
       "  </thead>\n",
       "  <tbody>\n",
       "    <tr>\n",
       "      <th>1</th>\n",
       "      <td>2.657</td>\n",
       "      <td>0.379</td>\n",
       "      <td>0.379</td>\n",
       "    </tr>\n",
       "    <tr>\n",
       "      <th>2</th>\n",
       "      <td>1.376</td>\n",
       "      <td>0.196</td>\n",
       "      <td>0.575</td>\n",
       "    </tr>\n",
       "    <tr>\n",
       "      <th>3</th>\n",
       "      <td>0.941</td>\n",
       "      <td>0.134</td>\n",
       "      <td>0.710</td>\n",
       "    </tr>\n",
       "    <tr>\n",
       "      <th>4</th>\n",
       "      <td>0.769</td>\n",
       "      <td>0.110</td>\n",
       "      <td>0.819</td>\n",
       "    </tr>\n",
       "    <tr>\n",
       "      <th>5</th>\n",
       "      <td>0.564</td>\n",
       "      <td>0.080</td>\n",
       "      <td>0.900</td>\n",
       "    </tr>\n",
       "    <tr>\n",
       "      <th>6</th>\n",
       "      <td>0.464</td>\n",
       "      <td>0.066</td>\n",
       "      <td>0.966</td>\n",
       "    </tr>\n",
       "    <tr>\n",
       "      <th>7</th>\n",
       "      <td>0.239</td>\n",
       "      <td>0.034</td>\n",
       "      <td>1.000</td>\n",
       "    </tr>\n",
       "  </tbody>\n",
       "</table>\n",
       "</div>"
      ],
      "text/plain": [
       "           eigenvalue  proportion  cumulative\n",
       "component                                    \n",
       "1               2.657       0.379       0.379\n",
       "2               1.376       0.196       0.575\n",
       "3               0.941       0.134       0.710\n",
       "4               0.769       0.110       0.819\n",
       "5               0.564       0.080       0.900\n",
       "6               0.464       0.066       0.966\n",
       "7               0.239       0.034       1.000"
      ]
     },
     "metadata": {},
     "output_type": "display_data"
    }
   ],
   "source": [
    "# Create tables for proportion of variation explained.\n",
    "df_variation_cryp = create_proportion_of_variation_df(eigvals_cryp)\n",
    "print('Variation Explained:')\n",
    "display(df_variation_cryp)"
   ]
  },
  {
   "cell_type": "markdown",
   "metadata": {},
   "source": [
    "### Sorting Eigenpairs"
   ]
  },
  {
   "cell_type": "code",
   "execution_count": 28,
   "metadata": {
    "collapsed": false
   },
   "outputs": [
    {
     "name": "stdout",
     "output_type": "stream",
     "text": [
      "Eigenvalues in descending order:\n",
      "2.65737779708\n",
      "1.37619392257\n",
      "0.940706252426\n",
      "0.768685386996\n",
      "0.563511980205\n",
      "0.463503551823\n",
      "0.238848347233\n"
     ]
    }
   ],
   "source": [
    "# Make a list of (eigenvalue, eigenvector) tuples\n",
    "eig_pairs = [(np.abs(eig_vals[i]), eig_vecs[:,i]) for i in range(len(eig_vals))]\n",
    "\n",
    "# Sort the (eigenvalue, eigenvector) tuples from high to low\n",
    "eig_pairs.sort(key=lambda x: x[0], reverse=True)\n",
    "\n",
    "# Visually confirm that the list is correctly sorted by decreasing eigenvalues\n",
    "eig_vals_list = []\n",
    "print('Eigenvalues in descending order:')\n",
    "for i in eig_pairs:\n",
    "    eig_vals_list.append(i[0])\n",
    "    print(i[0])"
   ]
  },
  {
   "cell_type": "code",
   "execution_count": 29,
   "metadata": {
    "collapsed": false
   },
   "outputs": [
    {
     "data": {
      "text/plain": [
       "[(2.6573777970786576,\n",
       "  array([ 0.517,  0.334,  0.358,  0.455,  0.137,  0.487,  0.174])),\n",
       " (1.3761939225744044,\n",
       "  array([ 0.237,  0.15 , -0.508,  0.309, -0.327,  0.063, -0.676])),\n",
       " (0.94070625242644057,\n",
       "  array([-0.105,  0.305, -0.204, -0.065,  0.88 , -0.037, -0.274])),\n",
       " (0.76868538699591171,\n",
       "  array([-0.286,  0.867,  0.007, -0.226, -0.311, -0.044,  0.13 ])),\n",
       " (0.56351198020471627,\n",
       "  array([-0.015, -0.095,  0.228, -0.611, -0.056,  0.64 , -0.39 ])),\n",
       " (0.46350355182270109,\n",
       "  array([-0.013, -0.064, -0.712, -0.087,  0.027,  0.472,  0.508])),\n",
       " (0.23884834723260515,\n",
       "  array([ 0.764,  0.091, -0.118, -0.511,  0.012, -0.351,  0.103]))]"
      ]
     },
     "execution_count": 29,
     "metadata": {},
     "output_type": "execute_result"
    }
   ],
   "source": [
    "eig_pairs"
   ]
  },
  {
   "cell_type": "code",
   "execution_count": 17,
   "metadata": {
    "collapsed": false
   },
   "outputs": [
    {
     "data": {
      "text/plain": [
       "array([[ 0.517,  0.237, -0.105, -0.286, -0.015, -0.013,  0.764],\n",
       "       [ 0.334,  0.15 ,  0.305,  0.867, -0.095, -0.064,  0.091],\n",
       "       [ 0.358, -0.508, -0.204,  0.007,  0.228, -0.712, -0.118],\n",
       "       [ 0.455,  0.309, -0.065, -0.226, -0.611, -0.087, -0.511],\n",
       "       [ 0.137, -0.327,  0.88 , -0.311, -0.056,  0.027,  0.012],\n",
       "       [ 0.487,  0.063, -0.037, -0.044,  0.64 ,  0.472, -0.351],\n",
       "       [ 0.174, -0.676, -0.274,  0.13 , -0.39 ,  0.508,  0.103]])"
      ]
     },
     "execution_count": 17,
     "metadata": {},
     "output_type": "execute_result"
    }
   ],
   "source": [
    "matrix_Q = np.hstack((eig_pairs[0][1].reshape(7,1),\n",
    "                      eig_pairs[1][1].reshape(7,1),\n",
    "                      eig_pairs[2][1].reshape(7,1),\n",
    "                      eig_pairs[3][1].reshape(7,1),\n",
    "                      eig_pairs[4][1].reshape(7,1),\n",
    "                      eig_pairs[5][1].reshape(7,1),\n",
    "                      eig_pairs[6][1].reshape(7,1)))\n",
    "#with desending order of eigen value \n",
    "matrix_Q"
   ]
  },
  {
   "cell_type": "markdown",
   "metadata": {},
   "source": [
    "### Loadings\n",
    "\n",
    "Compute loadings A.\n",
    "Loadings are eigenvectors normalized to respective eigenvalues: A value = V value * sqrt(L value)\n",
    "Loadings are the covariances between variables and components.\n",
    "\n",
    "Loadings=Orthonormal Eigenvectors⋅ Square root of (Absolute Eigen values)"
   ]
  },
  {
   "cell_type": "code",
   "execution_count": 31,
   "metadata": {
    "collapsed": false
   },
   "outputs": [
    {
     "data": {
      "text/html": [
       "<div>\n",
       "<table border=\"1\" class=\"dataframe\">\n",
       "  <thead>\n",
       "    <tr style=\"text-align: right;\">\n",
       "      <th></th>\n",
       "      <th>rip</th>\n",
       "      <th>btc</th>\n",
       "      <th>ltc</th>\n",
       "      <th>mon</th>\n",
       "      <th>nem</th>\n",
       "      <th>dash</th>\n",
       "      <th>eth</th>\n",
       "    </tr>\n",
       "  </thead>\n",
       "  <tbody>\n",
       "    <tr>\n",
       "      <th>0</th>\n",
       "      <td>0.844</td>\n",
       "      <td>0.544</td>\n",
       "      <td>0.583</td>\n",
       "      <td>0.742</td>\n",
       "      <td>0.224</td>\n",
       "      <td>0.793</td>\n",
       "      <td>0.284</td>\n",
       "    </tr>\n",
       "    <tr>\n",
       "      <th>1</th>\n",
       "      <td>0.278</td>\n",
       "      <td>0.176</td>\n",
       "      <td>-0.596</td>\n",
       "      <td>0.363</td>\n",
       "      <td>-0.383</td>\n",
       "      <td>0.074</td>\n",
       "      <td>-0.793</td>\n",
       "    </tr>\n",
       "    <tr>\n",
       "      <th>2</th>\n",
       "      <td>-0.102</td>\n",
       "      <td>0.296</td>\n",
       "      <td>-0.198</td>\n",
       "      <td>-0.063</td>\n",
       "      <td>0.853</td>\n",
       "      <td>-0.036</td>\n",
       "      <td>-0.266</td>\n",
       "    </tr>\n",
       "    <tr>\n",
       "      <th>3</th>\n",
       "      <td>-0.250</td>\n",
       "      <td>0.760</td>\n",
       "      <td>0.006</td>\n",
       "      <td>-0.198</td>\n",
       "      <td>-0.273</td>\n",
       "      <td>-0.039</td>\n",
       "      <td>0.114</td>\n",
       "    </tr>\n",
       "    <tr>\n",
       "      <th>4</th>\n",
       "      <td>-0.011</td>\n",
       "      <td>-0.071</td>\n",
       "      <td>0.171</td>\n",
       "      <td>-0.459</td>\n",
       "      <td>-0.042</td>\n",
       "      <td>0.481</td>\n",
       "      <td>-0.293</td>\n",
       "    </tr>\n",
       "    <tr>\n",
       "      <th>5</th>\n",
       "      <td>-0.009</td>\n",
       "      <td>-0.043</td>\n",
       "      <td>-0.485</td>\n",
       "      <td>-0.059</td>\n",
       "      <td>0.018</td>\n",
       "      <td>0.321</td>\n",
       "      <td>0.346</td>\n",
       "    </tr>\n",
       "    <tr>\n",
       "      <th>6</th>\n",
       "      <td>0.373</td>\n",
       "      <td>0.044</td>\n",
       "      <td>-0.058</td>\n",
       "      <td>-0.250</td>\n",
       "      <td>0.006</td>\n",
       "      <td>-0.171</td>\n",
       "      <td>0.051</td>\n",
       "    </tr>\n",
       "  </tbody>\n",
       "</table>\n",
       "</div>"
      ],
      "text/plain": [
       "     rip    btc    ltc    mon    nem   dash    eth\n",
       "0  0.844  0.544  0.583  0.742  0.224  0.793  0.284\n",
       "1  0.278  0.176 -0.596  0.363 -0.383  0.074 -0.793\n",
       "2 -0.102  0.296 -0.198 -0.063  0.853 -0.036 -0.266\n",
       "3 -0.250  0.760  0.006 -0.198 -0.273 -0.039  0.114\n",
       "4 -0.011 -0.071  0.171 -0.459 -0.042  0.481 -0.293\n",
       "5 -0.009 -0.043 -0.485 -0.059  0.018  0.321  0.346\n",
       "6  0.373  0.044 -0.058 -0.250  0.006 -0.171  0.051"
      ]
     },
     "metadata": {},
     "output_type": "display_data"
    },
    {
     "data": {
      "text/plain": [
       "array([[ 0.517,  0.237, -0.105, -0.286, -0.015, -0.013,  0.764],\n",
       "       [ 0.334,  0.15 ,  0.305,  0.867, -0.095, -0.064,  0.091],\n",
       "       [ 0.358, -0.508, -0.204,  0.007,  0.228, -0.712, -0.118],\n",
       "       [ 0.455,  0.309, -0.065, -0.226, -0.611, -0.087, -0.511],\n",
       "       [ 0.137, -0.327,  0.88 , -0.311, -0.056,  0.027,  0.012],\n",
       "       [ 0.487,  0.063, -0.037, -0.044,  0.64 ,  0.472, -0.351],\n",
       "       [ 0.174, -0.676, -0.274,  0.13 , -0.39 ,  0.508,  0.103]])"
      ]
     },
     "metadata": {},
     "output_type": "display_data"
    }
   ],
   "source": [
    "eig_vals_sqrt = np.array([np.sqrt(eig_val) for eig_val in eig_vals_list])\n",
    "ordered_col = (['rip','btc','ltc','mon','nem','dash','eth'])\n",
    "loadings = pd.DataFrame(np.multiply(matrix_Q, eig_vals_sqrt)).T\n",
    "loadings.columns = ordered_col\n",
    "display(loadings)\n",
    "display(matrix_Q)"
   ]
  },
  {
   "cell_type": "code",
   "execution_count": 32,
   "metadata": {
    "collapsed": false
   },
   "outputs": [
    {
     "data": {
      "text/html": [
       "<div>\n",
       "<table border=\"1\" class=\"dataframe\">\n",
       "  <thead>\n",
       "    <tr style=\"text-align: right;\">\n",
       "      <th></th>\n",
       "      <th>rip</th>\n",
       "      <th>btc</th>\n",
       "      <th>ltc</th>\n",
       "      <th>mon</th>\n",
       "      <th>nem</th>\n",
       "      <th>dash</th>\n",
       "      <th>eth</th>\n",
       "    </tr>\n",
       "  </thead>\n",
       "  <tbody>\n",
       "    <tr>\n",
       "      <th>0</th>\n",
       "      <td>7.116e-01</td>\n",
       "      <td>0.296</td>\n",
       "      <td>3.399e-01</td>\n",
       "      <td>0.550</td>\n",
       "      <td>5.002e-02</td>\n",
       "      <td>0.629</td>\n",
       "      <td>0.081</td>\n",
       "    </tr>\n",
       "    <tr>\n",
       "      <th>1</th>\n",
       "      <td>7.709e-02</td>\n",
       "      <td>0.031</td>\n",
       "      <td>3.546e-01</td>\n",
       "      <td>0.132</td>\n",
       "      <td>1.469e-01</td>\n",
       "      <td>0.006</td>\n",
       "      <td>0.629</td>\n",
       "    </tr>\n",
       "    <tr>\n",
       "      <th>2</th>\n",
       "      <td>1.034e-02</td>\n",
       "      <td>0.087</td>\n",
       "      <td>3.919e-02</td>\n",
       "      <td>0.004</td>\n",
       "      <td>7.279e-01</td>\n",
       "      <td>0.001</td>\n",
       "      <td>0.071</td>\n",
       "    </tr>\n",
       "    <tr>\n",
       "      <th>3</th>\n",
       "      <td>6.275e-02</td>\n",
       "      <td>0.578</td>\n",
       "      <td>3.784e-05</td>\n",
       "      <td>0.039</td>\n",
       "      <td>7.427e-02</td>\n",
       "      <td>0.001</td>\n",
       "      <td>0.013</td>\n",
       "    </tr>\n",
       "    <tr>\n",
       "      <th>4</th>\n",
       "      <td>1.239e-04</td>\n",
       "      <td>0.005</td>\n",
       "      <td>2.925e-02</td>\n",
       "      <td>0.211</td>\n",
       "      <td>1.757e-03</td>\n",
       "      <td>0.231</td>\n",
       "      <td>0.086</td>\n",
       "    </tr>\n",
       "    <tr>\n",
       "      <th>5</th>\n",
       "      <td>7.429e-05</td>\n",
       "      <td>0.002</td>\n",
       "      <td>2.350e-01</td>\n",
       "      <td>0.003</td>\n",
       "      <td>3.313e-04</td>\n",
       "      <td>0.103</td>\n",
       "      <td>0.119</td>\n",
       "    </tr>\n",
       "    <tr>\n",
       "      <th>6</th>\n",
       "      <td>1.393e-01</td>\n",
       "      <td>0.002</td>\n",
       "      <td>3.314e-03</td>\n",
       "      <td>0.062</td>\n",
       "      <td>3.500e-05</td>\n",
       "      <td>0.029</td>\n",
       "      <td>0.003</td>\n",
       "    </tr>\n",
       "  </tbody>\n",
       "</table>\n",
       "</div>"
      ],
      "text/plain": [
       "         rip    btc        ltc    mon        nem   dash    eth\n",
       "0  7.116e-01  0.296  3.399e-01  0.550  5.002e-02  0.629  0.081\n",
       "1  7.709e-02  0.031  3.546e-01  0.132  1.469e-01  0.006  0.629\n",
       "2  1.034e-02  0.087  3.919e-02  0.004  7.279e-01  0.001  0.071\n",
       "3  6.275e-02  0.578  3.784e-05  0.039  7.427e-02  0.001  0.013\n",
       "4  1.239e-04  0.005  2.925e-02  0.211  1.757e-03  0.231  0.086\n",
       "5  7.429e-05  0.002  2.350e-01  0.003  3.313e-04  0.103  0.119\n",
       "6  1.393e-01  0.002  3.314e-03  0.062  3.500e-05  0.029  0.003"
      ]
     },
     "execution_count": 32,
     "metadata": {},
     "output_type": "execute_result"
    }
   ],
   "source": [
    "sqr_loadings = loadings.applymap(np.square)\n",
    "sqr_loadings"
   ]
  },
  {
   "cell_type": "code",
   "execution_count": 33,
   "metadata": {
    "collapsed": false
   },
   "outputs": [
    {
     "data": {
      "image/png": "[encoded data removed]",
      "text/plain": [
       "<matplotlib.figure.Figure at 0x11545c5f8>"
      ]
     },
     "metadata": {},
     "output_type": "display_data"
    }
   ],
   "source": [
    "LL = np.multiply(matrix_Q,eig_vals_sqrt)\n",
    "tickers = ordered_col\n",
    "ax = plt.figure(figsize=(8,8)).gca()\n",
    "plt.imshow(LL, cmap=\"bwr\", interpolation=\"nearest\")\n",
    "cb = plt.colorbar()\n",
    "plt.yticks(np.arange(len(tickers)), tickers)\n",
    "plt.xticks(np.arange(len(tickers)), [0,1,2,3,4,5,6,7])\n",
    "plt.xlabel(\"PC Number\")\n",
    "plt.title(\"PCA\", fontsize=14)\n",
    "# force x-tickers to be displayed as integers (not floats)\n",
    "ax.xaxis.set_major_locator(MaxNLocator(integer=True))"
   ]
  },
  {
   "cell_type": "markdown",
   "metadata": {},
   "source": [
    "### Bi-plot for PC(1) and PC(2)"
   ]
  },
  {
   "cell_type": "code",
   "execution_count": 22,
   "metadata": {
    "collapsed": false
   },
   "outputs": [
    {
     "data": {
      "image/png": "[encoded data removed]",
      "text/plain": [
       "<matplotlib.figure.Figure at 0x11366b240>"
      ]
     },
     "metadata": {},
     "output_type": "display_data"
    }
   ],
   "source": [
    "k1 = 1  # the last PC column in 'v' PCA matrix\n",
    "k2 = 0  # the second last PC column\n",
    " \n",
    "# begin constructing bi-plot for PC(k1) and PC(k2)\n",
    "# loadings\n",
    "plt.figure(figsize=(7,7))\n",
    "plt.grid()\n",
    " \n",
    "# compute the distance from (0,0) point\n",
    "dist = []\n",
    "for i in range(LL.shape[0]):\n",
    "    x = LL[i,k1]\n",
    "    y = LL[i,k2]\n",
    "    plt.plot(x, y, '.k')\n",
    "    plt.plot([0,x], [0,y], '-', color=\"r\")\n",
    "    d = np.sqrt(x**2 + y**2)\n",
    "    dist.append(d)\n",
    "    plt.text(x, y, tickers[i], color='g')\n",
    "plt.xlabel(\"PC-\" + str(k1+1))\n",
    "plt.ylabel(\"PC-\" + str(k2+1));"
   ]
  },
  {
   "cell_type": "markdown",
   "metadata": {},
   "source": [
    "### linear correlations & Kendall’s rank correlation\n",
    "\n",
    "we examine linear correlations for such pair of coins (cryptocurrency time-series) making use of two distinct tools, namely, one-factor linear regression (hence its $R^2$ metric) and Kendall’s rank correlation metric of τ."
   ]
  },
  {
   "cell_type": "code",
   "execution_count": 23,
   "metadata": {
    "collapsed": false
   },
   "outputs": [
    {
     "name": "stdout",
     "output_type": "stream",
     "text": [
      "rip ltc\n",
      "0.693920469872 4.39091861193e-115\n",
      "0.198414867023 5.89017740411e-17\n"
     ]
    },
    {
     "data": {
      "image/png": "[encoded data removed]",
      "text/plain": [
       "<matplotlib.figure.Figure at 0x114aaf550>"
      ]
     },
     "metadata": {},
     "output_type": "display_data"
    },
    {
     "name": "stdout",
     "output_type": "stream",
     "text": [
      "rip nem\n",
      "0.630201329527 4.11096466073e-89\n",
      "0.232985037418 8.71419599445e-23\n"
     ]
    },
    {
     "data": {
      "image/png": "[encoded data removed]",
      "text/plain": [
       "<matplotlib.figure.Figure at 0x114e0f630>"
      ]
     },
     "metadata": {},
     "output_type": "display_data"
    },
    {
     "name": "stdout",
     "output_type": "stream",
     "text": [
      "rip eth\n",
      "0.325414899102 4.84600738271e-21\n",
      "0.320617112581 1.16422872657e-41\n"
     ]
    },
    {
     "data": {
      "image/png": "[encoded data removed]",
      "text/plain": [
       "<matplotlib.figure.Figure at 0x114f0bd68>"
      ]
     },
     "metadata": {},
     "output_type": "display_data"
    },
    {
     "name": "stdout",
     "output_type": "stream",
     "text": [
      "rip rip\n",
      "1.0 0.0\n",
      "1.0 0.0\n"
     ]
    },
    {
     "data": {
      "image/png": "[encoded data removed]",
      "text/plain": [
       "<matplotlib.figure.Figure at 0x114f2b780>"
      ]
     },
     "metadata": {},
     "output_type": "display_data"
    },
    {
     "name": "stdout",
     "output_type": "stream",
     "text": [
      "rip btc\n",
      "0.304642871018 1.63110614216e-18\n",
      "0.146492768907 6.48398276858e-10\n"
     ]
    },
    {
     "data": {
      "image/png": "[encoded data removed]",
      "text/plain": [
       "<matplotlib.figure.Figure at 0x114eff320>"
      ]
     },
     "metadata": {},
     "output_type": "display_data"
    },
    {
     "name": "stdout",
     "output_type": "stream",
     "text": [
      "rip mon\n",
      "0.0661992605033 0.0622557492194\n",
      "0.23846045115 8.57459340142e-24\n"
     ]
    },
    {
     "data": {
      "image/png": "[encoded data removed]",
      "text/plain": [
       "<matplotlib.figure.Figure at 0x114e0b550>"
      ]
     },
     "metadata": {},
     "output_type": "display_data"
    },
    {
     "name": "stdout",
     "output_type": "stream",
     "text": [
      "rip dash\n",
      "0.0369910959304 0.297852589256\n",
      "0.0769774426307 0.00116860365918\n"
     ]
    },
    {
     "data": {
      "image/png": "[encoded data removed]",
      "text/plain": [
       "<matplotlib.figure.Figure at 0x11363b5f8>"
      ]
     },
     "metadata": {},
     "output_type": "display_data"
    },
    {
     "name": "stdout",
     "output_type": "stream",
     "text": [
      "btc ltc\n",
      "0.322116552411 1.25902464199e-20\n",
      "0.363567345155 4.66722974816e-53\n"
     ]
    },
    {
     "data": {
      "image/png": "[encoded data removed]",
      "text/plain": [
       "<matplotlib.figure.Figure at 0x113680f60>"
      ]
     },
     "metadata": {},
     "output_type": "display_data"
    },
    {
     "name": "stdout",
     "output_type": "stream",
     "text": [
      "btc nem\n",
      "0.348594624346 4.21138947176e-24\n",
      "0.192930212176 4.06592181113e-16\n"
     ]
    },
    {
     "data": {
      "image/png": "[encoded data removed]",
      "text/plain": [
       "<matplotlib.figure.Figure at 0x114e23ef0>"
      ]
     },
     "metadata": {},
     "output_type": "display_data"
    },
    {
     "name": "stdout",
     "output_type": "stream",
     "text": [
      "btc eth\n",
      "0.164432758418 3.19563716189e-06\n",
      "0.155399417447 5.60830481492e-11\n"
     ]
    },
    {
     "data": {
      "image/png": "[encoded data removed]",
      "text/plain": [
       "<matplotlib.figure.Figure at 0x1041dcda0>"
      ]
     },
     "metadata": {},
     "output_type": "display_data"
    },
    {
     "name": "stdout",
     "output_type": "stream",
     "text": [
      "btc rip\n",
      "0.304642871018 1.63110614216e-18\n",
      "0.146492768907 6.48398276858e-10\n"
     ]
    },
    {
     "data": {
      "image/png": "[encoded data removed]",
      "text/plain": [
       "<matplotlib.figure.Figure at 0x114a54a90>"
      ]
     },
     "metadata": {},
     "output_type": "display_data"
    },
    {
     "name": "stdout",
     "output_type": "stream",
     "text": [
      "btc btc\n",
      "1.0 0.0\n",
      "1.0 0.0\n"
     ]
    },
    {
     "data": {
      "image/png": "[encoded data removed]",
      "text/plain": [
       "<matplotlib.figure.Figure at 0x114a3ae48>"
      ]
     },
     "metadata": {},
     "output_type": "display_data"
    },
    {
     "name": "stdout",
     "output_type": "stream",
     "text": [
      "btc mon\n",
      "0.101504493979 0.00419536829015\n",
      "0.159043515413 1.98019555307e-11\n"
     ]
    },
    {
     "data": {
      "image/png": "[encoded data removed]",
      "text/plain": [
       "<matplotlib.figure.Figure at 0x115297e48>"
      ]
     },
     "metadata": {},
     "output_type": "display_data"
    },
    {
     "name": "stdout",
     "output_type": "stream",
     "text": [
      "btc dash\n",
      "0.0310693405203 0.381952795708\n",
      "0.00609237991936 0.797225815462\n"
     ]
    },
    {
     "data": {
      "image/png": "[encoded data removed]",
      "text/plain": [
       "<matplotlib.figure.Figure at 0x115381d30>"
      ]
     },
     "metadata": {},
     "output_type": "display_data"
    },
    {
     "name": "stdout",
     "output_type": "stream",
     "text": [
      "ltc ltc\n",
      "1.0 0.0\n",
      "1.0 0.0\n"
     ]
    },
    {
     "data": {
      "image/png": "[encoded data removed]",
      "text/plain": [
       "<matplotlib.figure.Figure at 0x11546f7b8>"
      ]
     },
     "metadata": {},
     "output_type": "display_data"
    },
    {
     "name": "stdout",
     "output_type": "stream",
     "text": [
      "ltc nem\n",
      "0.427824289529 1.12622050038e-36\n",
      "0.121411383718 3.0548761128e-07\n"
     ]
    },
    {
     "data": {
      "image/png": "[encoded data removed]",
      "text/plain": [
       "<matplotlib.figure.Figure at 0x11543f6d8>"
      ]
     },
     "metadata": {},
     "output_type": "display_data"
    },
    {
     "name": "stdout",
     "output_type": "stream",
     "text": [
      "ltc eth\n",
      "0.191742670476 5.18014140415e-08\n",
      "0.19790025457 7.07923757781e-17\n"
     ]
    },
    {
     "data": {
      "image/png": "[encoded data removed]",
      "text/plain": [
       "<matplotlib.figure.Figure at 0x113550da0>"
      ]
     },
     "metadata": {},
     "output_type": "display_data"
    },
    {
     "name": "stdout",
     "output_type": "stream",
     "text": [
      "mon ltc\n",
      "0.0435716691798 0.220044075964\n",
      "0.133418679189 1.84002822158e-08\n"
     ]
    },
    {
     "data": {
      "image/png": "[encoded data removed]",
      "text/plain": [
       "<matplotlib.figure.Figure at 0x11361d2e8>"
      ]
     },
     "metadata": {},
     "output_type": "display_data"
    },
    {
     "name": "stdout",
     "output_type": "stream",
     "text": [
      "mon nem\n",
      "0.113523043053 0.00135449214406\n",
      "0.286055073266 1.63745331684e-33\n"
     ]
    },
    {
     "data": {
      "image/png": "[encoded data removed]",
      "text/plain": [
       "<matplotlib.figure.Figure at 0x1146b02e8>"
      ]
     },
     "metadata": {},
     "output_type": "display_data"
    },
    {
     "name": "stdout",
     "output_type": "stream",
     "text": [
      "mon eth\n",
      "0.171495476374 1.168870526e-06\n",
      "0.317248455071 7.95894637539e-41\n"
     ]
    },
    {
     "data": {
      "image/png": "[encoded data removed]",
      "text/plain": [
       "<matplotlib.figure.Figure at 0x1033b9c88>"
      ]
     },
     "metadata": {},
     "output_type": "display_data"
    },
    {
     "name": "stdout",
     "output_type": "stream",
     "text": [
      "mon rip\n",
      "0.0661992605033 0.0622557492194\n",
      "0.23846045115 8.57459340142e-24\n"
     ]
    },
    {
     "data": {
      "image/png": "[encoded data removed]",
      "text/plain": [
       "<matplotlib.figure.Figure at 0x114a09080>"
      ]
     },
     "metadata": {},
     "output_type": "display_data"
    },
    {
     "name": "stdout",
     "output_type": "stream",
     "text": [
      "mon btc\n",
      "0.101504493979 0.00419536829015\n",
      "0.159043515413 1.98019555307e-11\n"
     ]
    },
    {
     "data": {
      "image/png": "[encoded data removed]",
      "text/plain": [
       "<matplotlib.figure.Figure at 0x104a80898>"
      ]
     },
     "metadata": {},
     "output_type": "display_data"
    },
    {
     "name": "stdout",
     "output_type": "stream",
     "text": [
      "mon mon\n",
      "1.0 0.0\n",
      "1.0 0.0\n"
     ]
    },
    {
     "data": {
      "image/png": "[encoded data removed]",
      "text/plain": [
       "<matplotlib.figure.Figure at 0x103380048>"
      ]
     },
     "metadata": {},
     "output_type": "display_data"
    },
    {
     "name": "stdout",
     "output_type": "stream",
     "text": [
      "mon dash\n",
      "0.128492368452 0.000283408007145\n",
      "0.313892471206 5.29479607339e-40\n"
     ]
    },
    {
     "data": {
      "image/png": "[encoded data removed]",
      "text/plain": [
       "<matplotlib.figure.Figure at 0x114a2e7f0>"
      ]
     },
     "metadata": {},
     "output_type": "display_data"
    },
    {
     "name": "stdout",
     "output_type": "stream",
     "text": [
      "nem ltc\n",
      "0.427824289529 1.12622050038e-36\n",
      "0.121411383718 3.0548761128e-07\n"
     ]
    },
    {
     "data": {
      "image/png": "[encoded data removed]",
      "text/plain": [
       "<matplotlib.figure.Figure at 0x114f0bfd0>"
      ]
     },
     "metadata": {},
     "output_type": "display_data"
    },
    {
     "name": "stdout",
     "output_type": "stream",
     "text": [
      "nem nem\n",
      "1.0 0.0\n",
      "1.0 0.0\n"
     ]
    },
    {
     "data": {
      "image/png": "[encoded data removed]",
      "text/plain": [
       "<matplotlib.figure.Figure at 0x114fc7fd0>"
      ]
     },
     "metadata": {},
     "output_type": "display_data"
    },
    {
     "name": "stdout",
     "output_type": "stream",
     "text": [
      "nem eth\n",
      "0.360734970194 8.23472391248e-26\n",
      "0.311792350205 1.71440637015e-39\n"
     ]
    },
    {
     "data": {
      "image/png": "[encoded data removed]",
      "text/plain": [
       "<matplotlib.figure.Figure at 0x114e3f668>"
      ]
     },
     "metadata": {},
     "output_type": "display_data"
    },
    {
     "name": "stdout",
     "output_type": "stream",
     "text": [
      "dash ltc\n",
      "0.0182270927029 0.608065647679\n",
      "0.0816204653113 0.000577385590558\n"
     ]
    },
    {
     "data": {
      "image/png": "[encoded data removed]",
      "text/plain": [
       "<matplotlib.figure.Figure at 0x113635eb8>"
      ]
     },
     "metadata": {},
     "output_type": "display_data"
    },
    {
     "name": "stdout",
     "output_type": "stream",
     "text": [
      "dash nem\n",
      "0.133001751741 0.000170914758669\n",
      "0.236775650617 1.76125405834e-23\n"
     ]
    },
    {
     "data": {
      "image/png": "[encoded data removed]",
      "text/plain": [
       "<matplotlib.figure.Figure at 0x114fd2f98>"
      ]
     },
     "metadata": {},
     "output_type": "display_data"
    },
    {
     "name": "stdout",
     "output_type": "stream",
     "text": [
      "dash eth\n",
      "0.470272520014 6.20184921e-45\n",
      "0.368122050894 2.34561823627e-54\n"
     ]
    },
    {
     "data": {
      "image/png": "[encoded data removed]",
      "text/plain": [
       "<matplotlib.figure.Figure at 0x105a3ab00>"
      ]
     },
     "metadata": {},
     "output_type": "display_data"
    },
    {
     "name": "stdout",
     "output_type": "stream",
     "text": [
      "dash rip\n",
      "0.0369910959304 0.297852589256\n",
      "0.0769774426307 0.00116860365918\n"
     ]
    },
    {
     "data": {
      "image/png": "[encoded data removed]",
      "text/plain": [
       "<matplotlib.figure.Figure at 0x1033b4128>"
      ]
     },
     "metadata": {},
     "output_type": "display_data"
    },
    {
     "name": "stdout",
     "output_type": "stream",
     "text": [
      "dash btc\n",
      "0.0310693405203 0.381952795708\n",
      "0.00609237991936 0.797225815462\n"
     ]
    },
    {
     "data": {
      "image/png": "[encoded data removed]",
      "text/plain": [
       "<matplotlib.figure.Figure at 0x103399278>"
      ]
     },
     "metadata": {},
     "output_type": "display_data"
    },
    {
     "name": "stdout",
     "output_type": "stream",
     "text": [
      "dash mon\n",
      "0.128492368452 0.000283408007145\n",
      "0.313892471206 5.29479607339e-40\n"
     ]
    },
    {
     "data": {
      "image/png": "[encoded data removed]",
      "text/plain": [
       "<matplotlib.figure.Figure at 0x114e14b70>"
      ]
     },
     "metadata": {},
     "output_type": "display_data"
    },
    {
     "name": "stdout",
     "output_type": "stream",
     "text": [
      "dash dash\n",
      "1.0 0.0\n",
      "1.0 0.0\n"
     ]
    },
    {
     "data": {
      "image/png": "[encoded data removed]",
      "text/plain": [
       "<matplotlib.figure.Figure at 0x104a9da20>"
      ]
     },
     "metadata": {},
     "output_type": "display_data"
    },
    {
     "name": "stdout",
     "output_type": "stream",
     "text": [
      "eth ltc\n",
      "0.191742670476 5.18014140415e-08\n",
      "0.19790025457 7.07923757781e-17\n"
     ]
    },
    {
     "data": {
      "image/png": "[encoded data removed]",
      "text/plain": [
       "<matplotlib.figure.Figure at 0x114ff16a0>"
      ]
     },
     "metadata": {},
     "output_type": "display_data"
    },
    {
     "name": "stdout",
     "output_type": "stream",
     "text": [
      "eth nem\n",
      "0.360734970194 8.23472391248e-26\n",
      "0.311792350205 1.71440637015e-39\n"
     ]
    },
    {
     "data": {
      "image/png": "[encoded data removed]",
      "text/plain": [
       "<matplotlib.figure.Figure at 0x11533d128>"
      ]
     },
     "metadata": {},
     "output_type": "display_data"
    },
    {
     "name": "stdout",
     "output_type": "stream",
     "text": [
      "eth eth\n",
      "1.0 0.0\n",
      "1.0 0.0\n"
     ]
    },
    {
     "data": {
      "image/png": "[encoded data removed]",
      "text/plain": [
       "<matplotlib.figure.Figure at 0x11546a978>"
      ]
     },
     "metadata": {},
     "output_type": "display_data"
    }
   ],
   "source": [
    "quar = []\n",
    "for i in range(matrix_Q.shape[0]):\n",
    "    x = matrix_Q[i,k1]\n",
    "    y = matrix_Q[i,k2]\n",
    "    \n",
    "    d = np.sqrt(x**2 + y**2)\n",
    "    if(d > 0):\n",
    "        if((x > 0) and (y > 0)):\n",
    "            quar.append((i, 1))\n",
    "        elif((x < 0) and (y > 0)):\n",
    "            quar.append((i, 2))\n",
    "        elif((x < 0) and (y < 0)):\n",
    "            quar.append((i, 3))\n",
    "        elif((x > 0) and (y < 0)):\n",
    "            quar.append((i, 4))\n",
    "import scipy.stats as stats\n",
    "for i in range(len(quar)):\n",
    "    if(quar[i][1] == 1):\n",
    "        for j in range(len(quar)):\n",
    "            if(quar[j][1] == 2):\n",
    "                plt.figure(figsize=(7,4))\n",
    " \n",
    "                # highly correlated coins according to the PC analysis\n",
    "                print(tickers[quar[i][0]], tickers[quar[j][0]])\n",
    " \n",
    "                ts1 = small_df[tickers[quar[i][0]]]  # time-series\n",
    "                ts2 = small_df[tickers[quar[j][0]]]\n",
    " \n",
    "                # correlation metrics and their p_values\n",
    "                slope, intercept, r2, pvalue, _ = stats.linregress(ts1, ts2)\n",
    "                ktau, kpvalue = stats.kendalltau(ts1, ts2)\n",
    "                print(r2, pvalue)\n",
    "                print(ktau, kpvalue)\n",
    " \n",
    "                plt.plot(ts1, ts2, '.k')\n",
    "                xline = np.linspace(np.min(ts1), np.max(ts1), 100)\n",
    "                yline = slope*xline + intercept\n",
    "                plt.plot(xline, yline,'--', color='b')  # linear model fit\n",
    "                plt.xlabel(tickers[quar[i][0]])\n",
    "                plt.ylabel(tickers[quar[j][0]])\n",
    "                plt.show()\n",
    "\n",
    "    if(quar[i][1] == 1):\n",
    "        for j in range(len(quar)):\n",
    "            if(quar[j][1] == 1):\n",
    "                plt.figure(figsize=(7,4))\n",
    "                print(tickers[quar[i][0]], tickers[quar[j][0]])\n",
    "                ts1 = small_df[tickers[quar[i][0]]]\n",
    "                ts2 = small_df[tickers[quar[j][0]]]\n",
    "                slope, intercept, r2, pvalue, _ = stats.linregress(ts1, ts2)\n",
    "                ktau, kpvalue = stats.kendalltau(ts1, ts2)\n",
    "                print(r2, pvalue)\n",
    "                print(ktau, kpvalue)\n",
    "                plt.plot(ts1, ts2, '.k')\n",
    "                xline = np.linspace(np.min(ts1), np.max(ts1), 100)\n",
    "                yline = slope*xline + intercept\n",
    "                plt.plot(xline, yline,'--', color='b')\n",
    "                plt.xlabel(tickers[quar[i][0]])\n",
    "                plt.ylabel(tickers[quar[j][0]])\n",
    "                plt.show()\n",
    "\n",
    "    if(quar[i][1] == 2):\n",
    "        for j in range(len(quar)):\n",
    "            if(quar[j][1] == 2):\n",
    "                plt.figure(figsize=(7,4))\n",
    "                print(tickers[quar[i][0]], tickers[quar[j][0]])\n",
    "                ts1 = small_df[tickers[quar[i][0]]]\n",
    "                ts2 = small_df[tickers[quar[j][0]]]\n",
    "                slope, intercept, r2, pvalue, _ = stats.linregress(ts1, ts2)\n",
    "                ktau, kpvalue = stats.kendalltau(ts1, ts2)\n",
    "                print(r2, pvalue)\n",
    "                print(ktau, kpvalue)\n",
    "                plt.plot(ts1, ts2, '.k')\n",
    "                xline = np.linspace(np.min(ts1), np.max(ts1), 100)\n",
    "                yline = slope*xline + intercept\n",
    "                plt.plot(xline, yline,'--', color='b')\n",
    "                plt.xlabel(tickers[quar[i][0]])\n",
    "                plt.ylabel(tickers[quar[j][0]])\n",
    "                plt.show()"
   ]
  },
  {
   "cell_type": "code",
   "execution_count": null,
   "metadata": {
    "collapsed": true
   },
   "outputs": [],
   "source": []
  },
  {
   "cell_type": "markdown",
   "metadata": {},
   "source": [
    "# Are cryptocurrencies an asset class?"
   ]
  },
  {
   "cell_type": "markdown",
   "metadata": {},
   "source": [
    "## Get data for energy (XLE)"
   ]
  },
  {
   "cell_type": "code",
   "execution_count": 54,
   "metadata": {
    "collapsed": false
   },
   "outputs": [
    {
     "name": "stdout",
     "output_type": "stream",
     "text": [
      "Number of returns in data: 284\n"
     ]
    }
   ],
   "source": [
    "XLE_df, XLE_df_std, X_xle = load_xle_returns(XLE_FILES)\n",
    "\n",
    "# Filter to same time frame as cryptocurrencies.\n",
    "XLE_df = XLE_df[XLE_df.index >= analysis_start_dt]\n",
    "XLE_df = XLE_df[XLE_df.index <= analysis_end_dt]\n",
    "\n",
    "XLE_df_std = XLE_df_std[XLE_df_std.index >= analysis_start_dt]\n",
    "XLE_df_std = XLE_df_std[XLE_df_std.index <= analysis_end_dt]\n",
    "X_xle = np.matrix(XLE_df_std.values)\n",
    "\n",
    "n, p = X_xle.shape\n",
    "C = np.cov(X_xle, rowvar=False)  # covariance matrix\n",
    "assert n == len(XLE_df_std.index)\n",
    "print('Number of returns in data: {}'.format(n))"
   ]
  },
  {
   "cell_type": "markdown",
   "metadata": {},
   "source": [
    "### Compute SVD components & loadings"
   ]
  },
  {
   "cell_type": "code",
   "execution_count": 55,
   "metadata": {
    "collapsed": false
   },
   "outputs": [
    {
     "name": "stdout",
     "output_type": "stream",
     "text": [
      "Variation Explained:\n"
     ]
    },
    {
     "data": {
      "text/html": [
       "<div>\n",
       "<table border=\"1\" class=\"dataframe\">\n",
       "  <thead>\n",
       "    <tr style=\"text-align: right;\">\n",
       "      <th></th>\n",
       "      <th>eigenvalue</th>\n",
       "      <th>proportion</th>\n",
       "      <th>cumulative</th>\n",
       "    </tr>\n",
       "    <tr>\n",
       "      <th>component</th>\n",
       "      <th></th>\n",
       "      <th></th>\n",
       "      <th></th>\n",
       "    </tr>\n",
       "  </thead>\n",
       "  <tbody>\n",
       "    <tr>\n",
       "      <th>1</th>\n",
       "      <td>5.141</td>\n",
       "      <td>0.661</td>\n",
       "      <td>0.661</td>\n",
       "    </tr>\n",
       "    <tr>\n",
       "      <th>2</th>\n",
       "      <td>0.966</td>\n",
       "      <td>0.124</td>\n",
       "      <td>0.786</td>\n",
       "    </tr>\n",
       "    <tr>\n",
       "      <th>3</th>\n",
       "      <td>0.664</td>\n",
       "      <td>0.085</td>\n",
       "      <td>0.871</td>\n",
       "    </tr>\n",
       "    <tr>\n",
       "      <th>4</th>\n",
       "      <td>0.429</td>\n",
       "      <td>0.055</td>\n",
       "      <td>0.926</td>\n",
       "    </tr>\n",
       "    <tr>\n",
       "      <th>5</th>\n",
       "      <td>0.230</td>\n",
       "      <td>0.030</td>\n",
       "      <td>0.956</td>\n",
       "    </tr>\n",
       "    <tr>\n",
       "      <th>6</th>\n",
       "      <td>0.203</td>\n",
       "      <td>0.026</td>\n",
       "      <td>0.982</td>\n",
       "    </tr>\n",
       "    <tr>\n",
       "      <th>7</th>\n",
       "      <td>0.139</td>\n",
       "      <td>0.018</td>\n",
       "      <td>1.000</td>\n",
       "    </tr>\n",
       "  </tbody>\n",
       "</table>\n",
       "</div>"
      ],
      "text/plain": [
       "           eigenvalue  proportion  cumulative\n",
       "component                                    \n",
       "1               5.141       0.661       0.661\n",
       "2               0.966       0.124       0.786\n",
       "3               0.664       0.085       0.871\n",
       "4               0.429       0.055       0.926\n",
       "5               0.230       0.030       0.956\n",
       "6               0.203       0.026       0.982\n",
       "7               0.139       0.018       1.000"
      ]
     },
     "metadata": {},
     "output_type": "display_data"
    },
    {
     "name": "stdout",
     "output_type": "stream",
     "text": [
      "\n",
      "Loadings:\n"
     ]
    },
    {
     "data": {
      "text/html": [
       "<div>\n",
       "<table border=\"1\" class=\"dataframe\">\n",
       "  <thead>\n",
       "    <tr style=\"text-align: right;\">\n",
       "      <th></th>\n",
       "      <th>COP</th>\n",
       "      <th>CVX</th>\n",
       "      <th>EOG</th>\n",
       "      <th>OXY</th>\n",
       "      <th>PSX</th>\n",
       "      <th>SLB</th>\n",
       "      <th>XOM</th>\n",
       "    </tr>\n",
       "    <tr>\n",
       "      <th>Component</th>\n",
       "      <th></th>\n",
       "      <th></th>\n",
       "      <th></th>\n",
       "      <th></th>\n",
       "      <th></th>\n",
       "      <th></th>\n",
       "      <th></th>\n",
       "    </tr>\n",
       "  </thead>\n",
       "  <tbody>\n",
       "    <tr>\n",
       "      <th>1</th>\n",
       "      <td>0.997</td>\n",
       "      <td>0.971</td>\n",
       "      <td>0.885</td>\n",
       "      <td>0.860</td>\n",
       "      <td>0.532</td>\n",
       "      <td>0.806</td>\n",
       "      <td>0.866</td>\n",
       "    </tr>\n",
       "    <tr>\n",
       "      <th>2</th>\n",
       "      <td>0.667</td>\n",
       "      <td>0.014</td>\n",
       "      <td>0.102</td>\n",
       "      <td>-0.375</td>\n",
       "      <td>0.285</td>\n",
       "      <td>-0.209</td>\n",
       "      <td>-0.496</td>\n",
       "    </tr>\n",
       "    <tr>\n",
       "      <th>3</th>\n",
       "      <td>-0.175</td>\n",
       "      <td>-0.403</td>\n",
       "      <td>0.323</td>\n",
       "      <td>0.181</td>\n",
       "      <td>0.217</td>\n",
       "      <td>0.397</td>\n",
       "      <td>-0.359</td>\n",
       "    </tr>\n",
       "    <tr>\n",
       "      <th>4</th>\n",
       "      <td>0.203</td>\n",
       "      <td>-0.058</td>\n",
       "      <td>0.155</td>\n",
       "      <td>0.132</td>\n",
       "      <td>-0.569</td>\n",
       "      <td>0.031</td>\n",
       "      <td>-0.137</td>\n",
       "    </tr>\n",
       "    <tr>\n",
       "      <th>5</th>\n",
       "      <td>-0.005</td>\n",
       "      <td>-0.148</td>\n",
       "      <td>0.197</td>\n",
       "      <td>0.177</td>\n",
       "      <td>0.068</td>\n",
       "      <td>-0.355</td>\n",
       "      <td>0.084</td>\n",
       "    </tr>\n",
       "    <tr>\n",
       "      <th>6</th>\n",
       "      <td>-0.173</td>\n",
       "      <td>0.167</td>\n",
       "      <td>0.299</td>\n",
       "      <td>-0.229</td>\n",
       "      <td>-0.050</td>\n",
       "      <td>-0.027</td>\n",
       "      <td>-0.010</td>\n",
       "    </tr>\n",
       "    <tr>\n",
       "      <th>7</th>\n",
       "      <td>0.089</td>\n",
       "      <td>-0.214</td>\n",
       "      <td>0.045</td>\n",
       "      <td>-0.177</td>\n",
       "      <td>-0.023</td>\n",
       "      <td>0.072</td>\n",
       "      <td>0.214</td>\n",
       "    </tr>\n",
       "  </tbody>\n",
       "</table>\n",
       "</div>"
      ],
      "text/plain": [
       "             COP    CVX    EOG    OXY    PSX    SLB    XOM\n",
       "Component                                                 \n",
       "1          0.997  0.971  0.885  0.860  0.532  0.806  0.866\n",
       "2          0.667  0.014  0.102 -0.375  0.285 -0.209 -0.496\n",
       "3         -0.175 -0.403  0.323  0.181  0.217  0.397 -0.359\n",
       "4          0.203 -0.058  0.155  0.132 -0.569  0.031 -0.137\n",
       "5         -0.005 -0.148  0.197  0.177  0.068 -0.355  0.084\n",
       "6         -0.173  0.167  0.299 -0.229 -0.050 -0.027 -0.010\n",
       "7          0.089 -0.214  0.045 -0.177 -0.023  0.072  0.214"
      ]
     },
     "metadata": {},
     "output_type": "display_data"
    }
   ],
   "source": [
    "# Get SVD breakdown, cast into matrices.\n",
    "U, s, V = np.linalg.svd(X_xle)\n",
    "U = np.matrix(U)  # n x n matrix\n",
    "S = np.zeros((n, p)) \n",
    "S[:p, :p] = np.diag(s)\n",
    "S = np.matrix(S)  # n x p matrix\n",
    "V = np.matrix(V).T  # p x p matrix eigenvectors\n",
    "\n",
    "# Get eigenvalues through the singular values.\n",
    "eigvals_xle = [(s_**2)/(n - 1) for s_ in s]\n",
    "\n",
    "# Create tables for proportion of variation and eigenvectors.\n",
    "df_variation_xle = create_proportion_of_variation_df(eigvals_xle)\n",
    "print('Variation Explained:')\n",
    "display(df_variation_xle.round(3))\n",
    "\n",
    "# Create loadings DataFrame.\n",
    "idx = pd.Series([i + 1 for i in range(p)], name='Component')\n",
    "loadings_xle = pd.DataFrame(np.multiply(V, \n",
    "                                        np.sqrt(np.abs(eigvals_xle))).T,\n",
    "                           columns=XLE_df_std.columns,\n",
    "                           index=idx)\n",
    "print('\\nLoadings:')\n",
    "display(loadings_xle.round(3))"
   ]
  },
  {
   "cell_type": "markdown",
   "metadata": {},
   "source": [
    "### Proportion z-test"
   ]
  },
  {
   "cell_type": "code",
   "execution_count": 56,
   "metadata": {
    "collapsed": true
   },
   "outputs": [],
   "source": [
    "def count_same_sign(df_load, crypto_pair, n_comp):\n",
    "    \"\"\"Returns number of times loadings are of the same sign for pair of \n",
    "    cryptocurrencies among n_comp components.\n",
    "    \"\"\"\n",
    "    same_sign = 0\n",
    "    crypt1, crypt2 = crypto_pair\n",
    "    for i in range(1, n_comp + 1):\n",
    "        loadings = [df_load.loc[i][crypt1], df_load.loc[i][crypt2]]\n",
    "        signs = [int(s) for s in np.sign(loadings)]\n",
    "        if abs(sum(signs)) == 2:\n",
    "            same_sign += 1\n",
    "    return same_sign"
   ]
  },
  {
   "cell_type": "code",
   "execution_count": 57,
   "metadata": {
    "collapsed": false
   },
   "outputs": [
    {
     "data": {
      "text/html": [
       "<div>\n",
       "<table border=\"1\" class=\"dataframe\">\n",
       "  <thead>\n",
       "    <tr style=\"text-align: right;\">\n",
       "      <th></th>\n",
       "      <th>Crypto 1</th>\n",
       "      <th>Crypto 2</th>\n",
       "      <th>Same Sign Loading</th>\n",
       "    </tr>\n",
       "  </thead>\n",
       "  <tbody>\n",
       "    <tr>\n",
       "      <th>0</th>\n",
       "      <td>rip</td>\n",
       "      <td>btc</td>\n",
       "      <td>2</td>\n",
       "    </tr>\n",
       "    <tr>\n",
       "      <th>1</th>\n",
       "      <td>rip</td>\n",
       "      <td>eth</td>\n",
       "      <td>2</td>\n",
       "    </tr>\n",
       "    <tr>\n",
       "      <th>2</th>\n",
       "      <td>rip</td>\n",
       "      <td>ltc</td>\n",
       "      <td>3</td>\n",
       "    </tr>\n",
       "    <tr>\n",
       "      <th>3</th>\n",
       "      <td>rip</td>\n",
       "      <td>mon</td>\n",
       "      <td>1</td>\n",
       "    </tr>\n",
       "    <tr>\n",
       "      <th>4</th>\n",
       "      <td>rip</td>\n",
       "      <td>nem</td>\n",
       "      <td>3</td>\n",
       "    </tr>\n",
       "    <tr>\n",
       "      <th>5</th>\n",
       "      <td>rip</td>\n",
       "      <td>dash</td>\n",
       "      <td>2</td>\n",
       "    </tr>\n",
       "    <tr>\n",
       "      <th>6</th>\n",
       "      <td>btc</td>\n",
       "      <td>eth</td>\n",
       "      <td>1</td>\n",
       "    </tr>\n",
       "    <tr>\n",
       "      <th>7</th>\n",
       "      <td>btc</td>\n",
       "      <td>ltc</td>\n",
       "      <td>2</td>\n",
       "    </tr>\n",
       "    <tr>\n",
       "      <th>8</th>\n",
       "      <td>btc</td>\n",
       "      <td>mon</td>\n",
       "      <td>2</td>\n",
       "    </tr>\n",
       "    <tr>\n",
       "      <th>9</th>\n",
       "      <td>btc</td>\n",
       "      <td>nem</td>\n",
       "      <td>2</td>\n",
       "    </tr>\n",
       "    <tr>\n",
       "      <th>10</th>\n",
       "      <td>btc</td>\n",
       "      <td>dash</td>\n",
       "      <td>1</td>\n",
       "    </tr>\n",
       "    <tr>\n",
       "      <th>11</th>\n",
       "      <td>eth</td>\n",
       "      <td>ltc</td>\n",
       "      <td>2</td>\n",
       "    </tr>\n",
       "    <tr>\n",
       "      <th>12</th>\n",
       "      <td>eth</td>\n",
       "      <td>mon</td>\n",
       "      <td>2</td>\n",
       "    </tr>\n",
       "    <tr>\n",
       "      <th>13</th>\n",
       "      <td>eth</td>\n",
       "      <td>nem</td>\n",
       "      <td>2</td>\n",
       "    </tr>\n",
       "    <tr>\n",
       "      <th>14</th>\n",
       "      <td>eth</td>\n",
       "      <td>dash</td>\n",
       "      <td>3</td>\n",
       "    </tr>\n",
       "    <tr>\n",
       "      <th>15</th>\n",
       "      <td>ltc</td>\n",
       "      <td>mon</td>\n",
       "      <td>1</td>\n",
       "    </tr>\n",
       "    <tr>\n",
       "      <th>16</th>\n",
       "      <td>ltc</td>\n",
       "      <td>nem</td>\n",
       "      <td>3</td>\n",
       "    </tr>\n",
       "    <tr>\n",
       "      <th>17</th>\n",
       "      <td>ltc</td>\n",
       "      <td>dash</td>\n",
       "      <td>2</td>\n",
       "    </tr>\n",
       "    <tr>\n",
       "      <th>18</th>\n",
       "      <td>mon</td>\n",
       "      <td>nem</td>\n",
       "      <td>1</td>\n",
       "    </tr>\n",
       "    <tr>\n",
       "      <th>19</th>\n",
       "      <td>mon</td>\n",
       "      <td>dash</td>\n",
       "      <td>2</td>\n",
       "    </tr>\n",
       "    <tr>\n",
       "      <th>20</th>\n",
       "      <td>nem</td>\n",
       "      <td>dash</td>\n",
       "      <td>2</td>\n",
       "    </tr>\n",
       "  </tbody>\n",
       "</table>\n",
       "</div>"
      ],
      "text/plain": [
       "   Crypto 1 Crypto 2  Same Sign Loading\n",
       "0       rip      btc                  2\n",
       "1       rip      eth                  2\n",
       "2       rip      ltc                  3\n",
       "3       rip      mon                  1\n",
       "4       rip      nem                  3\n",
       "5       rip     dash                  2\n",
       "6       btc      eth                  1\n",
       "7       btc      ltc                  2\n",
       "8       btc      mon                  2\n",
       "9       btc      nem                  2\n",
       "10      btc     dash                  1\n",
       "11      eth      ltc                  2\n",
       "12      eth      mon                  2\n",
       "13      eth      nem                  2\n",
       "14      eth     dash                  3\n",
       "15      ltc      mon                  1\n",
       "16      ltc      nem                  3\n",
       "17      ltc     dash                  2\n",
       "18      mon      nem                  1\n",
       "19      mon     dash                  2\n",
       "20      nem     dash                  2"
      ]
     },
     "metadata": {},
     "output_type": "display_data"
    },
    {
     "data": {
      "text/html": [
       "<div>\n",
       "<table border=\"1\" class=\"dataframe\">\n",
       "  <thead>\n",
       "    <tr style=\"text-align: right;\">\n",
       "      <th></th>\n",
       "      <th>Stock 1</th>\n",
       "      <th>Stock 2</th>\n",
       "      <th>Same Sign Loading</th>\n",
       "    </tr>\n",
       "  </thead>\n",
       "  <tbody>\n",
       "    <tr>\n",
       "      <th>0</th>\n",
       "      <td>COP</td>\n",
       "      <td>CVX</td>\n",
       "      <td>3</td>\n",
       "    </tr>\n",
       "    <tr>\n",
       "      <th>1</th>\n",
       "      <td>COP</td>\n",
       "      <td>EOG</td>\n",
       "      <td>2</td>\n",
       "    </tr>\n",
       "    <tr>\n",
       "      <th>2</th>\n",
       "      <td>COP</td>\n",
       "      <td>OXY</td>\n",
       "      <td>1</td>\n",
       "    </tr>\n",
       "    <tr>\n",
       "      <th>3</th>\n",
       "      <td>COP</td>\n",
       "      <td>PSX</td>\n",
       "      <td>2</td>\n",
       "    </tr>\n",
       "    <tr>\n",
       "      <th>4</th>\n",
       "      <td>COP</td>\n",
       "      <td>SLB</td>\n",
       "      <td>1</td>\n",
       "    </tr>\n",
       "    <tr>\n",
       "      <th>5</th>\n",
       "      <td>COP</td>\n",
       "      <td>XOM</td>\n",
       "      <td>2</td>\n",
       "    </tr>\n",
       "    <tr>\n",
       "      <th>6</th>\n",
       "      <td>CVX</td>\n",
       "      <td>EOG</td>\n",
       "      <td>2</td>\n",
       "    </tr>\n",
       "    <tr>\n",
       "      <th>7</th>\n",
       "      <td>CVX</td>\n",
       "      <td>OXY</td>\n",
       "      <td>1</td>\n",
       "    </tr>\n",
       "    <tr>\n",
       "      <th>8</th>\n",
       "      <td>CVX</td>\n",
       "      <td>PSX</td>\n",
       "      <td>2</td>\n",
       "    </tr>\n",
       "    <tr>\n",
       "      <th>9</th>\n",
       "      <td>CVX</td>\n",
       "      <td>SLB</td>\n",
       "      <td>1</td>\n",
       "    </tr>\n",
       "    <tr>\n",
       "      <th>10</th>\n",
       "      <td>CVX</td>\n",
       "      <td>XOM</td>\n",
       "      <td>2</td>\n",
       "    </tr>\n",
       "    <tr>\n",
       "      <th>11</th>\n",
       "      <td>EOG</td>\n",
       "      <td>OXY</td>\n",
       "      <td>2</td>\n",
       "    </tr>\n",
       "    <tr>\n",
       "      <th>12</th>\n",
       "      <td>EOG</td>\n",
       "      <td>PSX</td>\n",
       "      <td>3</td>\n",
       "    </tr>\n",
       "    <tr>\n",
       "      <th>13</th>\n",
       "      <td>EOG</td>\n",
       "      <td>SLB</td>\n",
       "      <td>2</td>\n",
       "    </tr>\n",
       "    <tr>\n",
       "      <th>14</th>\n",
       "      <td>EOG</td>\n",
       "      <td>XOM</td>\n",
       "      <td>1</td>\n",
       "    </tr>\n",
       "    <tr>\n",
       "      <th>15</th>\n",
       "      <td>OXY</td>\n",
       "      <td>PSX</td>\n",
       "      <td>2</td>\n",
       "    </tr>\n",
       "    <tr>\n",
       "      <th>16</th>\n",
       "      <td>OXY</td>\n",
       "      <td>SLB</td>\n",
       "      <td>3</td>\n",
       "    </tr>\n",
       "    <tr>\n",
       "      <th>17</th>\n",
       "      <td>OXY</td>\n",
       "      <td>XOM</td>\n",
       "      <td>2</td>\n",
       "    </tr>\n",
       "    <tr>\n",
       "      <th>18</th>\n",
       "      <td>PSX</td>\n",
       "      <td>SLB</td>\n",
       "      <td>2</td>\n",
       "    </tr>\n",
       "    <tr>\n",
       "      <th>19</th>\n",
       "      <td>PSX</td>\n",
       "      <td>XOM</td>\n",
       "      <td>1</td>\n",
       "    </tr>\n",
       "    <tr>\n",
       "      <th>20</th>\n",
       "      <td>SLB</td>\n",
       "      <td>XOM</td>\n",
       "      <td>2</td>\n",
       "    </tr>\n",
       "  </tbody>\n",
       "</table>\n",
       "</div>"
      ],
      "text/plain": [
       "   Stock 1 Stock 2  Same Sign Loading\n",
       "0      COP     CVX                  3\n",
       "1      COP     EOG                  2\n",
       "2      COP     OXY                  1\n",
       "3      COP     PSX                  2\n",
       "4      COP     SLB                  1\n",
       "5      COP     XOM                  2\n",
       "6      CVX     EOG                  2\n",
       "7      CVX     OXY                  1\n",
       "8      CVX     PSX                  2\n",
       "9      CVX     SLB                  1\n",
       "10     CVX     XOM                  2\n",
       "11     EOG     OXY                  2\n",
       "12     EOG     PSX                  3\n",
       "13     EOG     SLB                  2\n",
       "14     EOG     XOM                  1\n",
       "15     OXY     PSX                  2\n",
       "16     OXY     SLB                  3\n",
       "17     OXY     XOM                  2\n",
       "18     PSX     SLB                  2\n",
       "19     PSX     XOM                  1\n",
       "20     SLB     XOM                  2"
      ]
     },
     "metadata": {},
     "output_type": "display_data"
    }
   ],
   "source": [
    "# Prepare DataFrame storing number of times the loadings for a pair of \n",
    "# assets have the same signs for a certain number of PCs.\n",
    "\n",
    "ss_n_comp_cryp = 3\n",
    "ss_n_comp_xle = 3\n",
    "\n",
    "# First prepare for cryptos.\n",
    "cryp_pairs = list(combinations(loadings_cryp.columns, 2))\n",
    "cryp_rows = []\n",
    "for pair in cryp_pairs:\n",
    "    count = count_same_sign(loadings_cryp, pair, n_comp=ss_n_comp_cryp)\n",
    "    cryp_rows.append([pair[0], pair[1], count])\n",
    "\n",
    "cols = ['Crypto 1', 'Crypto 2', 'Same Sign Loading']\n",
    "cryp_ss_df = pd.DataFrame(cryp_rows, columns=cols)\n",
    "display(cryp_ss_df)\n",
    "\n",
    "# Prepare for energy.\n",
    "xle_pairs = list(combinations(loadings_xle.columns, 2))\n",
    "xle_rows = []\n",
    "for pair in xle_pairs:\n",
    "    count = count_same_sign(loadings_xle, pair, n_comp=ss_n_comp_xle)\n",
    "    xle_rows.append([pair[0], pair[1], count])\n",
    "\n",
    "cols = ['Stock 1', 'Stock 2', 'Same Sign Loading']\n",
    "xle_ss_df = pd.DataFrame(xle_rows, columns=cols)\n",
    "display(xle_ss_df)"
   ]
  },
  {
   "cell_type": "code",
   "execution_count": 58,
   "metadata": {
    "collapsed": false
   },
   "outputs": [
    {
     "name": "stdout",
     "output_type": "stream",
     "text": [
      "Crypto proportion z-test:\n",
      "z-stat: 2.394\n",
      "p-value: 1.6676%\n",
      "\n",
      "XLE proportion z-test:\n",
      "z-stat: 1.890\n",
      "p-value: 5.8782%\n"
     ]
    }
   ],
   "source": [
    "# Perform proportion z-test using proportion of times the crypto pair \n",
    "# had the same loading signs.\n",
    "\n",
    "def perform_proportion_ztest(ss_df, ncomp, null_hypo_value = 0.5):\n",
    "    \"\"\"Performs proportion z-test on DF containing number of same-sign pairs.\"\"\"    \n",
    "    ss_counts = ss_df['Same Sign Loading'].tolist()\n",
    "    total_same_sign = sum(ss_counts)\n",
    "    total_obs = ncomp * len(ss_df.index)\n",
    "    return proportions_ztest(total_same_sign, \n",
    "                             nobs=total_obs, \n",
    "                             value=null_hypo_value,\n",
    "                             alternative='two-sided', \n",
    "                             prop_var=null_hypo_value)\n",
    "    \n",
    "print('Crypto proportion z-test:')\n",
    "zstat, pval = perform_proportion_ztest(cryp_ss_df, ss_n_comp_cryp)\n",
    "print('z-stat: {:.3f}\\np-value: {:.4%}'.format(zstat, pval))\n",
    "\n",
    "print('\\nXLE proportion z-test:')\n",
    "zstat, pval = perform_proportion_ztest(xle_ss_df, ss_n_comp_xle)\n",
    "print('z-stat: {:.3f}\\np-value: {:.4%}'.format(zstat, pval))"
   ]
  },
  {
   "cell_type": "code",
   "execution_count": 59,
   "metadata": {
    "collapsed": true
   },
   "outputs": [],
   "source": [
    "def save_string(filename, s):\n",
    "    if filename[-4:] != '.txt': filename += '.txt'\n",
    "    with open(filename, \"w\") as text_file:\n",
    "        text_file.write(s)"
   ]
  },
  {
   "cell_type": "code",
   "execution_count": 60,
   "metadata": {
    "collapsed": true
   },
   "outputs": [],
   "source": [
    "save_string('cryp loadings', loadings_cryp.round(3).to_latex())"
   ]
  },
  {
   "cell_type": "markdown",
   "metadata": {},
   "source": [
    "### Inter-temporal consistency of covariance matrix"
   ]
  },
  {
   "cell_type": "code",
   "execution_count": 61,
   "metadata": {
    "collapsed": false
   },
   "outputs": [
    {
     "name": "stdout",
     "output_type": "stream",
     "text": [
      "Time frame 1: 2015-09-06 00:00:00-2016-10-06 00:00:00\n",
      "Time frame 2: 2016-10-07 00:00:00-2017-11-07 00:00:00\n"
     ]
    }
   ],
   "source": [
    "# Split crypto DF into two time periods.\n",
    "\n",
    "tmid = int(len(cryp_std.index)/2)\n",
    "cryp_t1 = cryp_std.iloc[0:tmid]\n",
    "cryp_t2 = cryp_std.iloc[tmid:]\n",
    "print('Time frame 1: {}-{}'.format(min(cryp_t1.index), max(cryp_t1.index)))\n",
    "print('Time frame 2: {}-{}'.format(min(cryp_t2.index), max(cryp_t2.index)))"
   ]
  },
  {
   "cell_type": "code",
   "execution_count": 62,
   "metadata": {
    "collapsed": true
   },
   "outputs": [],
   "source": [
    "# Prepare proportion of variation and loadings DF for both time periods.\n",
    "\n",
    "def get_loadings(X, colnames):\n",
    "    \"\"\"Returns proportion of variation DF and loadings DF.\"\"\"\n",
    "    # Get SVD breakdown, cast into matrices.\n",
    "    n, p = X.shape\n",
    "    U, s, V = np.linalg.svd(X)\n",
    "    U = np.matrix(U)  # n x n matrix\n",
    "    S = np.zeros((n, p)) \n",
    "    S[:p, :p] = np.diag(s)\n",
    "    S = np.matrix(S)  # n x p matrix\n",
    "    V = np.matrix(V).T  # p x p matrix eigenvectors\n",
    "    \n",
    "    # Get eigenvalues through the singular values.\n",
    "    eigvals = [(s_**2)/(n - 1) for s_ in s]\n",
    "\n",
    "    # Create DF for proportion of variation.\n",
    "    df_variation = create_proportion_of_variation_df(eigvals)\n",
    "    \n",
    "    # Create loadings DataFrame.\n",
    "    idx = pd.Series([i + 1 for i in range(p)], name='Component')\n",
    "    df_loadings = pd.DataFrame(np.multiply(V, \n",
    "                                        np.sqrt(np.abs(eigvals))).T,\n",
    "                               columns=colnames,\n",
    "                               index=idx)\n",
    "    return df_variation, df_loadings\n",
    "\n",
    "variation_t1, loadings_t1 = get_loadings(cryp_t1.values, cryp_std.columns)\n",
    "variation_t2, loadings_t2 = get_loadings(cryp_t2.values, cryp_std.columns)"
   ]
  },
  {
   "cell_type": "code",
   "execution_count": 63,
   "metadata": {
    "collapsed": false
   },
   "outputs": [
    {
     "name": "stdout",
     "output_type": "stream",
     "text": [
      "Variation in T1:\n"
     ]
    },
    {
     "data": {
      "text/html": [
       "<div>\n",
       "<table border=\"1\" class=\"dataframe\">\n",
       "  <thead>\n",
       "    <tr style=\"text-align: right;\">\n",
       "      <th></th>\n",
       "      <th>eigenvalue</th>\n",
       "      <th>proportion</th>\n",
       "      <th>cumulative</th>\n",
       "    </tr>\n",
       "    <tr>\n",
       "      <th>component</th>\n",
       "      <th></th>\n",
       "      <th></th>\n",
       "      <th></th>\n",
       "    </tr>\n",
       "  </thead>\n",
       "  <tbody>\n",
       "    <tr>\n",
       "      <th>1</th>\n",
       "      <td>1.665</td>\n",
       "      <td>0.360</td>\n",
       "      <td>0.360</td>\n",
       "    </tr>\n",
       "    <tr>\n",
       "      <th>2</th>\n",
       "      <td>1.079</td>\n",
       "      <td>0.233</td>\n",
       "      <td>0.594</td>\n",
       "    </tr>\n",
       "    <tr>\n",
       "      <th>3</th>\n",
       "      <td>0.843</td>\n",
       "      <td>0.182</td>\n",
       "      <td>0.776</td>\n",
       "    </tr>\n",
       "    <tr>\n",
       "      <th>4</th>\n",
       "      <td>0.684</td>\n",
       "      <td>0.148</td>\n",
       "      <td>0.924</td>\n",
       "    </tr>\n",
       "    <tr>\n",
       "      <th>5</th>\n",
       "      <td>0.247</td>\n",
       "      <td>0.054</td>\n",
       "      <td>0.978</td>\n",
       "    </tr>\n",
       "    <tr>\n",
       "      <th>6</th>\n",
       "      <td>0.071</td>\n",
       "      <td>0.015</td>\n",
       "      <td>0.993</td>\n",
       "    </tr>\n",
       "    <tr>\n",
       "      <th>7</th>\n",
       "      <td>0.032</td>\n",
       "      <td>0.007</td>\n",
       "      <td>1.000</td>\n",
       "    </tr>\n",
       "  </tbody>\n",
       "</table>\n",
       "</div>"
      ],
      "text/plain": [
       "           eigenvalue  proportion  cumulative\n",
       "component                                    \n",
       "1               1.665       0.360       0.360\n",
       "2               1.079       0.233       0.594\n",
       "3               0.843       0.182       0.776\n",
       "4               0.684       0.148       0.924\n",
       "5               0.247       0.054       0.978\n",
       "6               0.071       0.015       0.993\n",
       "7               0.032       0.007       1.000"
      ]
     },
     "metadata": {},
     "output_type": "display_data"
    },
    {
     "name": "stdout",
     "output_type": "stream",
     "text": [
      "\n",
      "Variation in T2:\n"
     ]
    },
    {
     "data": {
      "text/html": [
       "<div>\n",
       "<table border=\"1\" class=\"dataframe\">\n",
       "  <thead>\n",
       "    <tr style=\"text-align: right;\">\n",
       "      <th></th>\n",
       "      <th>eigenvalue</th>\n",
       "      <th>proportion</th>\n",
       "      <th>cumulative</th>\n",
       "    </tr>\n",
       "    <tr>\n",
       "      <th>component</th>\n",
       "      <th></th>\n",
       "      <th></th>\n",
       "      <th></th>\n",
       "    </tr>\n",
       "  </thead>\n",
       "  <tbody>\n",
       "    <tr>\n",
       "      <th>1</th>\n",
       "      <td>4.600</td>\n",
       "      <td>0.489</td>\n",
       "      <td>0.489</td>\n",
       "    </tr>\n",
       "    <tr>\n",
       "      <th>2</th>\n",
       "      <td>2.265</td>\n",
       "      <td>0.241</td>\n",
       "      <td>0.729</td>\n",
       "    </tr>\n",
       "    <tr>\n",
       "      <th>3</th>\n",
       "      <td>1.164</td>\n",
       "      <td>0.124</td>\n",
       "      <td>0.853</td>\n",
       "    </tr>\n",
       "    <tr>\n",
       "      <th>4</th>\n",
       "      <td>0.628</td>\n",
       "      <td>0.067</td>\n",
       "      <td>0.920</td>\n",
       "    </tr>\n",
       "    <tr>\n",
       "      <th>5</th>\n",
       "      <td>0.296</td>\n",
       "      <td>0.031</td>\n",
       "      <td>0.951</td>\n",
       "    </tr>\n",
       "    <tr>\n",
       "      <th>6</th>\n",
       "      <td>0.241</td>\n",
       "      <td>0.026</td>\n",
       "      <td>0.977</td>\n",
       "    </tr>\n",
       "    <tr>\n",
       "      <th>7</th>\n",
       "      <td>0.220</td>\n",
       "      <td>0.023</td>\n",
       "      <td>1.000</td>\n",
       "    </tr>\n",
       "  </tbody>\n",
       "</table>\n",
       "</div>"
      ],
      "text/plain": [
       "           eigenvalue  proportion  cumulative\n",
       "component                                    \n",
       "1               4.600       0.489       0.489\n",
       "2               2.265       0.241       0.729\n",
       "3               1.164       0.124       0.853\n",
       "4               0.628       0.067       0.920\n",
       "5               0.296       0.031       0.951\n",
       "6               0.241       0.026       0.977\n",
       "7               0.220       0.023       1.000"
      ]
     },
     "metadata": {},
     "output_type": "display_data"
    }
   ],
   "source": [
    "print('Variation in T1:')\n",
    "display(variation_t1)\n",
    "print('\\nVariation in T2:')\n",
    "display(variation_t2)"
   ]
  },
  {
   "cell_type": "code",
   "execution_count": 64,
   "metadata": {
    "collapsed": false
   },
   "outputs": [
    {
     "name": "stdout",
     "output_type": "stream",
     "text": [
      "Loadings in T1:\n"
     ]
    },
    {
     "data": {
      "text/html": [
       "<div>\n",
       "<table border=\"1\" class=\"dataframe\">\n",
       "  <thead>\n",
       "    <tr style=\"text-align: right;\">\n",
       "      <th></th>\n",
       "      <th>rip</th>\n",
       "      <th>btc</th>\n",
       "      <th>eth</th>\n",
       "      <th>ltc</th>\n",
       "      <th>mon</th>\n",
       "      <th>nem</th>\n",
       "      <th>dash</th>\n",
       "    </tr>\n",
       "    <tr>\n",
       "      <th>Component</th>\n",
       "      <th></th>\n",
       "      <th></th>\n",
       "      <th></th>\n",
       "      <th></th>\n",
       "      <th></th>\n",
       "      <th></th>\n",
       "      <th></th>\n",
       "    </tr>\n",
       "  </thead>\n",
       "  <tbody>\n",
       "    <tr>\n",
       "      <th>1</th>\n",
       "      <td>-0.001</td>\n",
       "      <td>0.059</td>\n",
       "      <td>-0.165</td>\n",
       "      <td>0.028</td>\n",
       "      <td>-1.276</td>\n",
       "      <td>-0.072</td>\n",
       "      <td>0.003</td>\n",
       "    </tr>\n",
       "    <tr>\n",
       "      <th>2</th>\n",
       "      <td>0.088</td>\n",
       "      <td>0.031</td>\n",
       "      <td>0.926</td>\n",
       "      <td>0.031</td>\n",
       "      <td>-0.141</td>\n",
       "      <td>0.424</td>\n",
       "      <td>0.110</td>\n",
       "    </tr>\n",
       "    <tr>\n",
       "      <th>3</th>\n",
       "      <td>0.117</td>\n",
       "      <td>0.716</td>\n",
       "      <td>-0.236</td>\n",
       "      <td>0.258</td>\n",
       "      <td>0.045</td>\n",
       "      <td>0.438</td>\n",
       "      <td>-0.017</td>\n",
       "    </tr>\n",
       "    <tr>\n",
       "      <th>4</th>\n",
       "      <td>0.097</td>\n",
       "      <td>0.358</td>\n",
       "      <td>0.258</td>\n",
       "      <td>0.275</td>\n",
       "      <td>0.025</td>\n",
       "      <td>-0.634</td>\n",
       "      <td>0.044</td>\n",
       "    </tr>\n",
       "    <tr>\n",
       "      <th>5</th>\n",
       "      <td>0.132</td>\n",
       "      <td>-0.102</td>\n",
       "      <td>-0.076</td>\n",
       "      <td>0.140</td>\n",
       "      <td>0.008</td>\n",
       "      <td>0.024</td>\n",
       "      <td>0.440</td>\n",
       "    </tr>\n",
       "    <tr>\n",
       "      <th>6</th>\n",
       "      <td>0.179</td>\n",
       "      <td>-0.092</td>\n",
       "      <td>-0.012</td>\n",
       "      <td>0.127</td>\n",
       "      <td>-0.001</td>\n",
       "      <td>0.017</td>\n",
       "      <td>-0.118</td>\n",
       "    </tr>\n",
       "    <tr>\n",
       "      <th>7</th>\n",
       "      <td>0.119</td>\n",
       "      <td>0.036</td>\n",
       "      <td>-0.002</td>\n",
       "      <td>-0.127</td>\n",
       "      <td>0.000</td>\n",
       "      <td>-0.016</td>\n",
       "      <td>0.014</td>\n",
       "    </tr>\n",
       "  </tbody>\n",
       "</table>\n",
       "</div>"
      ],
      "text/plain": [
       "             rip    btc    eth    ltc    mon    nem   dash\n",
       "Component                                                 \n",
       "1         -0.001  0.059 -0.165  0.028 -1.276 -0.072  0.003\n",
       "2          0.088  0.031  0.926  0.031 -0.141  0.424  0.110\n",
       "3          0.117  0.716 -0.236  0.258  0.045  0.438 -0.017\n",
       "4          0.097  0.358  0.258  0.275  0.025 -0.634  0.044\n",
       "5          0.132 -0.102 -0.076  0.140  0.008  0.024  0.440\n",
       "6          0.179 -0.092 -0.012  0.127 -0.001  0.017 -0.118\n",
       "7          0.119  0.036 -0.002 -0.127  0.000 -0.016  0.014"
      ]
     },
     "metadata": {},
     "output_type": "display_data"
    },
    {
     "name": "stdout",
     "output_type": "stream",
     "text": [
      "\n",
      "Loadings in T2:\n"
     ]
    },
    {
     "data": {
      "text/html": [
       "<div>\n",
       "<table border=\"1\" class=\"dataframe\">\n",
       "  <thead>\n",
       "    <tr style=\"text-align: right;\">\n",
       "      <th></th>\n",
       "      <th>rip</th>\n",
       "      <th>btc</th>\n",
       "      <th>eth</th>\n",
       "      <th>ltc</th>\n",
       "      <th>mon</th>\n",
       "      <th>nem</th>\n",
       "      <th>dash</th>\n",
       "    </tr>\n",
       "    <tr>\n",
       "      <th>Component</th>\n",
       "      <th></th>\n",
       "      <th></th>\n",
       "      <th></th>\n",
       "      <th></th>\n",
       "      <th></th>\n",
       "      <th></th>\n",
       "      <th></th>\n",
       "    </tr>\n",
       "  </thead>\n",
       "  <tbody>\n",
       "    <tr>\n",
       "      <th>1</th>\n",
       "      <td>1.244</td>\n",
       "      <td>0.608</td>\n",
       "      <td>0.627</td>\n",
       "      <td>1.075</td>\n",
       "      <td>0.207</td>\n",
       "      <td>0.995</td>\n",
       "      <td>0.320</td>\n",
       "    </tr>\n",
       "    <tr>\n",
       "      <th>2</th>\n",
       "      <td>-0.324</td>\n",
       "      <td>0.062</td>\n",
       "      <td>0.625</td>\n",
       "      <td>-0.419</td>\n",
       "      <td>0.225</td>\n",
       "      <td>-0.021</td>\n",
       "      <td>1.241</td>\n",
       "    </tr>\n",
       "    <tr>\n",
       "      <th>3</th>\n",
       "      <td>0.180</td>\n",
       "      <td>-0.952</td>\n",
       "      <td>-0.005</td>\n",
       "      <td>0.368</td>\n",
       "      <td>-0.146</td>\n",
       "      <td>-0.088</td>\n",
       "      <td>0.246</td>\n",
       "    </tr>\n",
       "    <tr>\n",
       "      <th>4</th>\n",
       "      <td>-0.378</td>\n",
       "      <td>0.204</td>\n",
       "      <td>-0.121</td>\n",
       "      <td>0.583</td>\n",
       "      <td>0.057</td>\n",
       "      <td>-0.260</td>\n",
       "      <td>0.134</td>\n",
       "    </tr>\n",
       "    <tr>\n",
       "      <th>5</th>\n",
       "      <td>0.066</td>\n",
       "      <td>0.093</td>\n",
       "      <td>-0.360</td>\n",
       "      <td>-0.039</td>\n",
       "      <td>-0.289</td>\n",
       "      <td>0.115</td>\n",
       "      <td>0.235</td>\n",
       "    </tr>\n",
       "    <tr>\n",
       "      <th>6</th>\n",
       "      <td>-0.163</td>\n",
       "      <td>-0.099</td>\n",
       "      <td>-0.175</td>\n",
       "      <td>0.003</td>\n",
       "      <td>0.278</td>\n",
       "      <td>0.312</td>\n",
       "      <td>0.006</td>\n",
       "    </tr>\n",
       "    <tr>\n",
       "      <th>7</th>\n",
       "      <td>0.228</td>\n",
       "      <td>0.027</td>\n",
       "      <td>-0.184</td>\n",
       "      <td>-0.044</td>\n",
       "      <td>0.275</td>\n",
       "      <td>-0.222</td>\n",
       "      <td>0.083</td>\n",
       "    </tr>\n",
       "  </tbody>\n",
       "</table>\n",
       "</div>"
      ],
      "text/plain": [
       "             rip    btc    eth    ltc    mon    nem   dash\n",
       "Component                                                 \n",
       "1          1.244  0.608  0.627  1.075  0.207  0.995  0.320\n",
       "2         -0.324  0.062  0.625 -0.419  0.225 -0.021  1.241\n",
       "3          0.180 -0.952 -0.005  0.368 -0.146 -0.088  0.246\n",
       "4         -0.378  0.204 -0.121  0.583  0.057 -0.260  0.134\n",
       "5          0.066  0.093 -0.360 -0.039 -0.289  0.115  0.235\n",
       "6         -0.163 -0.099 -0.175  0.003  0.278  0.312  0.006\n",
       "7          0.228  0.027 -0.184 -0.044  0.275 -0.222  0.083"
      ]
     },
     "metadata": {},
     "output_type": "display_data"
    }
   ],
   "source": [
    "print('Loadings in T1:')\n",
    "display(loadings_t1.round(3))\n",
    "print('\\nLoadings in T2:')\n",
    "display(loadings_t2.round(3))"
   ]
  },
  {
   "cell_type": "markdown",
   "metadata": {},
   "source": [
    "#### Regression model from time period 1 to time period 2\n",
    "\n",
    "More appropriate to use no-intercept model?"
   ]
  },
  {
   "cell_type": "code",
   "execution_count": 65,
   "metadata": {
    "collapsed": false
   },
   "outputs": [
    {
     "data": {
      "text/html": [
       "<table class=\"simpletable\">\n",
       "<caption>OLS Regression Results</caption>\n",
       "<tr>\n",
       "  <th>Dep. Variable:</th>            <td>y</td>        <th>  R-squared:         </th> <td>   0.025</td>\n",
       "</tr>\n",
       "<tr>\n",
       "  <th>Model:</th>                   <td>OLS</td>       <th>  Adj. R-squared:    </th> <td>  -0.026</td>\n",
       "</tr>\n",
       "<tr>\n",
       "  <th>Method:</th>             <td>Least Squares</td>  <th>  F-statistic:       </th> <td>  0.4951</td>\n",
       "</tr>\n",
       "<tr>\n",
       "  <th>Date:</th>             <td>Thu, 14 Dec 2017</td> <th>  Prob (F-statistic):</th>  <td> 0.490</td> \n",
       "</tr>\n",
       "<tr>\n",
       "  <th>Time:</th>                 <td>12:01:02</td>     <th>  Log-Likelihood:    </th> <td> -16.843</td>\n",
       "</tr>\n",
       "<tr>\n",
       "  <th>No. Observations:</th>      <td>    21</td>      <th>  AIC:               </th> <td>   37.69</td>\n",
       "</tr>\n",
       "<tr>\n",
       "  <th>Df Residuals:</th>          <td>    19</td>      <th>  BIC:               </th> <td>   39.78</td>\n",
       "</tr>\n",
       "<tr>\n",
       "  <th>Df Model:</th>              <td>     1</td>      <th>                     </th>     <td> </td>   \n",
       "</tr>\n",
       "<tr>\n",
       "  <th>Covariance Type:</th>      <td>nonrobust</td>    <th>                     </th>     <td> </td>   \n",
       "</tr>\n",
       "</table>\n",
       "<table class=\"simpletable\">\n",
       "<tr>\n",
       "      <td></td>         <th>coef</th>     <th>std err</th>      <th>t</th>      <th>P>|t|</th> <th>[95.0% Conf. Int.]</th> \n",
       "</tr>\n",
       "<tr>\n",
       "  <th>t1load</th>    <td>   -0.2134</td> <td>    0.303</td> <td>   -0.704</td> <td> 0.490</td> <td>   -0.848     0.421</td>\n",
       "</tr>\n",
       "<tr>\n",
       "  <th>intercept</th> <td>    0.3029</td> <td>    0.125</td> <td>    2.416</td> <td> 0.026</td> <td>    0.041     0.565</td>\n",
       "</tr>\n",
       "</table>\n",
       "<table class=\"simpletable\">\n",
       "<tr>\n",
       "  <th>Omnibus:</th>       <td> 0.233</td> <th>  Durbin-Watson:     </th> <td>   1.832</td>\n",
       "</tr>\n",
       "<tr>\n",
       "  <th>Prob(Omnibus):</th> <td> 0.890</td> <th>  Jarque-Bera (JB):  </th> <td>   0.414</td>\n",
       "</tr>\n",
       "<tr>\n",
       "  <th>Skew:</th>          <td> 0.163</td> <th>  Prob(JB):          </th> <td>   0.813</td>\n",
       "</tr>\n",
       "<tr>\n",
       "  <th>Kurtosis:</th>      <td> 2.393</td> <th>  Cond. No.          </th> <td>    2.46</td>\n",
       "</tr>\n",
       "</table>"
      ],
      "text/plain": [
       "<class 'statsmodels.iolib.summary.Summary'>\n",
       "\"\"\"\n",
       "                            OLS Regression Results                            \n",
       "==============================================================================\n",
       "Dep. Variable:                      y   R-squared:                       0.025\n",
       "Model:                            OLS   Adj. R-squared:                 -0.026\n",
       "Method:                 Least Squares   F-statistic:                    0.4951\n",
       "Date:                Thu, 14 Dec 2017   Prob (F-statistic):              0.490\n",
       "Time:                        12:01:02   Log-Likelihood:                -16.843\n",
       "No. Observations:                  21   AIC:                             37.69\n",
       "Df Residuals:                      19   BIC:                             39.78\n",
       "Df Model:                           1                                         \n",
       "Covariance Type:            nonrobust                                         \n",
       "==============================================================================\n",
       "                 coef    std err          t      P>|t|      [95.0% Conf. Int.]\n",
       "------------------------------------------------------------------------------\n",
       "t1load        -0.2134      0.303     -0.704      0.490        -0.848     0.421\n",
       "intercept      0.3029      0.125      2.416      0.026         0.041     0.565\n",
       "==============================================================================\n",
       "Omnibus:                        0.233   Durbin-Watson:                   1.832\n",
       "Prob(Omnibus):                  0.890   Jarque-Bera (JB):                0.414\n",
       "Skew:                           0.163   Prob(JB):                        0.813\n",
       "Kurtosis:                       2.393   Cond. No.                         2.46\n",
       "==============================================================================\n",
       "\n",
       "Warnings:\n",
       "[1] Standard Errors assume that the covariance matrix of the errors is correctly specified.\n",
       "\"\"\""
      ]
     },
     "execution_count": 65,
     "metadata": {},
     "output_type": "execute_result"
    }
   ],
   "source": [
    "dft1 = pd.DataFrame()\n",
    "dft1['t1load'] = np.ravel(loadings_t1.iloc[0:3].values)\n",
    "dft1['intercept'] = 1\n",
    "\n",
    "Y = np.ravel(loadings_t2.iloc[0:3].values)\n",
    "\n",
    "model = sm.OLS(Y, dft1).fit()\n",
    "model.summary()"
   ]
  },
  {
   "cell_type": "code",
   "execution_count": null,
   "metadata": {
    "collapsed": true
   },
   "outputs": [],
   "source": []
  }
 ],
 "metadata": {
  "anaconda-cloud": {},
  "kernelspec": {
   "display_name": "Python [py35]",
   "language": "python",
   "name": "Python [py35]"
  },
  "language_info": {
   "codemirror_mode": {
    "name": "ipython",
    "version": 3
   },
   "file_extension": ".py",
   "mimetype": "text/x-python",
   "name": "python",
   "nbconvert_exporter": "python",
   "pygments_lexer": "ipython3",
   "version": "3.5.2"
  }
 },
 "nbformat": 4,
 "nbformat_minor": 2
}

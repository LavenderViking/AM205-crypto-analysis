{
 "cells": [
  {
   "cell_type": "code",
   "execution_count": 1,
   "metadata": {},
   "outputs": [],
   "source": [
    "import matplotlib as mpl\n",
    "import matplotlib.pyplot as plt\n",
    "import seaborn as sns\n",
    "import numpy as np\n",
    "import pandas as pd\n",
    "from sklearn.decomposition import PCA\n",
    "import sklearn.preprocessing as preprocessing\n",
    "from IPython.display import display\n",
    "import matplotlib.pyplot as plt \n",
    "from matplotlib.ticker import MaxNLocator\n",
    "from datetime import datetime\n",
    "np.set_printoptions(precision=3, suppress=True)\n",
    "pd.set_option('display.precision', 3)\n",
    "sns.set_style('darkgrid')\n",
    "#sns.set_context('poster')\n",
    "%matplotlib inline\n",
    "\n",
    "CRYPTO_FILES = [('ripple_price', 'rip'), ('bitcoin_price', 'btc'),\n",
    "                ('ethereum_price', 'eth'), ('litecoin_price', 'ltc'),\n",
    "                ('monero_price', 'mon'), ('nem_price', 'nem'),\n",
    "                ('dash_price', 'dash')]"
   ]
  },
  {
   "cell_type": "code",
   "execution_count": 2,
   "metadata": {},
   "outputs": [],
   "source": [
    "def load_returns_matrix (files, tdelta=pd.Timedelta(days=30), center=True, \n",
    "                         scale=True):\n",
    "    \"\"\"Returns cryptocurrency rolling returns in three formats.\n",
    "    \n",
    "    Args:\n",
    "        files (list of tuples): (asset name, file path) tuples. Asset name \n",
    "            used in column headers for DF.\n",
    "        \n",
    "    Returns:\n",
    "        dfout (DataFrame): Returns without centering/scaling.\n",
    "        dfout_adj (DataFrame): Returns with centering/scaling (depending \n",
    "            on input vals for center and scale).\n",
    "        xout (np.matrix): Returns matrix with centering/scaling (depending \n",
    "            on args), i.e., without index or column names.\n",
    "    \"\"\"\n",
    "    dfs = []\n",
    "    for file, name in files:\n",
    "        path = 'cryptocurrencypricehistory//{}.csv'.format(file)\n",
    "        df = pd.read_csv(path, usecols=['Date', 'Close'])\n",
    "        df['Date'] = pd.to_datetime(df['Date'])\n",
    "        df = df[['Date', 'Close']]\n",
    "        df.set_index('Date', drop=True, inplace=True)\n",
    "        df.rename(columns={'Close':name}, inplace=True)\n",
    "        dfs.append(df)\n",
    "    dfout = pd.concat(dfs, axis=1, join='inner')\n",
    "    dfout = dfout.pct_change(periods=1, freq=tdelta)\n",
    "    dfout.dropna(axis=0, how='any', inplace=True)\n",
    "    xout = preprocessing.scale(dfout, axis=0, with_mean=center, with_std=scale)\n",
    "    dfout_adj = pd.DataFrame(xout, columns=dfout.columns, index=dfout.index)\n",
    "    return dfout, dfout_adj, np.matrix(xout)\n",
    "\n",
    "\n",
    "def create_proportion_of_variation_df (eigvals):\n",
    "    total_var = sum(eigvals)\n",
    "    cols = ['component', 'eigenvalue', 'proportion', 'cumulative']\n",
    "    df = pd.DataFrame(columns=cols)\n",
    "    cum = 0\n",
    "    for i, e in enumerate(eigvals):\n",
    "        cum += e\n",
    "        row = {'component':i + 1,\n",
    "               'eigenvalue':e,\n",
    "               'proportion':e/total_var,\n",
    "               'cumulative':cum/total_var}\n",
    "        df = df.append(row, ignore_index=True)\n",
    "    df['component'] = df['component'].astype(int)\n",
    "    df.set_index('component', drop=True, inplace=True)\n",
    "    return df\n",
    "\n",
    "\n",
    "def create_eigvec_df (eigvecs):\n",
    "    \"\"\"Create DataFrame of eigenvectors.\"\"\"\n",
    "    idx = [i + 1 for i in range(len(eigvecs))]\n",
    "    df = pd.DataFrame(index=idx)\n",
    "    for i, v in enumerate(eigvecs):\n",
    "        df['V{}'.format(i + 1)] = v\n",
    "    return df"
   ]
  },
  {
   "cell_type": "code",
   "execution_count": 3,
   "metadata": {
    "scrolled": true
   },
   "outputs": [
    {
     "name": "stdout",
     "output_type": "stream",
     "text": [
      "Number of returns in data: 794\n"
     ]
    },
    {
     "data": {
      "text/html": [
       "<div>\n",
       "<style>\n",
       "    .dataframe thead tr:only-child th {\n",
       "        text-align: right;\n",
       "    }\n",
       "\n",
       "    .dataframe thead th {\n",
       "        text-align: left;\n",
       "    }\n",
       "\n",
       "    .dataframe tbody tr th {\n",
       "        vertical-align: top;\n",
       "    }\n",
       "</style>\n",
       "<table border=\"1\" class=\"dataframe\">\n",
       "  <thead>\n",
       "    <tr style=\"text-align: right;\">\n",
       "      <th></th>\n",
       "      <th>rip</th>\n",
       "      <th>btc</th>\n",
       "      <th>eth</th>\n",
       "      <th>ltc</th>\n",
       "      <th>mon</th>\n",
       "      <th>nem</th>\n",
       "      <th>dash</th>\n",
       "    </tr>\n",
       "    <tr>\n",
       "      <th>Date</th>\n",
       "      <th></th>\n",
       "      <th></th>\n",
       "      <th></th>\n",
       "      <th></th>\n",
       "      <th></th>\n",
       "      <th></th>\n",
       "      <th></th>\n",
       "    </tr>\n",
       "  </thead>\n",
       "  <tbody>\n",
       "    <tr>\n",
       "      <th>2015-09-06</th>\n",
       "      <td>-0.291</td>\n",
       "      <td>-1.261</td>\n",
       "      <td>-1.125</td>\n",
       "      <td>-0.946</td>\n",
       "      <td>-0.783</td>\n",
       "      <td>-0.776</td>\n",
       "      <td>-0.828</td>\n",
       "    </tr>\n",
       "    <tr>\n",
       "      <th>2015-09-07</th>\n",
       "      <td>-0.314</td>\n",
       "      <td>-0.998</td>\n",
       "      <td>0.299</td>\n",
       "      <td>-0.803</td>\n",
       "      <td>-0.717</td>\n",
       "      <td>-0.739</td>\n",
       "      <td>-0.814</td>\n",
       "    </tr>\n",
       "    <tr>\n",
       "      <th>2015-09-08</th>\n",
       "      <td>-0.345</td>\n",
       "      <td>-0.998</td>\n",
       "      <td>0.427</td>\n",
       "      <td>-0.825</td>\n",
       "      <td>-0.684</td>\n",
       "      <td>-0.693</td>\n",
       "      <td>-0.852</td>\n",
       "    </tr>\n",
       "    <tr>\n",
       "      <th>2015-09-09</th>\n",
       "      <td>-0.353</td>\n",
       "      <td>-1.077</td>\n",
       "      <td>0.357</td>\n",
       "      <td>-0.915</td>\n",
       "      <td>-0.680</td>\n",
       "      <td>-0.772</td>\n",
       "      <td>-0.782</td>\n",
       "    </tr>\n",
       "    <tr>\n",
       "      <th>2015-09-10</th>\n",
       "      <td>-0.343</td>\n",
       "      <td>-1.157</td>\n",
       "      <td>-0.378</td>\n",
       "      <td>-0.979</td>\n",
       "      <td>-0.619</td>\n",
       "      <td>-0.766</td>\n",
       "      <td>-0.845</td>\n",
       "    </tr>\n",
       "  </tbody>\n",
       "</table>\n",
       "</div>"
      ],
      "text/plain": [
       "              rip    btc    eth    ltc    mon    nem   dash\n",
       "Date                                                       \n",
       "2015-09-06 -0.291 -1.261 -1.125 -0.946 -0.783 -0.776 -0.828\n",
       "2015-09-07 -0.314 -0.998  0.299 -0.803 -0.717 -0.739 -0.814\n",
       "2015-09-08 -0.345 -0.998  0.427 -0.825 -0.684 -0.693 -0.852\n",
       "2015-09-09 -0.353 -1.077  0.357 -0.915 -0.680 -0.772 -0.782\n",
       "2015-09-10 -0.343 -1.157 -0.378 -0.979 -0.619 -0.766 -0.845"
      ]
     },
     "execution_count": 3,
     "metadata": {},
     "output_type": "execute_result"
    }
   ],
   "source": [
    "# Init data and obtain covariance matrix.\n",
    "df_returns_unadj, df_returns, X = load_returns_matrix(CRYPTO_FILES,\n",
    "                                                      center=True, scale=True)\n",
    "n, p = X.shape\n",
    "C = np.cov(X, rowvar=False)  # covariance matrix\n",
    "assert n == len(df_returns.index)\n",
    "print('Number of returns in data: {}'.format(n))\n",
    "df_returns.head()"
   ]
  },
  {
   "cell_type": "code",
   "execution_count": 4,
   "metadata": {},
   "outputs": [
    {
     "data": {
      "text/html": [
       "<div>\n",
       "<style>\n",
       "    .dataframe thead tr:only-child th {\n",
       "        text-align: right;\n",
       "    }\n",
       "\n",
       "    .dataframe thead th {\n",
       "        text-align: left;\n",
       "    }\n",
       "\n",
       "    .dataframe tbody tr th {\n",
       "        vertical-align: top;\n",
       "    }\n",
       "</style>\n",
       "<table border=\"1\" class=\"dataframe\">\n",
       "  <thead>\n",
       "    <tr style=\"text-align: right;\">\n",
       "      <th></th>\n",
       "      <th>rip</th>\n",
       "      <th>btc</th>\n",
       "      <th>eth</th>\n",
       "      <th>ltc</th>\n",
       "      <th>mon</th>\n",
       "      <th>nem</th>\n",
       "      <th>dash</th>\n",
       "    </tr>\n",
       "    <tr>\n",
       "      <th>Date</th>\n",
       "      <th></th>\n",
       "      <th></th>\n",
       "      <th></th>\n",
       "      <th></th>\n",
       "      <th></th>\n",
       "      <th></th>\n",
       "      <th></th>\n",
       "    </tr>\n",
       "  </thead>\n",
       "  <tbody>\n",
       "    <tr>\n",
       "      <th>2015-09-06</th>\n",
       "      <td>-0.291</td>\n",
       "      <td>-1.261</td>\n",
       "      <td>-1.125</td>\n",
       "      <td>-0.946</td>\n",
       "      <td>-0.783</td>\n",
       "      <td>-0.776</td>\n",
       "      <td>-0.828</td>\n",
       "    </tr>\n",
       "    <tr>\n",
       "      <th>2015-09-07</th>\n",
       "      <td>-0.314</td>\n",
       "      <td>-0.998</td>\n",
       "      <td>0.299</td>\n",
       "      <td>-0.803</td>\n",
       "      <td>-0.717</td>\n",
       "      <td>-0.739</td>\n",
       "      <td>-0.814</td>\n",
       "    </tr>\n",
       "    <tr>\n",
       "      <th>2015-09-08</th>\n",
       "      <td>-0.345</td>\n",
       "      <td>-0.998</td>\n",
       "      <td>0.427</td>\n",
       "      <td>-0.825</td>\n",
       "      <td>-0.684</td>\n",
       "      <td>-0.693</td>\n",
       "      <td>-0.852</td>\n",
       "    </tr>\n",
       "    <tr>\n",
       "      <th>2015-09-09</th>\n",
       "      <td>-0.353</td>\n",
       "      <td>-1.077</td>\n",
       "      <td>0.357</td>\n",
       "      <td>-0.915</td>\n",
       "      <td>-0.680</td>\n",
       "      <td>-0.772</td>\n",
       "      <td>-0.782</td>\n",
       "    </tr>\n",
       "    <tr>\n",
       "      <th>2015-09-10</th>\n",
       "      <td>-0.343</td>\n",
       "      <td>-1.157</td>\n",
       "      <td>-0.378</td>\n",
       "      <td>-0.979</td>\n",
       "      <td>-0.619</td>\n",
       "      <td>-0.766</td>\n",
       "      <td>-0.845</td>\n",
       "    </tr>\n",
       "  </tbody>\n",
       "</table>\n",
       "</div>"
      ],
      "text/plain": [
       "              rip    btc    eth    ltc    mon    nem   dash\n",
       "Date                                                       \n",
       "2015-09-06 -0.291 -1.261 -1.125 -0.946 -0.783 -0.776 -0.828\n",
       "2015-09-07 -0.314 -0.998  0.299 -0.803 -0.717 -0.739 -0.814\n",
       "2015-09-08 -0.345 -0.998  0.427 -0.825 -0.684 -0.693 -0.852\n",
       "2015-09-09 -0.353 -1.077  0.357 -0.915 -0.680 -0.772 -0.782\n",
       "2015-09-10 -0.343 -1.157 -0.378 -0.979 -0.619 -0.766 -0.845"
      ]
     },
     "execution_count": 4,
     "metadata": {},
     "output_type": "execute_result"
    }
   ],
   "source": [
    "df_returns.head()"
   ]
  },
  {
   "cell_type": "code",
   "execution_count": 5,
   "metadata": {},
   "outputs": [
    {
     "data": {
      "text/plain": [
       "(794, 7)"
      ]
     },
     "execution_count": 5,
     "metadata": {},
     "output_type": "execute_result"
    }
   ],
   "source": [
    "X.shape"
   ]
  },
  {
   "cell_type": "markdown",
   "metadata": {},
   "source": [
    "### Basic features of unstandardized price return data"
   ]
  },
  {
   "cell_type": "code",
   "execution_count": 6,
   "metadata": {},
   "outputs": [
    {
     "name": "stdout",
     "output_type": "stream",
     "text": [
      "Price return statistics without centering/scaling:\n",
      "Mean returns:\n"
     ]
    },
    {
     "data": {
      "text/plain": [
       "rip     0.395\n",
       "btc     0.150\n",
       "eth     0.410\n",
       "ltc     0.173\n",
       "mon     0.364\n",
       "nem     0.585\n",
       "dash    0.277\n",
       "dtype: float64"
      ]
     },
     "metadata": {},
     "output_type": "display_data"
    },
    {
     "name": "stdout",
     "output_type": "stream",
     "text": [
      "S.D. of returns:\n"
     ]
    },
    {
     "data": {
      "text/plain": [
       "rip     1.468\n",
       "btc     0.232\n",
       "eth     0.836\n",
       "ltc     0.475\n",
       "mon     0.873\n",
       "nem     1.190\n",
       "dash    0.620\n",
       "dtype: float64"
      ]
     },
     "metadata": {},
     "output_type": "display_data"
    },
    {
     "name": "stdout",
     "output_type": "stream",
     "text": [
      "Cumulative return:\n"
     ]
    },
    {
     "data": {
      "text/plain": [
       "rip     1.841e+43\n",
       "btc     8.094e+41\n",
       "eth     2.544e+71\n",
       "ltc     7.702e+36\n",
       "mon     3.682e+66\n",
       "nem     1.561e+98\n",
       "dash    3.883e+60\n",
       "dtype: float64"
      ]
     },
     "metadata": {},
     "output_type": "display_data"
    },
    {
     "name": "stdout",
     "output_type": "stream",
     "text": [
      "Correlation:\n"
     ]
    },
    {
     "data": {
      "text/html": [
       "<div>\n",
       "<style>\n",
       "    .dataframe thead tr:only-child th {\n",
       "        text-align: right;\n",
       "    }\n",
       "\n",
       "    .dataframe thead th {\n",
       "        text-align: left;\n",
       "    }\n",
       "\n",
       "    .dataframe tbody tr th {\n",
       "        vertical-align: top;\n",
       "    }\n",
       "</style>\n",
       "<table border=\"1\" class=\"dataframe\">\n",
       "  <thead>\n",
       "    <tr style=\"text-align: right;\">\n",
       "      <th></th>\n",
       "      <th>rip</th>\n",
       "      <th>btc</th>\n",
       "      <th>eth</th>\n",
       "      <th>ltc</th>\n",
       "      <th>mon</th>\n",
       "      <th>nem</th>\n",
       "      <th>dash</th>\n",
       "    </tr>\n",
       "  </thead>\n",
       "  <tbody>\n",
       "    <tr>\n",
       "      <th>rip</th>\n",
       "      <td>1.000</td>\n",
       "      <td>0.305</td>\n",
       "      <td>0.325</td>\n",
       "      <td>0.694</td>\n",
       "      <td>0.066</td>\n",
       "      <td>0.630</td>\n",
       "      <td>0.037</td>\n",
       "    </tr>\n",
       "    <tr>\n",
       "      <th>btc</th>\n",
       "      <td>0.305</td>\n",
       "      <td>1.000</td>\n",
       "      <td>0.164</td>\n",
       "      <td>0.322</td>\n",
       "      <td>0.102</td>\n",
       "      <td>0.349</td>\n",
       "      <td>0.031</td>\n",
       "    </tr>\n",
       "    <tr>\n",
       "      <th>eth</th>\n",
       "      <td>0.325</td>\n",
       "      <td>0.164</td>\n",
       "      <td>1.000</td>\n",
       "      <td>0.192</td>\n",
       "      <td>0.171</td>\n",
       "      <td>0.361</td>\n",
       "      <td>0.470</td>\n",
       "    </tr>\n",
       "    <tr>\n",
       "      <th>ltc</th>\n",
       "      <td>0.694</td>\n",
       "      <td>0.322</td>\n",
       "      <td>0.192</td>\n",
       "      <td>1.000</td>\n",
       "      <td>0.044</td>\n",
       "      <td>0.428</td>\n",
       "      <td>0.018</td>\n",
       "    </tr>\n",
       "    <tr>\n",
       "      <th>mon</th>\n",
       "      <td>0.066</td>\n",
       "      <td>0.102</td>\n",
       "      <td>0.171</td>\n",
       "      <td>0.044</td>\n",
       "      <td>1.000</td>\n",
       "      <td>0.114</td>\n",
       "      <td>0.128</td>\n",
       "    </tr>\n",
       "    <tr>\n",
       "      <th>nem</th>\n",
       "      <td>0.630</td>\n",
       "      <td>0.349</td>\n",
       "      <td>0.361</td>\n",
       "      <td>0.428</td>\n",
       "      <td>0.114</td>\n",
       "      <td>1.000</td>\n",
       "      <td>0.133</td>\n",
       "    </tr>\n",
       "    <tr>\n",
       "      <th>dash</th>\n",
       "      <td>0.037</td>\n",
       "      <td>0.031</td>\n",
       "      <td>0.470</td>\n",
       "      <td>0.018</td>\n",
       "      <td>0.128</td>\n",
       "      <td>0.133</td>\n",
       "      <td>1.000</td>\n",
       "    </tr>\n",
       "  </tbody>\n",
       "</table>\n",
       "</div>"
      ],
      "text/plain": [
       "        rip    btc    eth    ltc    mon    nem   dash\n",
       "rip   1.000  0.305  0.325  0.694  0.066  0.630  0.037\n",
       "btc   0.305  1.000  0.164  0.322  0.102  0.349  0.031\n",
       "eth   0.325  0.164  1.000  0.192  0.171  0.361  0.470\n",
       "ltc   0.694  0.322  0.192  1.000  0.044  0.428  0.018\n",
       "mon   0.066  0.102  0.171  0.044  1.000  0.114  0.128\n",
       "nem   0.630  0.349  0.361  0.428  0.114  1.000  0.133\n",
       "dash  0.037  0.031  0.470  0.018  0.128  0.133  1.000"
      ]
     },
     "execution_count": 6,
     "metadata": {},
     "output_type": "execute_result"
    }
   ],
   "source": [
    "print('Price return statistics without centering/scaling:')\n",
    "print('Mean returns:')\n",
    "display(df_returns_unadj.mean(axis=0))\n",
    "print('S.D. of returns:')\n",
    "display(df_returns_unadj.std(axis=0))\n",
    "print('Cumulative return:')\n",
    "display((df_returns_unadj + 1).prod(axis=0))\n",
    "print('Correlation:')\n",
    "df_returns.corr()"
   ]
  },
  {
   "cell_type": "code",
   "execution_count": 7,
   "metadata": {},
   "outputs": [],
   "source": [
    "# Get SVD breakdown, cast into matrices.\n",
    "U, s, V = np.linalg.svd(X)\n",
    "U = np.matrix(U)  # n x n matrix\n",
    "S = np.zeros((n, p)) \n",
    "S[:p, :p] = np.diag(s)\n",
    "S = np.matrix(S)  # n x p matrix\n",
    "V = np.matrix(V).T  # p x p matrix\n",
    "eigvecs = [np.ravel(V[:,i]) for i in range(p)]\n",
    "\n",
    "# Get eigenvalues through the singular values.\n",
    "eigvals = [(s_**2)/(n - 1) for s_ in s]"
   ]
  },
  {
   "cell_type": "code",
   "execution_count": 8,
   "metadata": {},
   "outputs": [
    {
     "name": "stdout",
     "output_type": "stream",
     "text": [
      "Norm[Xreconstr - X] = 0.00\n",
      "Norm[Creconstr - C] = 0.00\n"
     ]
    }
   ],
   "source": [
    "# Reconstruct data matrix X and covariance matrix C using SVD properties.\n",
    "# Check equality by looking at the norm of their difference.\n",
    "Xreconstr = U*S*V.T\n",
    "print('Norm[Xreconstr - X] = {:.2f}'.format(np.linalg.norm(Xreconstr - X)))\n",
    "\n",
    "Creconstr = V*((S.T*S)/(n - 1))*V.T\n",
    "print('Norm[Creconstr - C] = {:.2f}'.format(np.linalg.norm(Creconstr - C)))\n",
    "\n",
    "# Get principal components (n-by-p matrix).\n",
    "XV = X*V"
   ]
  },
  {
   "cell_type": "markdown",
   "metadata": {},
   "source": [
    "**Inner product should be 0 between all eigenvectors and principal components since they are orthogonal. Test this out for the first two eigenvectors and PCs.**"
   ]
  },
  {
   "cell_type": "code",
   "execution_count": 9,
   "metadata": {},
   "outputs": [
    {
     "name": "stdout",
     "output_type": "stream",
     "text": [
      "Inner product between 1st and 2nd eigenvectors: 0.00\n",
      "Inner product between 1st and 2nd PCs: 0.00\n"
     ]
    }
   ],
   "source": [
    "pc1, pc2 = np.ravel(XV[:, 0]), np.ravel(XV[:, 1])\n",
    "v1, v2 = np.ravel(V[:, 0]), np.ravel(V[:, 1])\n",
    "print('Inner product between 1st and 2nd eigenvectors: {:.2f}'.format(\n",
    "      np.inner(v1, v2)))\n",
    "print('Inner product between 1st and 2nd PCs: {:.2f}'.format(\n",
    "      np.inner(pc1, pc2)))"
   ]
  },
  {
   "cell_type": "code",
   "execution_count": 10,
   "metadata": {},
   "outputs": [],
   "source": [
    "# Create tables for proportion of variation and eigenvectors.\n",
    "df_variation_svd = create_proportion_of_variation_df(eigvals)\n",
    "df_eigvec_svd = create_eigvec_df(eigvecs)"
   ]
  },
  {
   "cell_type": "code",
   "execution_count": 11,
   "metadata": {},
   "outputs": [
    {
     "name": "stdout",
     "output_type": "stream",
     "text": [
      "Eigenvectors obtained from SVD\n"
     ]
    },
    {
     "data": {
      "text/html": [
       "<div>\n",
       "<style>\n",
       "    .dataframe thead tr:only-child th {\n",
       "        text-align: right;\n",
       "    }\n",
       "\n",
       "    .dataframe thead th {\n",
       "        text-align: left;\n",
       "    }\n",
       "\n",
       "    .dataframe tbody tr th {\n",
       "        vertical-align: top;\n",
       "    }\n",
       "</style>\n",
       "<table border=\"1\" class=\"dataframe\">\n",
       "  <thead>\n",
       "    <tr style=\"text-align: right;\">\n",
       "      <th></th>\n",
       "      <th>V1</th>\n",
       "      <th>V2</th>\n",
       "      <th>V3</th>\n",
       "      <th>V4</th>\n",
       "      <th>V5</th>\n",
       "      <th>V6</th>\n",
       "      <th>V7</th>\n",
       "    </tr>\n",
       "  </thead>\n",
       "  <tbody>\n",
       "    <tr>\n",
       "      <th>1</th>\n",
       "      <td>0.517</td>\n",
       "      <td>-0.237</td>\n",
       "      <td>0.105</td>\n",
       "      <td>-0.286</td>\n",
       "      <td>0.015</td>\n",
       "      <td>-0.013</td>\n",
       "      <td>-0.764</td>\n",
       "    </tr>\n",
       "    <tr>\n",
       "      <th>2</th>\n",
       "      <td>0.334</td>\n",
       "      <td>-0.150</td>\n",
       "      <td>-0.305</td>\n",
       "      <td>0.867</td>\n",
       "      <td>0.095</td>\n",
       "      <td>-0.064</td>\n",
       "      <td>-0.091</td>\n",
       "    </tr>\n",
       "    <tr>\n",
       "      <th>3</th>\n",
       "      <td>0.358</td>\n",
       "      <td>0.508</td>\n",
       "      <td>0.204</td>\n",
       "      <td>0.007</td>\n",
       "      <td>-0.228</td>\n",
       "      <td>-0.712</td>\n",
       "      <td>0.118</td>\n",
       "    </tr>\n",
       "    <tr>\n",
       "      <th>4</th>\n",
       "      <td>0.455</td>\n",
       "      <td>-0.309</td>\n",
       "      <td>0.065</td>\n",
       "      <td>-0.226</td>\n",
       "      <td>0.611</td>\n",
       "      <td>-0.087</td>\n",
       "      <td>0.511</td>\n",
       "    </tr>\n",
       "    <tr>\n",
       "      <th>5</th>\n",
       "      <td>0.137</td>\n",
       "      <td>0.327</td>\n",
       "      <td>-0.880</td>\n",
       "      <td>-0.311</td>\n",
       "      <td>0.056</td>\n",
       "      <td>0.027</td>\n",
       "      <td>-0.012</td>\n",
       "    </tr>\n",
       "    <tr>\n",
       "      <th>6</th>\n",
       "      <td>0.487</td>\n",
       "      <td>-0.063</td>\n",
       "      <td>0.037</td>\n",
       "      <td>-0.044</td>\n",
       "      <td>-0.640</td>\n",
       "      <td>0.472</td>\n",
       "      <td>0.351</td>\n",
       "    </tr>\n",
       "    <tr>\n",
       "      <th>7</th>\n",
       "      <td>0.174</td>\n",
       "      <td>0.676</td>\n",
       "      <td>0.274</td>\n",
       "      <td>0.130</td>\n",
       "      <td>0.390</td>\n",
       "      <td>0.508</td>\n",
       "      <td>-0.103</td>\n",
       "    </tr>\n",
       "  </tbody>\n",
       "</table>\n",
       "</div>"
      ],
      "text/plain": [
       "      V1     V2     V3     V4     V5     V6     V7\n",
       "1  0.517 -0.237  0.105 -0.286  0.015 -0.013 -0.764\n",
       "2  0.334 -0.150 -0.305  0.867  0.095 -0.064 -0.091\n",
       "3  0.358  0.508  0.204  0.007 -0.228 -0.712  0.118\n",
       "4  0.455 -0.309  0.065 -0.226  0.611 -0.087  0.511\n",
       "5  0.137  0.327 -0.880 -0.311  0.056  0.027 -0.012\n",
       "6  0.487 -0.063  0.037 -0.044 -0.640  0.472  0.351\n",
       "7  0.174  0.676  0.274  0.130  0.390  0.508 -0.103"
      ]
     },
     "execution_count": 11,
     "metadata": {},
     "output_type": "execute_result"
    }
   ],
   "source": [
    "print('Eigenvectors obtained from SVD')\n",
    "df_eigvec_svd"
   ]
  },
  {
   "cell_type": "code",
   "execution_count": 12,
   "metadata": {},
   "outputs": [
    {
     "name": "stdout",
     "output_type": "stream",
     "text": [
      "Eigenvectors obtained from sklearn PCA.components_\n"
     ]
    },
    {
     "data": {
      "text/plain": [
       "array([[ 0.517, -0.237, -0.105, -0.286, -0.015,  0.013,  0.764],\n",
       "       [ 0.334, -0.15 ,  0.305,  0.867, -0.095,  0.064,  0.091],\n",
       "       [ 0.358,  0.508, -0.204,  0.007,  0.228,  0.712, -0.118],\n",
       "       [ 0.455, -0.309, -0.065, -0.226, -0.611,  0.087, -0.511],\n",
       "       [ 0.137,  0.327,  0.88 , -0.311, -0.056, -0.027,  0.012],\n",
       "       [ 0.487, -0.063, -0.037, -0.044,  0.64 , -0.472, -0.351],\n",
       "       [ 0.174,  0.676, -0.274,  0.13 , -0.39 , -0.508,  0.103]])"
      ]
     },
     "execution_count": 12,
     "metadata": {},
     "output_type": "execute_result"
    }
   ],
   "source": [
    "# Print eigenvectors obtained using sklearn.\n",
    "pca = PCA().fit(X)\n",
    "sk_comp = pca.components_\n",
    "print('Eigenvectors obtained from sklearn PCA.components_')\n",
    "sk_comp.T"
   ]
  },
  {
   "cell_type": "markdown",
   "metadata": {},
   "source": [
    "### Variation Explained using Both Methods\n",
    "\n",
    "Total variation should be equal to the sum of crypto's variances (7 cryptos * 1 unit variance = 7%)."
   ]
  },
  {
   "cell_type": "code",
   "execution_count": 13,
   "metadata": {},
   "outputs": [
    {
     "name": "stdout",
     "output_type": "stream",
     "text": [
      "Variation Explained using Eigenvalues from SVD\n"
     ]
    },
    {
     "data": {
      "text/html": [
       "<div>\n",
       "<style>\n",
       "    .dataframe thead tr:only-child th {\n",
       "        text-align: right;\n",
       "    }\n",
       "\n",
       "    .dataframe thead th {\n",
       "        text-align: left;\n",
       "    }\n",
       "\n",
       "    .dataframe tbody tr th {\n",
       "        vertical-align: top;\n",
       "    }\n",
       "</style>\n",
       "<table border=\"1\" class=\"dataframe\">\n",
       "  <thead>\n",
       "    <tr style=\"text-align: right;\">\n",
       "      <th></th>\n",
       "      <th>eigenvalue</th>\n",
       "      <th>proportion</th>\n",
       "      <th>cumulative</th>\n",
       "    </tr>\n",
       "    <tr>\n",
       "      <th>component</th>\n",
       "      <th></th>\n",
       "      <th></th>\n",
       "      <th></th>\n",
       "    </tr>\n",
       "  </thead>\n",
       "  <tbody>\n",
       "    <tr>\n",
       "      <th>1</th>\n",
       "      <td>2.657</td>\n",
       "      <td>0.379</td>\n",
       "      <td>0.379</td>\n",
       "    </tr>\n",
       "    <tr>\n",
       "      <th>2</th>\n",
       "      <td>1.376</td>\n",
       "      <td>0.196</td>\n",
       "      <td>0.575</td>\n",
       "    </tr>\n",
       "    <tr>\n",
       "      <th>3</th>\n",
       "      <td>0.941</td>\n",
       "      <td>0.134</td>\n",
       "      <td>0.710</td>\n",
       "    </tr>\n",
       "    <tr>\n",
       "      <th>4</th>\n",
       "      <td>0.769</td>\n",
       "      <td>0.110</td>\n",
       "      <td>0.819</td>\n",
       "    </tr>\n",
       "    <tr>\n",
       "      <th>5</th>\n",
       "      <td>0.564</td>\n",
       "      <td>0.080</td>\n",
       "      <td>0.900</td>\n",
       "    </tr>\n",
       "    <tr>\n",
       "      <th>6</th>\n",
       "      <td>0.464</td>\n",
       "      <td>0.066</td>\n",
       "      <td>0.966</td>\n",
       "    </tr>\n",
       "    <tr>\n",
       "      <th>7</th>\n",
       "      <td>0.239</td>\n",
       "      <td>0.034</td>\n",
       "      <td>1.000</td>\n",
       "    </tr>\n",
       "  </tbody>\n",
       "</table>\n",
       "</div>"
      ],
      "text/plain": [
       "           eigenvalue  proportion  cumulative\n",
       "component                                    \n",
       "1               2.657       0.379       0.379\n",
       "2               1.376       0.196       0.575\n",
       "3               0.941       0.134       0.710\n",
       "4               0.769       0.110       0.819\n",
       "5               0.564       0.080       0.900\n",
       "6               0.464       0.066       0.966\n",
       "7               0.239       0.034       1.000"
      ]
     },
     "execution_count": 13,
     "metadata": {},
     "output_type": "execute_result"
    }
   ],
   "source": [
    "print('Variation Explained using Eigenvalues from SVD')\n",
    "df_variation_svd"
   ]
  },
  {
   "cell_type": "code",
   "execution_count": 14,
   "metadata": {},
   "outputs": [
    {
     "name": "stdout",
     "output_type": "stream",
     "text": [
      "Variation Explained using sklearn\n"
     ]
    },
    {
     "data": {
      "text/html": [
       "<div>\n",
       "<style>\n",
       "    .dataframe thead tr:only-child th {\n",
       "        text-align: right;\n",
       "    }\n",
       "\n",
       "    .dataframe thead th {\n",
       "        text-align: left;\n",
       "    }\n",
       "\n",
       "    .dataframe tbody tr th {\n",
       "        vertical-align: top;\n",
       "    }\n",
       "</style>\n",
       "<table border=\"1\" class=\"dataframe\">\n",
       "  <thead>\n",
       "    <tr style=\"text-align: right;\">\n",
       "      <th></th>\n",
       "      <th>eigenvalue</th>\n",
       "      <th>proportion</th>\n",
       "    </tr>\n",
       "    <tr>\n",
       "      <th>component</th>\n",
       "      <th></th>\n",
       "      <th></th>\n",
       "    </tr>\n",
       "  </thead>\n",
       "  <tbody>\n",
       "    <tr>\n",
       "      <th>1</th>\n",
       "      <td>2.657</td>\n",
       "      <td>0.379</td>\n",
       "    </tr>\n",
       "    <tr>\n",
       "      <th>2</th>\n",
       "      <td>1.376</td>\n",
       "      <td>0.196</td>\n",
       "    </tr>\n",
       "    <tr>\n",
       "      <th>3</th>\n",
       "      <td>0.941</td>\n",
       "      <td>0.134</td>\n",
       "    </tr>\n",
       "    <tr>\n",
       "      <th>4</th>\n",
       "      <td>0.769</td>\n",
       "      <td>0.110</td>\n",
       "    </tr>\n",
       "    <tr>\n",
       "      <th>5</th>\n",
       "      <td>0.564</td>\n",
       "      <td>0.080</td>\n",
       "    </tr>\n",
       "    <tr>\n",
       "      <th>6</th>\n",
       "      <td>0.464</td>\n",
       "      <td>0.066</td>\n",
       "    </tr>\n",
       "    <tr>\n",
       "      <th>7</th>\n",
       "      <td>0.239</td>\n",
       "      <td>0.034</td>\n",
       "    </tr>\n",
       "  </tbody>\n",
       "</table>\n",
       "</div>"
      ],
      "text/plain": [
       "           eigenvalue  proportion\n",
       "component                        \n",
       "1               2.657       0.379\n",
       "2               1.376       0.196\n",
       "3               0.941       0.134\n",
       "4               0.769       0.110\n",
       "5               0.564       0.080\n",
       "6               0.464       0.066\n",
       "7               0.239       0.034"
      ]
     },
     "metadata": {},
     "output_type": "display_data"
    },
    {
     "name": "stdout",
     "output_type": "stream",
     "text": [
      "Total variation: 7.01\n"
     ]
    }
   ],
   "source": [
    "idx = [i + 1 for i in range(p)]\n",
    "data = {'component': idx,\n",
    "       'eigenvalue': pca.explained_variance_,\n",
    "       'proportion': pca.explained_variance_ratio_}\n",
    "df_variation_sk = pd.DataFrame(data)\n",
    "df_variation_sk.set_index('component', drop=True, inplace=True)\n",
    "print('Variation Explained using sklearn')\n",
    "display(df_variation_sk)\n",
    "print('Total variation: {:.2f}'.format(df_variation_sk['eigenvalue'].sum()))"
   ]
  },
  {
   "cell_type": "markdown",
   "metadata": {},
   "source": [
    "### Comparing sklearn's PCA and SVD\n",
    "\n",
    "The principal components retrieved using `sklearn` and SVD should be the same.\n",
    "\n",
    "The following cell shows this is true for the first and second principal component."
   ]
  },
  {
   "cell_type": "code",
   "execution_count": 15,
   "metadata": {},
   "outputs": [],
   "source": [
    "# Get principal components using sklearn.\n",
    "XReduced_sk = pca.transform(X)\n",
    "assert XReduced_sk.shape == (n, p)"
   ]
  },
  {
   "cell_type": "code",
   "execution_count": 16,
   "metadata": {},
   "outputs": [
    {
     "name": "stdout",
     "output_type": "stream",
     "text": [
      "Norm of difference between sklearn's principal component and component created using SVD:\n",
      "PC1: 0.00\n",
      "PC2: 0.00\n"
     ]
    }
   ],
   "source": [
    "x1_reduced_sk = np.ravel(XReduced_sk[:,0])\n",
    "x2_reduced_sk = np.ravel(XReduced_sk[:,1])\n",
    "\n",
    "x1_reduced_diff = np.linalg.norm(x1_reduced_sk - pc1)\n",
    "x2_reduced_diff = np.linalg.norm(x2_reduced_sk - pc2)\n",
    "\n",
    "print(\"Norm of difference between sklearn's principal component and \" \\\n",
    "     \"component created using SVD:\")\n",
    "print('PC1: {:.2f}'.format(x1_reduced_diff))\n",
    "print('PC2: {:.2f}'.format(x2_reduced_diff))"
   ]
  },
  {
   "cell_type": "markdown",
   "metadata": {},
   "source": [
    "### Loadings"
   ]
  },
  {
   "cell_type": "code",
   "execution_count": 17,
   "metadata": {},
   "outputs": [
    {
     "data": {
      "text/html": [
       "<div>\n",
       "<style>\n",
       "    .dataframe thead tr:only-child th {\n",
       "        text-align: right;\n",
       "    }\n",
       "\n",
       "    .dataframe thead th {\n",
       "        text-align: left;\n",
       "    }\n",
       "\n",
       "    .dataframe tbody tr th {\n",
       "        vertical-align: top;\n",
       "    }\n",
       "</style>\n",
       "<table border=\"1\" class=\"dataframe\">\n",
       "  <thead>\n",
       "    <tr style=\"text-align: right;\">\n",
       "      <th></th>\n",
       "      <th>rip</th>\n",
       "      <th>btc</th>\n",
       "      <th>eth</th>\n",
       "      <th>ltc</th>\n",
       "      <th>mon</th>\n",
       "      <th>nem</th>\n",
       "      <th>dash</th>\n",
       "    </tr>\n",
       "    <tr>\n",
       "      <th>component</th>\n",
       "      <th></th>\n",
       "      <th></th>\n",
       "      <th></th>\n",
       "      <th></th>\n",
       "      <th></th>\n",
       "      <th></th>\n",
       "      <th></th>\n",
       "    </tr>\n",
       "  </thead>\n",
       "  <tbody>\n",
       "    <tr>\n",
       "      <th>1</th>\n",
       "      <td>0.844</td>\n",
       "      <td>0.391</td>\n",
       "      <td>0.347</td>\n",
       "      <td>0.399</td>\n",
       "      <td>0.103</td>\n",
       "      <td>0.331</td>\n",
       "      <td>0.085</td>\n",
       "    </tr>\n",
       "    <tr>\n",
       "      <th>2</th>\n",
       "      <td>-0.386</td>\n",
       "      <td>-0.176</td>\n",
       "      <td>0.492</td>\n",
       "      <td>-0.271</td>\n",
       "      <td>0.245</td>\n",
       "      <td>-0.043</td>\n",
       "      <td>0.330</td>\n",
       "    </tr>\n",
       "    <tr>\n",
       "      <th>3</th>\n",
       "      <td>0.171</td>\n",
       "      <td>-0.358</td>\n",
       "      <td>0.198</td>\n",
       "      <td>0.057</td>\n",
       "      <td>-0.660</td>\n",
       "      <td>0.025</td>\n",
       "      <td>0.134</td>\n",
       "    </tr>\n",
       "    <tr>\n",
       "      <th>4</th>\n",
       "      <td>-0.466</td>\n",
       "      <td>1.017</td>\n",
       "      <td>0.007</td>\n",
       "      <td>-0.198</td>\n",
       "      <td>-0.233</td>\n",
       "      <td>-0.030</td>\n",
       "      <td>0.064</td>\n",
       "    </tr>\n",
       "    <tr>\n",
       "      <th>5</th>\n",
       "      <td>0.024</td>\n",
       "      <td>0.111</td>\n",
       "      <td>-0.221</td>\n",
       "      <td>0.536</td>\n",
       "      <td>0.042</td>\n",
       "      <td>-0.436</td>\n",
       "      <td>0.191</td>\n",
       "    </tr>\n",
       "    <tr>\n",
       "      <th>6</th>\n",
       "      <td>-0.021</td>\n",
       "      <td>-0.075</td>\n",
       "      <td>-0.691</td>\n",
       "      <td>-0.076</td>\n",
       "      <td>0.020</td>\n",
       "      <td>0.321</td>\n",
       "      <td>0.248</td>\n",
       "    </tr>\n",
       "    <tr>\n",
       "      <th>7</th>\n",
       "      <td>-1.245</td>\n",
       "      <td>-0.106</td>\n",
       "      <td>0.114</td>\n",
       "      <td>0.448</td>\n",
       "      <td>-0.009</td>\n",
       "      <td>0.239</td>\n",
       "      <td>-0.051</td>\n",
       "    </tr>\n",
       "  </tbody>\n",
       "</table>\n",
       "</div>"
      ],
      "text/plain": [
       "             rip    btc    eth    ltc    mon    nem   dash\n",
       "component                                                 \n",
       "1          0.844  0.391  0.347  0.399  0.103  0.331  0.085\n",
       "2         -0.386 -0.176  0.492 -0.271  0.245 -0.043  0.330\n",
       "3          0.171 -0.358  0.198  0.057 -0.660  0.025  0.134\n",
       "4         -0.466  1.017  0.007 -0.198 -0.233 -0.030  0.064\n",
       "5          0.024  0.111 -0.221  0.536  0.042 -0.436  0.191\n",
       "6         -0.021 -0.075 -0.691 -0.076  0.020  0.321  0.248\n",
       "7         -1.245 -0.106  0.114  0.448 -0.009  0.239 -0.051"
      ]
     },
     "execution_count": 17,
     "metadata": {},
     "output_type": "execute_result"
    }
   ],
   "source": [
    "# Calc loadings and put into DataFrame.\n",
    "loadings = eigvecs * np.sqrt(np.abs(eigvals))\n",
    "idx = pd.Series([i + 1 for i in range(p)], name='component')\n",
    "\n",
    "df_loadings = pd.DataFrame(loadings, columns=df_returns.columns, index=idx)\n",
    "df_loadings"
   ]
  },
  {
   "cell_type": "code",
   "execution_count": 18,
   "metadata": {},
   "outputs": [
    {
     "data": {
      "text/plain": [
       "[array([ 0.517,  0.334,  0.358,  0.455,  0.137,  0.487,  0.174]),\n",
       " array([-0.237, -0.15 ,  0.508, -0.309,  0.327, -0.063,  0.676]),\n",
       " array([ 0.105, -0.305,  0.204,  0.065, -0.88 ,  0.037,  0.274]),\n",
       " array([-0.286,  0.867,  0.007, -0.226, -0.311, -0.044,  0.13 ]),\n",
       " array([ 0.015,  0.095, -0.228,  0.611,  0.056, -0.64 ,  0.39 ]),\n",
       " array([-0.013, -0.064, -0.712, -0.087,  0.027,  0.472,  0.508]),\n",
       " array([-0.764, -0.091,  0.118,  0.511, -0.012,  0.351, -0.103])]"
      ]
     },
     "execution_count": 18,
     "metadata": {},
     "output_type": "execute_result"
    }
   ],
   "source": [
    "eigvecs"
   ]
  },
  {
   "cell_type": "code",
   "execution_count": 19,
   "metadata": {},
   "outputs": [
    {
     "data": {
      "text/plain": [
       "2.4618691572608493"
      ]
     },
     "execution_count": 19,
     "metadata": {},
     "output_type": "execute_result"
    }
   ],
   "source": [
    "df_eigvec_svd['V1'].sum(axis=0)"
   ]
  },
  {
   "cell_type": "code",
   "execution_count": null,
   "metadata": {},
   "outputs": [],
   "source": []
  },
  {
   "cell_type": "markdown",
   "metadata": {},
   "source": [
    "## Yihang's code"
   ]
  },
  {
   "cell_type": "code",
   "execution_count": 20,
   "metadata": {},
   "outputs": [
    {
     "data": {
      "text/html": [
       "<div>\n",
       "<style>\n",
       "    .dataframe thead tr:only-child th {\n",
       "        text-align: right;\n",
       "    }\n",
       "\n",
       "    .dataframe thead th {\n",
       "        text-align: left;\n",
       "    }\n",
       "\n",
       "    .dataframe tbody tr th {\n",
       "        vertical-align: top;\n",
       "    }\n",
       "</style>\n",
       "<table border=\"1\" class=\"dataframe\">\n",
       "  <thead>\n",
       "    <tr style=\"text-align: right;\">\n",
       "      <th></th>\n",
       "      <th>rip</th>\n",
       "      <th>btc</th>\n",
       "      <th>eth</th>\n",
       "      <th>ltc</th>\n",
       "      <th>mon</th>\n",
       "      <th>nem</th>\n",
       "      <th>dash</th>\n",
       "    </tr>\n",
       "    <tr>\n",
       "      <th>Date</th>\n",
       "      <th></th>\n",
       "      <th></th>\n",
       "      <th></th>\n",
       "      <th></th>\n",
       "      <th></th>\n",
       "      <th></th>\n",
       "      <th></th>\n",
       "    </tr>\n",
       "  </thead>\n",
       "  <tbody>\n",
       "    <tr>\n",
       "      <th>2015-09-06</th>\n",
       "      <td>-0.291</td>\n",
       "      <td>-1.261</td>\n",
       "      <td>-1.125</td>\n",
       "      <td>-0.946</td>\n",
       "      <td>-0.783</td>\n",
       "      <td>-0.776</td>\n",
       "      <td>-0.828</td>\n",
       "    </tr>\n",
       "    <tr>\n",
       "      <th>2015-09-07</th>\n",
       "      <td>-0.314</td>\n",
       "      <td>-0.998</td>\n",
       "      <td>0.299</td>\n",
       "      <td>-0.803</td>\n",
       "      <td>-0.717</td>\n",
       "      <td>-0.739</td>\n",
       "      <td>-0.814</td>\n",
       "    </tr>\n",
       "    <tr>\n",
       "      <th>2015-09-08</th>\n",
       "      <td>-0.345</td>\n",
       "      <td>-0.998</td>\n",
       "      <td>0.427</td>\n",
       "      <td>-0.825</td>\n",
       "      <td>-0.684</td>\n",
       "      <td>-0.693</td>\n",
       "      <td>-0.852</td>\n",
       "    </tr>\n",
       "    <tr>\n",
       "      <th>2015-09-09</th>\n",
       "      <td>-0.353</td>\n",
       "      <td>-1.077</td>\n",
       "      <td>0.357</td>\n",
       "      <td>-0.915</td>\n",
       "      <td>-0.680</td>\n",
       "      <td>-0.772</td>\n",
       "      <td>-0.782</td>\n",
       "    </tr>\n",
       "    <tr>\n",
       "      <th>2015-09-10</th>\n",
       "      <td>-0.343</td>\n",
       "      <td>-1.157</td>\n",
       "      <td>-0.378</td>\n",
       "      <td>-0.979</td>\n",
       "      <td>-0.619</td>\n",
       "      <td>-0.766</td>\n",
       "      <td>-0.845</td>\n",
       "    </tr>\n",
       "  </tbody>\n",
       "</table>\n",
       "</div>"
      ],
      "text/plain": [
       "              rip    btc    eth    ltc    mon    nem   dash\n",
       "Date                                                       \n",
       "2015-09-06 -0.291 -1.261 -1.125 -0.946 -0.783 -0.776 -0.828\n",
       "2015-09-07 -0.314 -0.998  0.299 -0.803 -0.717 -0.739 -0.814\n",
       "2015-09-08 -0.345 -0.998  0.427 -0.825 -0.684 -0.693 -0.852\n",
       "2015-09-09 -0.353 -1.077  0.357 -0.915 -0.680 -0.772 -0.782\n",
       "2015-09-10 -0.343 -1.157 -0.378 -0.979 -0.619 -0.766 -0.845"
      ]
     },
     "execution_count": 20,
     "metadata": {},
     "output_type": "execute_result"
    }
   ],
   "source": [
    "small_df_std = df_returns\n",
    "small_df_std.head()"
   ]
  },
  {
   "cell_type": "code",
   "execution_count": 21,
   "metadata": {},
   "outputs": [
    {
     "data": {
      "text/plain": [
       "array([ 2.657,  1.376,  0.239,  0.941,  0.769,  0.564,  0.464])"
      ]
     },
     "execution_count": 21,
     "metadata": {},
     "output_type": "execute_result"
    }
   ],
   "source": [
    "cov = np.cov(small_df_std.values.T)     # covariance matrix\n",
    "corr = np.corrcoef(df_returns_unadj.values.T)\n",
    "eig_vals, eig_vecs = np.linalg.eig(cov)\n",
    "eig_vals"
   ]
  },
  {
   "cell_type": "code",
   "execution_count": 22,
   "metadata": {},
   "outputs": [
    {
     "data": {
      "image/png": "[encoded data removed]",
      "text/plain": [
       "<matplotlib.figure.Figure at 0x93494f94a8>"
      ]
     },
     "metadata": {},
     "output_type": "display_data"
    }
   ],
   "source": [
    "tickers = list(small_df_std.columns)\n",
    "\n",
    "# Graph - Correlation matrix\n",
    "plt.figure(figsize=(8,8))\n",
    "plt.imshow(corr, cmap=\"RdGy\", interpolation=\"nearest\")\n",
    "cb = plt.colorbar()\n",
    "cb.set_label(\"Correlation Matrix Coefficients\")\n",
    "plt.title(\"Correlation Matrix\", fontsize=14)\n",
    "plt.xticks(np.arange(len(tickers)), tickers, rotation=90)\n",
    "plt.yticks(np.arange(len(tickers)), tickers);"
   ]
  },
  {
   "cell_type": "markdown",
   "metadata": {},
   "source": [
    "the correlation matrix typically used instead of the covariance matrix. However, the eigendecomposition of the covariance matrix (if the input data was standardized) yields the same results as a eigendecomposition on the correlation matrix, since the correlation matrix can be understood as the normalized covariance matrix."
   ]
  },
  {
   "cell_type": "code",
   "execution_count": 23,
   "metadata": {},
   "outputs": [
    {
     "data": {
      "text/plain": [
       "array([  37.915,   57.55 ,   70.972,   81.939,   89.979,   96.592,  100.   ])"
      ]
     },
     "execution_count": 23,
     "metadata": {},
     "output_type": "execute_result"
    }
   ],
   "source": [
    "# Create a list of (eigenvalue, eigenvector) tuples\n",
    "eig_pairs = [ (np.abs(eig_vals[i]),eig_vecs[:,i]) for i in range(len(eig_vals))]\n",
    "\n",
    "# Sort from high to low\n",
    "eig_pairs.sort(key = lambda x: x[0], reverse= True)\n",
    "\n",
    "# Calculation of Explained Variance from the eigenvalues\n",
    "tot = sum(eig_vals)\n",
    "var_exp = [(i/tot)*100 for i in sorted(eig_vals, reverse=True)] \n",
    "cum_var_exp = np.cumsum(var_exp) # Cumulative explained variance\n",
    "\n",
    "cum_var_exp"
   ]
  },
  {
   "cell_type": "code",
   "execution_count": 24,
   "metadata": {},
   "outputs": [
    {
     "name": "stdout",
     "output_type": "stream",
     "text": [
      "19.634999999999998\n",
      "13.421999999999997\n",
      "10.966999999999999\n",
      "8.040000000000006\n",
      "6.6129999999999995\n",
      "3.4080000000000013\n"
     ]
    }
   ],
   "source": [
    "print(57.55 - 37.915)\n",
    "print(70.972 - 57.55)\n",
    "print(81.939 - 70.972)\n",
    "print(89.979 - 81.939)\n",
    "print(96.592 - 89.979)\n",
    "print(100 - 96.592)"
   ]
  },
  {
   "cell_type": "code",
   "execution_count": 25,
   "metadata": {},
   "outputs": [
    {
     "data": {
      "text/plain": [
       "[(2.6573777970786585,\n",
       "  array([ 0.517,  0.334,  0.358,  0.455,  0.137,  0.487,  0.174])),\n",
       " (1.3761939225744024,\n",
       "  array([ 0.237,  0.15 , -0.508,  0.309, -0.327,  0.063, -0.676])),\n",
       " (0.23884834723260553,\n",
       "  array([ 0.764,  0.091, -0.118, -0.511,  0.012, -0.351,  0.103])),\n",
       " (0.9407062524264399,\n",
       "  array([-0.105,  0.305, -0.204, -0.065,  0.88 , -0.037, -0.274])),\n",
       " (0.76868538699591216,\n",
       "  array([-0.286,  0.867,  0.007, -0.226, -0.311, -0.044,  0.13 ])),\n",
       " (0.56351198020471516,\n",
       "  array([-0.015, -0.095,  0.228, -0.611, -0.056,  0.64 , -0.39 ])),\n",
       " (0.46350355182270114,\n",
       "  array([-0.013, -0.064, -0.712, -0.087,  0.027,  0.472,  0.508]))]"
      ]
     },
     "execution_count": 25,
     "metadata": {},
     "output_type": "execute_result"
    }
   ],
   "source": [
    "eig_pairs = [ (np.abs(eig_vals[i]),eig_vecs[:,i]) for i in range(len(eig_vals))]\n",
    "eig_pairs"
   ]
  },
  {
   "cell_type": "markdown",
   "metadata": {},
   "source": [
    "### Sorting Eigenpairs"
   ]
  },
  {
   "cell_type": "code",
   "execution_count": 26,
   "metadata": {},
   "outputs": [
    {
     "name": "stdout",
     "output_type": "stream",
     "text": [
      "Eigenvalues in descending order:\n",
      "2.65737779708\n",
      "1.37619392257\n",
      "0.940706252426\n",
      "0.768685386996\n",
      "0.563511980205\n",
      "0.463503551823\n",
      "0.238848347233\n"
     ]
    }
   ],
   "source": [
    "# Make a list of (eigenvalue, eigenvector) tuples\n",
    "eig_pairs = [(np.abs(eig_vals[i]), eig_vecs[:,i]) for i in range(len(eig_vals))]\n",
    "\n",
    "# Sort the (eigenvalue, eigenvector) tuples from high to low\n",
    "eig_pairs.sort(key=lambda x: x[0], reverse=True)\n",
    "\n",
    "# Visually confirm that the list is correctly sorted by decreasing eigenvalues\n",
    "eig_vals_list = []\n",
    "print('Eigenvalues in descending order:')\n",
    "for i in eig_pairs:\n",
    "    eig_vals_list.append(i[0])\n",
    "    print(i[0])"
   ]
  },
  {
   "cell_type": "code",
   "execution_count": 27,
   "metadata": {},
   "outputs": [
    {
     "data": {
      "text/plain": [
       "array([[ 0.517,  0.237, -0.105, -0.286, -0.015, -0.013,  0.764],\n",
       "       [ 0.334,  0.15 ,  0.305,  0.867, -0.095, -0.064,  0.091],\n",
       "       [ 0.358, -0.508, -0.204,  0.007,  0.228, -0.712, -0.118],\n",
       "       [ 0.455,  0.309, -0.065, -0.226, -0.611, -0.087, -0.511],\n",
       "       [ 0.137, -0.327,  0.88 , -0.311, -0.056,  0.027,  0.012],\n",
       "       [ 0.487,  0.063, -0.037, -0.044,  0.64 ,  0.472, -0.351],\n",
       "       [ 0.174, -0.676, -0.274,  0.13 , -0.39 ,  0.508,  0.103]])"
      ]
     },
     "execution_count": 27,
     "metadata": {},
     "output_type": "execute_result"
    }
   ],
   "source": [
    "matrix_Q = np.hstack((eig_pairs[0][1].reshape(7,1),\n",
    "                      eig_pairs[1][1].reshape(7,1),\n",
    "                      eig_pairs[2][1].reshape(7,1),\n",
    "                      eig_pairs[3][1].reshape(7,1),\n",
    "                      eig_pairs[4][1].reshape(7,1),\n",
    "                      eig_pairs[5][1].reshape(7,1),\n",
    "                      eig_pairs[6][1].reshape(7,1)))\n",
    "#with desending order of eigen value \n",
    "matrix_Q"
   ]
  },
  {
   "cell_type": "markdown",
   "metadata": {},
   "source": [
    "## Loadings\n",
    "\n",
    "Compute loadings A. May skip if you don't need to interpret PCs anyhow.\n",
    "Loadings are eigenvectors normalized to respective eigenvalues: A value = V value * sqrt(L value)\n",
    "Loadings are the covariances between variables and components.\n",
    "\n",
    "Loadings=Orthonormal Eigenvectors⋅ Square root of (Absolute Eigen values)"
   ]
  },
  {
   "cell_type": "code",
   "execution_count": 28,
   "metadata": {},
   "outputs": [
    {
     "data": {
      "text/plain": [
       "array([ 1.63 ,  1.173,  0.97 ,  0.877,  0.751,  0.681,  0.489])"
      ]
     },
     "execution_count": 28,
     "metadata": {},
     "output_type": "execute_result"
    }
   ],
   "source": [
    "eig_vals_sqrt = np.array([np.sqrt(eig_val) for eig_val in eig_vals_list])\n",
    "eig_vals_sqrt"
   ]
  },
  {
   "cell_type": "code",
   "execution_count": 29,
   "metadata": {},
   "outputs": [
    {
     "data": {
      "text/html": [
       "<div>\n",
       "<style>\n",
       "    .dataframe thead tr:only-child th {\n",
       "        text-align: right;\n",
       "    }\n",
       "\n",
       "    .dataframe thead th {\n",
       "        text-align: left;\n",
       "    }\n",
       "\n",
       "    .dataframe tbody tr th {\n",
       "        vertical-align: top;\n",
       "    }\n",
       "</style>\n",
       "<table border=\"1\" class=\"dataframe\">\n",
       "  <thead>\n",
       "    <tr style=\"text-align: right;\">\n",
       "      <th></th>\n",
       "      <th>rip</th>\n",
       "      <th>btc</th>\n",
       "      <th>ltc</th>\n",
       "      <th>mon</th>\n",
       "      <th>nem</th>\n",
       "      <th>dash</th>\n",
       "      <th>eth</th>\n",
       "    </tr>\n",
       "  </thead>\n",
       "  <tbody>\n",
       "    <tr>\n",
       "      <th>0</th>\n",
       "      <td>0.844</td>\n",
       "      <td>0.544</td>\n",
       "      <td>0.583</td>\n",
       "      <td>0.742</td>\n",
       "      <td>0.224</td>\n",
       "      <td>0.793</td>\n",
       "      <td>0.284</td>\n",
       "    </tr>\n",
       "    <tr>\n",
       "      <th>1</th>\n",
       "      <td>0.278</td>\n",
       "      <td>0.176</td>\n",
       "      <td>-0.596</td>\n",
       "      <td>0.363</td>\n",
       "      <td>-0.383</td>\n",
       "      <td>0.074</td>\n",
       "      <td>-0.793</td>\n",
       "    </tr>\n",
       "    <tr>\n",
       "      <th>2</th>\n",
       "      <td>-0.102</td>\n",
       "      <td>0.296</td>\n",
       "      <td>-0.198</td>\n",
       "      <td>-0.063</td>\n",
       "      <td>0.853</td>\n",
       "      <td>-0.036</td>\n",
       "      <td>-0.266</td>\n",
       "    </tr>\n",
       "    <tr>\n",
       "      <th>3</th>\n",
       "      <td>-0.250</td>\n",
       "      <td>0.760</td>\n",
       "      <td>0.006</td>\n",
       "      <td>-0.198</td>\n",
       "      <td>-0.273</td>\n",
       "      <td>-0.039</td>\n",
       "      <td>0.114</td>\n",
       "    </tr>\n",
       "    <tr>\n",
       "      <th>4</th>\n",
       "      <td>-0.011</td>\n",
       "      <td>-0.071</td>\n",
       "      <td>0.171</td>\n",
       "      <td>-0.459</td>\n",
       "      <td>-0.042</td>\n",
       "      <td>0.481</td>\n",
       "      <td>-0.293</td>\n",
       "    </tr>\n",
       "    <tr>\n",
       "      <th>5</th>\n",
       "      <td>-0.009</td>\n",
       "      <td>-0.043</td>\n",
       "      <td>-0.485</td>\n",
       "      <td>-0.059</td>\n",
       "      <td>0.018</td>\n",
       "      <td>0.321</td>\n",
       "      <td>0.346</td>\n",
       "    </tr>\n",
       "    <tr>\n",
       "      <th>6</th>\n",
       "      <td>0.373</td>\n",
       "      <td>0.044</td>\n",
       "      <td>-0.058</td>\n",
       "      <td>-0.250</td>\n",
       "      <td>0.006</td>\n",
       "      <td>-0.171</td>\n",
       "      <td>0.051</td>\n",
       "    </tr>\n",
       "  </tbody>\n",
       "</table>\n",
       "</div>"
      ],
      "text/plain": [
       "     rip    btc    ltc    mon    nem   dash    eth\n",
       "0  0.844  0.544  0.583  0.742  0.224  0.793  0.284\n",
       "1  0.278  0.176 -0.596  0.363 -0.383  0.074 -0.793\n",
       "2 -0.102  0.296 -0.198 -0.063  0.853 -0.036 -0.266\n",
       "3 -0.250  0.760  0.006 -0.198 -0.273 -0.039  0.114\n",
       "4 -0.011 -0.071  0.171 -0.459 -0.042  0.481 -0.293\n",
       "5 -0.009 -0.043 -0.485 -0.059  0.018  0.321  0.346\n",
       "6  0.373  0.044 -0.058 -0.250  0.006 -0.171  0.051"
      ]
     },
     "execution_count": 29,
     "metadata": {},
     "output_type": "execute_result"
    }
   ],
   "source": [
    "ordered_col = (['rip','btc','ltc','mon','nem','dash','eth'])\n",
    "loadings = pd.DataFrame(np.multiply(matrix_Q,eig_vals_sqrt)).T\n",
    "loadings.columns = ordered_col\n",
    "loadings"
   ]
  },
  {
   "cell_type": "code",
   "execution_count": 30,
   "metadata": {},
   "outputs": [
    {
     "data": {
      "text/html": [
       "<div>\n",
       "<style>\n",
       "    .dataframe thead tr:only-child th {\n",
       "        text-align: right;\n",
       "    }\n",
       "\n",
       "    .dataframe thead th {\n",
       "        text-align: left;\n",
       "    }\n",
       "\n",
       "    .dataframe tbody tr th {\n",
       "        vertical-align: top;\n",
       "    }\n",
       "</style>\n",
       "<table border=\"1\" class=\"dataframe\">\n",
       "  <thead>\n",
       "    <tr style=\"text-align: right;\">\n",
       "      <th></th>\n",
       "      <th>rip</th>\n",
       "      <th>btc</th>\n",
       "      <th>ltc</th>\n",
       "      <th>mon</th>\n",
       "      <th>nem</th>\n",
       "      <th>dash</th>\n",
       "      <th>eth</th>\n",
       "    </tr>\n",
       "  </thead>\n",
       "  <tbody>\n",
       "    <tr>\n",
       "      <th>0</th>\n",
       "      <td>7.116e-01</td>\n",
       "      <td>0.296</td>\n",
       "      <td>3.399e-01</td>\n",
       "      <td>0.550</td>\n",
       "      <td>5.002e-02</td>\n",
       "      <td>0.629</td>\n",
       "      <td>0.081</td>\n",
       "    </tr>\n",
       "    <tr>\n",
       "      <th>1</th>\n",
       "      <td>7.709e-02</td>\n",
       "      <td>0.031</td>\n",
       "      <td>3.546e-01</td>\n",
       "      <td>0.132</td>\n",
       "      <td>1.469e-01</td>\n",
       "      <td>0.006</td>\n",
       "      <td>0.629</td>\n",
       "    </tr>\n",
       "    <tr>\n",
       "      <th>2</th>\n",
       "      <td>1.034e-02</td>\n",
       "      <td>0.087</td>\n",
       "      <td>3.919e-02</td>\n",
       "      <td>0.004</td>\n",
       "      <td>7.279e-01</td>\n",
       "      <td>0.001</td>\n",
       "      <td>0.071</td>\n",
       "    </tr>\n",
       "    <tr>\n",
       "      <th>3</th>\n",
       "      <td>6.275e-02</td>\n",
       "      <td>0.578</td>\n",
       "      <td>3.784e-05</td>\n",
       "      <td>0.039</td>\n",
       "      <td>7.427e-02</td>\n",
       "      <td>0.001</td>\n",
       "      <td>0.013</td>\n",
       "    </tr>\n",
       "    <tr>\n",
       "      <th>4</th>\n",
       "      <td>1.239e-04</td>\n",
       "      <td>0.005</td>\n",
       "      <td>2.925e-02</td>\n",
       "      <td>0.211</td>\n",
       "      <td>1.757e-03</td>\n",
       "      <td>0.231</td>\n",
       "      <td>0.086</td>\n",
       "    </tr>\n",
       "    <tr>\n",
       "      <th>5</th>\n",
       "      <td>7.429e-05</td>\n",
       "      <td>0.002</td>\n",
       "      <td>2.350e-01</td>\n",
       "      <td>0.003</td>\n",
       "      <td>3.313e-04</td>\n",
       "      <td>0.103</td>\n",
       "      <td>0.119</td>\n",
       "    </tr>\n",
       "    <tr>\n",
       "      <th>6</th>\n",
       "      <td>1.393e-01</td>\n",
       "      <td>0.002</td>\n",
       "      <td>3.314e-03</td>\n",
       "      <td>0.062</td>\n",
       "      <td>3.500e-05</td>\n",
       "      <td>0.029</td>\n",
       "      <td>0.003</td>\n",
       "    </tr>\n",
       "  </tbody>\n",
       "</table>\n",
       "</div>"
      ],
      "text/plain": [
       "         rip    btc        ltc    mon        nem   dash    eth\n",
       "0  7.116e-01  0.296  3.399e-01  0.550  5.002e-02  0.629  0.081\n",
       "1  7.709e-02  0.031  3.546e-01  0.132  1.469e-01  0.006  0.629\n",
       "2  1.034e-02  0.087  3.919e-02  0.004  7.279e-01  0.001  0.071\n",
       "3  6.275e-02  0.578  3.784e-05  0.039  7.427e-02  0.001  0.013\n",
       "4  1.239e-04  0.005  2.925e-02  0.211  1.757e-03  0.231  0.086\n",
       "5  7.429e-05  0.002  2.350e-01  0.003  3.313e-04  0.103  0.119\n",
       "6  1.393e-01  0.002  3.314e-03  0.062  3.500e-05  0.029  0.003"
      ]
     },
     "execution_count": 30,
     "metadata": {},
     "output_type": "execute_result"
    }
   ],
   "source": [
    "sqr_loadings = loadings.applymap(np.square)\n",
    "sqr_loadings"
   ]
  },
  {
   "cell_type": "code",
   "execution_count": 31,
   "metadata": {},
   "outputs": [
    {
     "data": {
      "text/plain": [
       "2.65415"
      ]
     },
     "execution_count": 31,
     "metadata": {},
     "output_type": "execute_result"
    }
   ],
   "source": [
    "#make sure each row of square loadings table = eigenvalue\n",
    "7.107e-01+0.296+3.395e-01+0.549+4.995e-02+0.628+0.081"
   ]
  },
  {
   "cell_type": "code",
   "execution_count": 32,
   "metadata": {},
   "outputs": [
    {
     "data": {
      "text/plain": [
       "1.3748900000000002"
      ]
     },
     "execution_count": 32,
     "metadata": {},
     "output_type": "execute_result"
    }
   ],
   "source": [
    "7.699e-02+0.031+3.542e-01+0.132+1.467e-01+0.006+0.628"
   ]
  },
  {
   "cell_type": "code",
   "execution_count": 33,
   "metadata": {},
   "outputs": [
    {
     "data": {
      "image/png": "[encoded data removed]",
      "text/plain": [
       "<matplotlib.figure.Figure at 0x93494f12b0>"
      ]
     },
     "metadata": {},
     "output_type": "display_data"
    }
   ],
   "source": [
    "LL = np.multiply(matrix_Q,eig_vals_sqrt)\n",
    "tickers = ordered_col\n",
    "ax = plt.figure(figsize=(8,8)).gca()\n",
    "plt.imshow(LL, cmap=\"bwr\", interpolation=\"nearest\")\n",
    "cb = plt.colorbar()\n",
    "plt.yticks(np.arange(len(tickers)), tickers)\n",
    "plt.xticks(np.arange(len(tickers)), [1,2,3,4,5,6,7])\n",
    "plt.xlabel(\"PC Number\")\n",
    "plt.title(\"PCA\", fontsize=14)\n",
    "# force x-tickers to be displayed as integers (not floats)\n",
    "ax.xaxis.set_major_locator(MaxNLocator(integer=True))"
   ]
  },
  {
   "cell_type": "code",
   "execution_count": 34,
   "metadata": {},
   "outputs": [
    {
     "data": {
      "image/png": "[encoded data removed]",
      "text/plain": [
       "<matplotlib.figure.Figure at 0x934c932198>"
      ]
     },
     "metadata": {},
     "output_type": "display_data"
    }
   ],
   "source": [
    "k1 = 1  # the last PC column in 'v' PCA matrix\n",
    "k2 = 0  # the second last PC column\n",
    " \n",
    "# begin constructing bi-plot for PC(k1) and PC(k2)\n",
    "# loadings\n",
    "plt.figure(figsize=(7,7))\n",
    "plt.grid()\n",
    " \n",
    "# compute the distance from (0,0) point\n",
    "dist = []\n",
    "for i in range(LL.shape[0]):\n",
    "    x = LL[i,k1]\n",
    "    y = LL[i,k2]\n",
    "    plt.plot(x, y, '.k')\n",
    "    plt.plot([0,x], [0,y], '-', color=\"r\")\n",
    "    d = np.sqrt(x**2 + y**2)\n",
    "    dist.append(d)\n",
    "    plt.text(x, y, tickers[i], color='g')\n",
    "plt.xlabel(\"PC-\" + str(k1+1))\n",
    "plt.ylabel(\"PC-\" + str(k2+1));"
   ]
  },
  {
   "cell_type": "markdown",
   "metadata": {
    "collapsed": true
   },
   "source": [
    "## Looking at energy (XLE)"
   ]
  },
  {
   "cell_type": "code",
   "execution_count": 35,
   "metadata": {},
   "outputs": [],
   "source": [
    "XLE_FILES = [('COP_data', 'COP'), ('CVX_data', 'CVX'),\n",
    "                ('EOG_data', 'EOG'), ('OXY_data', 'OXY'),\n",
    "                ('PSX_data', 'PSX'), ('SLB_data', 'SLB'),\n",
    "                ('XOM_data', 'XOM')]\n",
    "def load_returns_matrix (files, tdelta=pd.Timedelta(days=30), center=True, \n",
    "                         scale=True):\n",
    "    \"\"\"Returns cryptocurrency rolling returns in three formats.\n",
    "    \n",
    "    Args:\n",
    "        files (list of tuples): (asset name, file path) tuples. Asset name \n",
    "            used in column headers for DF.\n",
    "        \n",
    "    Returns:\n",
    "        dfout (DataFrame): Returns without centering/scaling.\n",
    "        dfout_adj (DataFrame): Returns with centering/scaling (depending \n",
    "            on input vals for center and scale).\n",
    "        xout (np.matrix): Returns matrix with centering/scaling (depending \n",
    "            on args), i.e., without index or column names.\n",
    "    \"\"\"\n",
    "    dfs = []\n",
    "    for file, name in files:\n",
    "        path = 'XLE//{}.csv'.format(file)\n",
    "        df = pd.read_csv(path, usecols=['Date', 'Close']).iloc[::-1]\n",
    "        df['Date'] = pd.to_datetime(df['Date'])\n",
    "        df = df[['Date', 'Close']]\n",
    "        df.set_index('Date', drop=True, inplace=True)\n",
    "        df.rename(columns={'Close':name}, inplace=True)\n",
    "        dfs.append(df)\n",
    "    dfout = pd.concat(dfs, axis=1, join='inner')\n",
    "    dfout = dfout.pct_change(periods=1, freq=tdelta)\n",
    "    dfout.dropna(axis=0, how='any', inplace=True)\n",
    "    xout = preprocessing.scale(dfout, axis=0, with_mean=center, with_std=scale)\n",
    "    dfout_adj = pd.DataFrame(xout, columns=dfout.columns, index=dfout.index)\n",
    "    return dfout, dfout_adj, np.matrix(xout)"
   ]
  },
  {
   "cell_type": "code",
   "execution_count": 36,
   "metadata": {},
   "outputs": [],
   "source": [
    "df_returns_unadj, df_returns, X = load_returns_matrix(XLE_FILES,\n",
    "                                                      center=True, scale=True)"
   ]
  },
  {
   "cell_type": "code",
   "execution_count": 37,
   "metadata": {},
   "outputs": [
    {
     "data": {
      "text/html": [
       "<div>\n",
       "<style>\n",
       "    .dataframe thead tr:only-child th {\n",
       "        text-align: right;\n",
       "    }\n",
       "\n",
       "    .dataframe thead th {\n",
       "        text-align: left;\n",
       "    }\n",
       "\n",
       "    .dataframe tbody tr th {\n",
       "        vertical-align: top;\n",
       "    }\n",
       "</style>\n",
       "<table border=\"1\" class=\"dataframe\">\n",
       "  <thead>\n",
       "    <tr style=\"text-align: right;\">\n",
       "      <th></th>\n",
       "      <th>COP</th>\n",
       "      <th>CVX</th>\n",
       "      <th>EOG</th>\n",
       "      <th>OXY</th>\n",
       "      <th>PSX</th>\n",
       "      <th>SLB</th>\n",
       "      <th>XOM</th>\n",
       "    </tr>\n",
       "    <tr>\n",
       "      <th>Date</th>\n",
       "      <th></th>\n",
       "      <th></th>\n",
       "      <th></th>\n",
       "      <th></th>\n",
       "      <th></th>\n",
       "      <th></th>\n",
       "      <th></th>\n",
       "    </tr>\n",
       "  </thead>\n",
       "  <tbody>\n",
       "    <tr>\n",
       "      <th>2012-09-12</th>\n",
       "      <td>-0.170</td>\n",
       "      <td>0.174</td>\n",
       "      <td>0.301</td>\n",
       "      <td>-0.579</td>\n",
       "      <td>2.078</td>\n",
       "      <td>-0.204</td>\n",
       "      <td>0.383</td>\n",
       "    </tr>\n",
       "    <tr>\n",
       "      <th>2012-09-13</th>\n",
       "      <td>0.075</td>\n",
       "      <td>0.501</td>\n",
       "      <td>0.445</td>\n",
       "      <td>0.149</td>\n",
       "      <td>2.308</td>\n",
       "      <td>0.249</td>\n",
       "      <td>0.814</td>\n",
       "    </tr>\n",
       "    <tr>\n",
       "      <th>2012-09-14</th>\n",
       "      <td>0.229</td>\n",
       "      <td>0.737</td>\n",
       "      <td>0.840</td>\n",
       "      <td>0.610</td>\n",
       "      <td>2.155</td>\n",
       "      <td>0.810</td>\n",
       "      <td>1.155</td>\n",
       "    </tr>\n",
       "    <tr>\n",
       "      <th>2012-09-19</th>\n",
       "      <td>0.071</td>\n",
       "      <td>0.640</td>\n",
       "      <td>0.342</td>\n",
       "      <td>-0.188</td>\n",
       "      <td>0.662</td>\n",
       "      <td>0.068</td>\n",
       "      <td>0.707</td>\n",
       "    </tr>\n",
       "    <tr>\n",
       "      <th>2012-09-20</th>\n",
       "      <td>0.229</td>\n",
       "      <td>0.933</td>\n",
       "      <td>0.452</td>\n",
       "      <td>-0.067</td>\n",
       "      <td>1.317</td>\n",
       "      <td>0.179</td>\n",
       "      <td>1.097</td>\n",
       "    </tr>\n",
       "  </tbody>\n",
       "</table>\n",
       "</div>"
      ],
      "text/plain": [
       "              COP    CVX    EOG    OXY    PSX    SLB    XOM\n",
       "Date                                                       \n",
       "2012-09-12 -0.170  0.174  0.301 -0.579  2.078 -0.204  0.383\n",
       "2012-09-13  0.075  0.501  0.445  0.149  2.308  0.249  0.814\n",
       "2012-09-14  0.229  0.737  0.840  0.610  2.155  0.810  1.155\n",
       "2012-09-19  0.071  0.640  0.342 -0.188  0.662  0.068  0.707\n",
       "2012-09-20  0.229  0.933  0.452 -0.067  1.317  0.179  1.097"
      ]
     },
     "execution_count": 37,
     "metadata": {},
     "output_type": "execute_result"
    }
   ],
   "source": [
    "df_returns.head()"
   ]
  },
  {
   "cell_type": "code",
   "execution_count": 38,
   "metadata": {},
   "outputs": [],
   "source": [
    "XLE_df = df_returns_unadj\n",
    "XLE_df_std = df_returns\n",
    "\n",
    "cov = np.cov(XLE_df_std.values.T)     # covariance matrix\n",
    "corr = np.corrcoef(XLE_df.values.T)   # correlation matrix\n",
    "eig_vals, eig_vecs = np.linalg.eig(cov)"
   ]
  },
  {
   "cell_type": "code",
   "execution_count": 39,
   "metadata": {},
   "outputs": [
    {
     "name": "stdout",
     "output_type": "stream",
     "text": [
      "Eigenvalues in descending order:\n",
      "4.39949467639\n",
      "0.74475025426\n",
      "0.677117981209\n",
      "0.528119015865\n",
      "0.310976461774\n",
      "0.218834728165\n",
      "0.130429104563\n"
     ]
    }
   ],
   "source": [
    "# Make a list of (eigenvalue, eigenvector) tuples\n",
    "eig_pairs = [(np.abs(eig_vals[i]), eig_vecs[:,i]) for i in range(len(eig_vals))]\n",
    "\n",
    "# Sort the (eigenvalue, eigenvector) tuples from high to low\n",
    "eig_pairs.sort(key=lambda x: x[0], reverse=True)\n",
    "\n",
    "# Visually confirm that the list is correctly sorted by decreasing eigenvalues\n",
    "eig_vals_list = []\n",
    "print('Eigenvalues in descending order:')\n",
    "for i in eig_pairs:\n",
    "    eig_vals_list.append(i[0])\n",
    "    print(i[0])"
   ]
  },
  {
   "cell_type": "code",
   "execution_count": 40,
   "metadata": {},
   "outputs": [
    {
     "ename": "SyntaxError",
     "evalue": "invalid syntax (<ipython-input-40-e96c4331acee>, line 2)",
     "output_type": "error",
     "traceback": [
      "\u001b[1;36m  File \u001b[1;32m\"<ipython-input-40-e96c4331acee>\"\u001b[1;36m, line \u001b[1;32m2\u001b[0m\n\u001b[1;33m    COP\tCVX\tEOG\tOXY\tPSX\tSLB\tXOM\u001b[0m\n\u001b[1;37m       \t  ^\u001b[0m\n\u001b[1;31mSyntaxError\u001b[0m\u001b[1;31m:\u001b[0m invalid syntax\n"
     ]
    }
   ],
   "source": [
    "4.399,  0.13 ,  0.219,  0.311,  0.528,  0.745,  0.677\n",
    "COP\tCVX\tEOG\tOXY\tPSX\tSLB\tXOM\n",
    "\n",
    "COP, SLB, XOM,PSX,OXY, EOG,CVX"
   ]
  },
  {
   "cell_type": "code",
   "execution_count": null,
   "metadata": {},
   "outputs": [],
   "source": [
    "matrix_Q = np.hstack((eig_pairs[0][1].reshape(7,1),\n",
    "                      eig_pairs[1][1].reshape(7,1),\n",
    "                      eig_pairs[2][1].reshape(7,1),\n",
    "                      eig_pairs[3][1].reshape(7,1),\n",
    "                      eig_pairs[4][1].reshape(7,1),\n",
    "                      eig_pairs[5][1].reshape(7,1),\n",
    "                      eig_pairs[6][1].reshape(7,1)))\n",
    "matrix_Q"
   ]
  },
  {
   "cell_type": "code",
   "execution_count": null,
   "metadata": {},
   "outputs": [],
   "source": [
    "eig_vals_sqrt = np.array([np.sqrt(eig_val) for eig_val in eig_vals_list])\n",
    "eig_vals_sqrt\n",
    "\n",
    "ordered_col = ([\"COP\",\"SLB\",\"XOM\",\"PSX\",\"OXY\",\"EOG\",\"CVX\"])\n",
    "loadings = pd.DataFrame(np.multiply(matrix_Q,eig_vals_sqrt)).T\n",
    "loadings.columns = ordered_col\n",
    "loadings"
   ]
  },
  {
   "cell_type": "code",
   "execution_count": null,
   "metadata": {},
   "outputs": [],
   "source": [
    "sqr_loadings = loadings.applymap(np.square)\n",
    "\n",
    "LL = np.multiply(matrix_Q,eig_vals_sqrt)\n",
    "tickers = ordered_col\n",
    "ax = plt.figure(figsize=(8,8)).gca()\n",
    "plt.imshow(LL, cmap=\"bwr\", interpolation=\"nearest\")\n",
    "cb = plt.colorbar()\n",
    "plt.yticks(np.arange(len(tickers)), tickers)\n",
    "plt.xlabel(\"PC Number\")\n",
    "plt.title(\"PCA\", fontsize=14)\n",
    "# force x-tickers to be displayed as integers (not floats)\n",
    "ax.xaxis.set_major_locator(MaxNLocator(integer=True))"
   ]
  },
  {
   "cell_type": "code",
   "execution_count": null,
   "metadata": {},
   "outputs": [],
   "source": [
    "k1 = 1  # the last PC column in 'v' PCA matrix\n",
    "k2 = 0  # the second last PC column\n",
    " \n",
    "# begin constructing bi-plot for PC(k1) and PC(k2)\n",
    "# loadings\n",
    "plt.figure(figsize=(7,7))\n",
    "plt.grid()\n",
    " \n",
    "# compute the distance from (0,0) point\n",
    "dist = []\n",
    "for i in range(LL.shape[0]):\n",
    "    x = LL[i,k1]\n",
    "    y = LL[i,k2]\n",
    "    plt.plot(x, y, '.k')\n",
    "    plt.plot([0,x], [0,y], '-', color=\"r\")\n",
    "    d = np.sqrt(x**2 + y**2)\n",
    "    dist.append(d)\n",
    "    plt.text(x, y, tickers[i], color='g')\n",
    "plt.xlabel(\"PC-\" + str(k1+1))\n",
    "plt.ylabel(\"PC-\" + str(k2+1));"
   ]
  },
  {
   "cell_type": "code",
   "execution_count": null,
   "metadata": {},
   "outputs": [],
   "source": [
    "XLE_df_std.head()"
   ]
  }
 ],
 "metadata": {
  "kernelspec": {
   "display_name": "Python 3",
   "language": "python",
   "name": "python3"
  },
  "language_info": {
   "codemirror_mode": {
    "name": "ipython",
    "version": 3
   },
   "file_extension": ".py",
   "mimetype": "text/x-python",
   "name": "python",
   "nbconvert_exporter": "python",
   "pygments_lexer": "ipython3",
   "version": "3.5.2"
  }
 },
 "nbformat": 4,
 "nbformat_minor": 2
}

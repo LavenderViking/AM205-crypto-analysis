{
 "cells": [
  {
   "cell_type": "markdown",
   "metadata": {},
   "source": [
    "http://www.quantatrisk.com/2017/03/31/cryptocurrency-portfolio-correlation-pca-python/"
   ]
  },
  {
   "cell_type": "code",
   "execution_count": 3,
   "metadata": {
    "collapsed": false
   },
   "outputs": [],
   "source": [
    "import numpy as np\n",
    "import pandas as pd\n",
    "import matplotlib\n",
    "import matplotlib.pyplot as plt \n",
    "from matplotlib.ticker import MaxNLocator\n",
    "from datetime import datetime\n",
    "import json\n",
    "from bs4 import BeautifulSoup\n",
    "import requests\n",
    "%matplotlib inline"
   ]
  },
  {
   "cell_type": "code",
   "execution_count": 4,
   "metadata": {
    "collapsed": true
   },
   "outputs": [],
   "source": [
    "#read data into pandas df\n",
    "bitcoin = pd.read_csv('bitcoin_price.csv')\n",
    "ethereum = pd.read_csv('ethereum_price.csv')\n",
    "litecoin = pd.read_csv('litecoin_price.csv')\n",
    "monero = pd.read_csv('monero_price.csv')\n",
    "ripple = pd.read_csv('ripple_price.csv')\n",
    "nem = pd.read_csv('nem_price.csv')\n",
    "dash = pd.read_csv('dash_price.csv')"
   ]
  },
  {
   "cell_type": "code",
   "execution_count": 46,
   "metadata": {
    "collapsed": false
   },
   "outputs": [
    {
     "data": {
      "text/html": [
       "<div>\n",
       "<table border=\"1\" class=\"dataframe\">\n",
       "  <thead>\n",
       "    <tr style=\"text-align: right;\">\n",
       "      <th></th>\n",
       "      <th>Date</th>\n",
       "      <th>Open</th>\n",
       "      <th>High</th>\n",
       "      <th>Low</th>\n",
       "      <th>Close</th>\n",
       "      <th>Volume</th>\n",
       "      <th>Market Cap</th>\n",
       "    </tr>\n",
       "  </thead>\n",
       "  <tbody>\n",
       "    <tr>\n",
       "      <th>0</th>\n",
       "      <td>Nov 07, 2017</td>\n",
       "      <td>7023.10</td>\n",
       "      <td>7253.32</td>\n",
       "      <td>7023.10</td>\n",
       "      <td>7144.38</td>\n",
       "      <td>2,326,340,000</td>\n",
       "      <td>117,056,000,000</td>\n",
       "    </tr>\n",
       "    <tr>\n",
       "      <th>1</th>\n",
       "      <td>Nov 06, 2017</td>\n",
       "      <td>7403.22</td>\n",
       "      <td>7445.77</td>\n",
       "      <td>7007.31</td>\n",
       "      <td>7022.76</td>\n",
       "      <td>3,111,900,000</td>\n",
       "      <td>123,379,000,000</td>\n",
       "    </tr>\n",
       "    <tr>\n",
       "      <th>2</th>\n",
       "      <td>Nov 05, 2017</td>\n",
       "      <td>7404.52</td>\n",
       "      <td>7617.48</td>\n",
       "      <td>7333.19</td>\n",
       "      <td>7407.41</td>\n",
       "      <td>2,380,410,000</td>\n",
       "      <td>123,388,000,000</td>\n",
       "    </tr>\n",
       "    <tr>\n",
       "      <th>3</th>\n",
       "      <td>Nov 04, 2017</td>\n",
       "      <td>7164.48</td>\n",
       "      <td>7492.86</td>\n",
       "      <td>7031.28</td>\n",
       "      <td>7379.95</td>\n",
       "      <td>2,483,800,000</td>\n",
       "      <td>119,376,000,000</td>\n",
       "    </tr>\n",
       "    <tr>\n",
       "      <th>4</th>\n",
       "      <td>Nov 03, 2017</td>\n",
       "      <td>7087.53</td>\n",
       "      <td>7461.29</td>\n",
       "      <td>7002.94</td>\n",
       "      <td>7207.76</td>\n",
       "      <td>3,369,860,000</td>\n",
       "      <td>118,084,000,000</td>\n",
       "    </tr>\n",
       "  </tbody>\n",
       "</table>\n",
       "</div>"
      ],
      "text/plain": [
       "           Date     Open     High      Low    Close         Volume  \\\n",
       "0  Nov 07, 2017  7023.10  7253.32  7023.10  7144.38  2,326,340,000   \n",
       "1  Nov 06, 2017  7403.22  7445.77  7007.31  7022.76  3,111,900,000   \n",
       "2  Nov 05, 2017  7404.52  7617.48  7333.19  7407.41  2,380,410,000   \n",
       "3  Nov 04, 2017  7164.48  7492.86  7031.28  7379.95  2,483,800,000   \n",
       "4  Nov 03, 2017  7087.53  7461.29  7002.94  7207.76  3,369,860,000   \n",
       "\n",
       "        Market Cap  \n",
       "0  117,056,000,000  \n",
       "1  123,379,000,000  \n",
       "2  123,388,000,000  \n",
       "3  119,376,000,000  \n",
       "4  118,084,000,000  "
      ]
     },
     "execution_count": 46,
     "metadata": {},
     "output_type": "execute_result"
    }
   ],
   "source": [
    "bitcoin.head()"
   ]
  },
  {
   "cell_type": "code",
   "execution_count": 20,
   "metadata": {
    "collapsed": false
   },
   "outputs": [
    {
     "name": "stdout",
     "output_type": "stream",
     "text": [
      "Nov 07, 2017\n",
      "Apr 28, 2013\n",
      "-------\n",
      "None\n",
      "Nov 07, 2017\n",
      "Aug 07, 2015\n",
      "-------\n",
      "None\n",
      "Nov 07, 2017\n",
      "Apr 28, 2013\n",
      "-------\n",
      "None\n",
      "Nov 07, 2017\n",
      "May 21, 2014\n",
      "-------\n",
      "None\n",
      "Nov 07, 2017\n",
      "Aug 04, 2013\n",
      "-------\n",
      "None\n",
      "Nov 07, 2017\n",
      "Apr 01, 2015\n",
      "-------\n",
      "None\n",
      "Nov 07, 2017\n",
      "Feb 14, 2014\n",
      "-------\n",
      "None\n"
     ]
    }
   ],
   "source": [
    "def basic_info(curr_type):\n",
    "    #print(curr_type)\n",
    "    print(curr_type[\"Date\"][0])\n",
    "    print(curr_type[\"Date\"][curr_type.shape[0]-1])\n",
    "    #print(curr_type.head())\n",
    "    print(\"-------\")\n",
    "for i in [bitcoin,ethereum,litecoin,monero,ripple,nem,dash]:\n",
    "    print(basic_info(i))"
   ]
  },
  {
   "cell_type": "code",
   "execution_count": 41,
   "metadata": {
    "collapsed": false
   },
   "outputs": [],
   "source": [
    "small_t = list(bitcoin[\"Date\"]).index(\"Nov 01, 2015\")\n",
    "large_t = list(bitcoin[\"Date\"]).index(\"Nov 01, 2014\")"
   ]
  },
  {
   "cell_type": "code",
   "execution_count": 45,
   "metadata": {
    "collapsed": false
   },
   "outputs": [],
   "source": [
    "#From Nov 01, 2015 - Nov 01, 2017\n",
    "bitcoin_s = bitcoin.iloc[0:small_t+1,:]\n",
    "ethereum_s = ethereum.iloc[0:small_t+1,:]\n",
    "litecoin_s = litecoin.iloc[0:small_t+1,:]\n",
    "monero_s = monero.iloc[0:small_t+1,:]\n",
    "ripple_s = ripple.iloc[0:small_t+1,:]\n",
    "nem_s = nem.iloc[0:small_t+1,:]\n",
    "dash_s = dash.iloc[0:small_t+1,:]\n",
    "\n",
    "#From Nov 01, 2014 - Nov 01, 2017\n",
    "bitcoin_l = bitcoin.iloc[0:large_t+1,:]\n",
    "litecoin_l = litecoin.iloc[0:large_t+1,:]\n",
    "monero_l = monero.iloc[0:large_t+1,:]\n",
    "ripple_l = ripple.iloc[0:large_t+1,:]\n",
    "dash_l = dash.iloc[0:large_t+1,:]"
   ]
  },
  {
   "cell_type": "code",
   "execution_count": 48,
   "metadata": {
    "collapsed": false
   },
   "outputs": [
    {
     "data": {
      "text/html": [
       "<div>\n",
       "<table border=\"1\" class=\"dataframe\">\n",
       "  <thead>\n",
       "    <tr style=\"text-align: right;\">\n",
       "      <th></th>\n",
       "      <th>bitcoin</th>\n",
       "      <th>ethereum</th>\n",
       "      <th>litecoin</th>\n",
       "      <th>monero</th>\n",
       "      <th>ripple</th>\n",
       "      <th>nem</th>\n",
       "      <th>dash</th>\n",
       "    </tr>\n",
       "  </thead>\n",
       "  <tbody>\n",
       "    <tr>\n",
       "      <th>0</th>\n",
       "      <td>7144.38</td>\n",
       "      <td>294.66</td>\n",
       "      <td>61.30</td>\n",
       "      <td>99.76</td>\n",
       "      <td>0.210354</td>\n",
       "      <td>0.180246</td>\n",
       "      <td>293.38</td>\n",
       "    </tr>\n",
       "    <tr>\n",
       "      <th>1</th>\n",
       "      <td>7022.76</td>\n",
       "      <td>298.89</td>\n",
       "      <td>55.17</td>\n",
       "      <td>102.92</td>\n",
       "      <td>0.205990</td>\n",
       "      <td>0.186642</td>\n",
       "      <td>275.68</td>\n",
       "    </tr>\n",
       "    <tr>\n",
       "      <th>2</th>\n",
       "      <td>7407.41</td>\n",
       "      <td>296.26</td>\n",
       "      <td>54.75</td>\n",
       "      <td>86.35</td>\n",
       "      <td>0.202055</td>\n",
       "      <td>0.180309</td>\n",
       "      <td>273.17</td>\n",
       "    </tr>\n",
       "    <tr>\n",
       "      <th>3</th>\n",
       "      <td>7379.95</td>\n",
       "      <td>300.47</td>\n",
       "      <td>55.04</td>\n",
       "      <td>87.30</td>\n",
       "      <td>0.203750</td>\n",
       "      <td>0.170845</td>\n",
       "      <td>274.68</td>\n",
       "    </tr>\n",
       "    <tr>\n",
       "      <th>4</th>\n",
       "      <td>7207.76</td>\n",
       "      <td>305.71</td>\n",
       "      <td>56.18</td>\n",
       "      <td>87.99</td>\n",
       "      <td>0.208133</td>\n",
       "      <td>0.171728</td>\n",
       "      <td>278.59</td>\n",
       "    </tr>\n",
       "  </tbody>\n",
       "</table>\n",
       "</div>"
      ],
      "text/plain": [
       "   bitcoin  ethereum  litecoin  monero    ripple       nem    dash\n",
       "0  7144.38    294.66     61.30   99.76  0.210354  0.180246  293.38\n",
       "1  7022.76    298.89     55.17  102.92  0.205990  0.186642  275.68\n",
       "2  7407.41    296.26     54.75   86.35  0.202055  0.180309  273.17\n",
       "3  7379.95    300.47     55.04   87.30  0.203750  0.170845  274.68\n",
       "4  7207.76    305.71     56.18   87.99  0.208133  0.171728  278.59"
      ]
     },
     "execution_count": 48,
     "metadata": {},
     "output_type": "execute_result"
    }
   ],
   "source": [
    "small_df = pd.concat([bitcoin_s[\"Close\"], ethereum_s[\"Close\"],litecoin_s[\"Close\"],monero_s[\"Close\"],ripple_s[\"Close\"],nem_s[\"Close\"],dash_s[\"Close\"]], axis=1)\n",
    "small_df.columns = [\"bitcoin\",\"ethereum\",\"litecoin\",\"monero\",\"ripple\",\"nem\",\"dash\"]\n",
    "small_df.head()"
   ]
  },
  {
   "cell_type": "code",
   "execution_count": 49,
   "metadata": {
    "collapsed": false
   },
   "outputs": [
    {
     "data": {
      "text/plain": [
       "(738, 7)"
      ]
     },
     "execution_count": 49,
     "metadata": {},
     "output_type": "execute_result"
    }
   ],
   "source": [
    "small_df.shape"
   ]
  },
  {
   "cell_type": "code",
   "execution_count": 50,
   "metadata": {
    "collapsed": false
   },
   "outputs": [
    {
     "data": {
      "text/plain": [
       "([<matplotlib.axis.YTick at 0x11047b470>,\n",
       "  <matplotlib.axis.YTick at 0x11047b940>,\n",
       "  <matplotlib.axis.YTick at 0x110521a90>,\n",
       "  <matplotlib.axis.YTick at 0x1104d6208>,\n",
       "  <matplotlib.axis.YTick at 0x1104cc1d0>,\n",
       "  <matplotlib.axis.YTick at 0x1104c4898>,\n",
       "  <matplotlib.axis.YTick at 0x1104c14e0>],\n",
       " <a list of 7 Text yticklabel objects>)"
      ]
     },
     "execution_count": 50,
     "metadata": {},
     "output_type": "execute_result"
    },
    {
     "data": {
      "image/png": "[encoded data removed]",
      "text/plain": [
       "<matplotlib.figure.Figure at 0x110456e80>"
      ]
     },
     "metadata": {},
     "output_type": "display_data"
    }
   ],
   "source": [
    "m = small_df.mean(axis=0)\n",
    "s = small_df.std(ddof=1, axis=0)\n",
    " \n",
    "# normalised time-series as an input for PCA\n",
    "dfPort = (small_df - m)/s\n",
    " \n",
    "c = np.cov(dfPort.values.T)     # covariance matrix\n",
    "co = np.corrcoef(small_df.values.T)  # correlation matrix\n",
    " \n",
    "tickers = list(small_df.columns)\n",
    " \n",
    "plt.figure(figsize=(8,8))\n",
    "plt.imshow(co, cmap=\"RdGy\", interpolation=\"nearest\")\n",
    "cb = plt.colorbar()\n",
    "cb.set_label(\"Correlation Matrix Coefficients\")\n",
    "plt.title(\"Correlation Matrix\", fontsize=14)\n",
    "plt.xticks(np.arange(len(tickers)), tickers, rotation=90)\n",
    "plt.yticks(np.arange(len(tickers)), tickers)"
   ]
  },
  {
   "cell_type": "code",
   "execution_count": 51,
   "metadata": {
    "collapsed": false
   },
   "outputs": [
    {
     "data": {
      "image/png": "[encoded data removed]",
      "text/plain": [
       "<matplotlib.figure.Figure at 0x110456780>"
      ]
     },
     "metadata": {},
     "output_type": "display_data"
    }
   ],
   "source": [
    "# perform PCA\n",
    "w, v = np.linalg.eig(c)  \n",
    " \n",
    "ax = plt.figure(figsize=(8,8)).gca()\n",
    "plt.imshow(v, cmap=\"bwr\", interpolation=\"nearest\")\n",
    "cb = plt.colorbar()\n",
    "plt.yticks(np.arange(len(tickers)), tickers)\n",
    "plt.xlabel(\"PC Number\")\n",
    "plt.title(\"PCA\", fontsize=14)\n",
    "# force x-tickers to be displayed as integers (not floats)\n",
    "ax.xaxis.set_major_locator(MaxNLocator(integer=True))"
   ]
  },
  {
   "cell_type": "markdown",
   "metadata": {},
   "source": [
    "construct the bi-plot of relative weights of each cryptocurrency in the last two PC components (PC-5 and PC-6) arising from a PCA on a covariance matrix"
   ]
  },
  {
   "cell_type": "code",
   "execution_count": 56,
   "metadata": {
    "collapsed": false
   },
   "outputs": [
    {
     "data": {
      "text/plain": [
       "7"
      ]
     },
     "execution_count": 56,
     "metadata": {},
     "output_type": "execute_result"
    }
   ],
   "source": [
    "v.shape[0]"
   ]
  },
  {
   "cell_type": "code",
   "execution_count": 53,
   "metadata": {
    "collapsed": false
   },
   "outputs": [
    {
     "data": {
      "image/png": "[encoded data removed]",
      "text/plain": [
       "<matplotlib.figure.Figure at 0x110e2d0b8>"
      ]
     },
     "metadata": {},
     "output_type": "display_data"
    }
   ],
   "source": [
    "# choose PC-k numbers\n",
    "k1 = -1  # the last PC column in 'v' PCA matrix\n",
    "k2 = -2  # the second last PC column\n",
    " \n",
    "# begin constructing bi-plot for PC(k1) and PC(k2)\n",
    "# loadings\n",
    "plt.figure(figsize=(7,7))\n",
    "plt.grid()\n",
    " \n",
    "# compute the distance from (0,0) point\n",
    "dist = []\n",
    "for i in range(v.shape[0]):\n",
    "    x = v[i,k1]\n",
    "    y = v[i,k2]\n",
    "    plt.plot(x, y, '.k')\n",
    "    plt.plot([0,x], [0,y], '-', color=\"r\")\n",
    "    d = np.sqrt(x**2 + y**2)\n",
    "    dist.append(d)"
   ]
  },
  {
   "cell_type": "markdown",
   "metadata": {},
   "source": [
    "Having that, we need to identify those cryptocurrencies of the greatest loading. By the threshold I adopt the mean value of derived distances plus one standard deviation. Next, I check the membership of each coin to quarter number 1, 2, 3 or 4 saving that as tuples in a list of quar. Finally, I accomplish the task by finalising the plotting of a bi-plot by adding x and y labels, respectively:"
   ]
  },
  {
   "cell_type": "code",
   "execution_count": 65,
   "metadata": {
    "collapsed": false
   },
   "outputs": [
    {
     "data": {
      "text/plain": [
       "<matplotlib.text.Text at 0x113647a20>"
      ]
     },
     "execution_count": 65,
     "metadata": {},
     "output_type": "execute_result"
    },
    {
     "data": {
      "image/png": "[encoded data removed]",
      "text/plain": [
       "<matplotlib.figure.Figure at 0x11354a240>"
      ]
     },
     "metadata": {},
     "output_type": "display_data"
    }
   ],
   "source": [
    "# check and save membership of a coin to\n",
    "# a quarter number 1, 2, 3 or 4 on the plane\n",
    "quar = []\n",
    "plt.figure(figsize=(7,7))\n",
    "\n",
    "for i in range(v.shape[0]):\n",
    "    x = v[i,k1]\n",
    "    y = v[i,k2]\n",
    "    #plt.plot(x, y, '.k')\n",
    "    #plt.plot([0,x], [0,y], '-', color=\"r\")\n",
    "    \n",
    "    d = np.sqrt(x**2 + y**2)\n",
    "    if(d > np.mean(dist)):\n",
    "    #if(d > np.mean(dist) + np.std(dist, ddof=1)):\n",
    "        plt.plot(x, y, '.r', markersize=10)\n",
    "        plt.plot([0,x], [0,y], '-', color=\"r\")\n",
    "        if((x > 0) and (y > 0)):\n",
    "            quar.append((i, 1))\n",
    "        elif((x < 0) and (y > 0)):\n",
    "            quar.append((i, 2))\n",
    "        elif((x < 0) and (y < 0)):\n",
    "            quar.append((i, 3))\n",
    "        elif((x > 0) and (y < 0)):\n",
    "            quar.append((i, 4))\n",
    "        plt.text(x, y, tickers[i], color='g')\n",
    " \n",
    "plt.xlabel(\"PC-\" + str(len(tickers)+k1+1))\n",
    "plt.ylabel(\"PC-\" + str(len(tickers)+k2+1))"
   ]
  },
  {
   "cell_type": "markdown",
   "metadata": {},
   "source": [
    "Those coins of “above the threshold” loading placed in quarter 1 might be highly correlated with those found in quarter 3. The same applied to quarter 2 vs quarter 4.\n",
    "\n",
    "we examine linear correlations for such pair of coins (cryptocurrency time-series) making use of two distinct tools, namely, one-factor linear regression (hence its $R^2$ metric) and Kendall’s rank correlation metric of τ."
   ]
  },
  {
   "cell_type": "code",
   "execution_count": 66,
   "metadata": {
    "collapsed": false
   },
   "outputs": [
    {
     "data": {
      "text/plain": [
       "[(1, 1), (2, 3), (5, 2)]"
      ]
     },
     "execution_count": 66,
     "metadata": {},
     "output_type": "execute_result"
    }
   ],
   "source": [
    "quar"
   ]
  },
  {
   "cell_type": "code",
   "execution_count": 68,
   "metadata": {
    "collapsed": false
   },
   "outputs": [
    {
     "name": "stdout",
     "output_type": "stream",
     "text": [
      "ethereum litecoin\n",
      "0.96113646272 0.0\n",
      "0.657141480624 1.66594281969e-156\n"
     ]
    },
    {
     "data": {
      "image/png": "[encoded data removed]",
      "text/plain": [
       "<matplotlib.figure.Figure at 0x1138a9d68>"
      ]
     },
     "metadata": {},
     "output_type": "display_data"
    },
    {
     "name": "stdout",
     "output_type": "stream",
     "text": [
      "ethereum nem\n",
      "0.963346233336 0.0\n",
      "0.755935547802 2.84076249129e-207\n"
     ]
    },
    {
     "data": {
      "image/png": "[encoded data removed]",
      "text/plain": [
       "<matplotlib.figure.Figure at 0x113aaf6d8>"
      ]
     },
     "metadata": {},
     "output_type": "display_data"
    },
    {
     "name": "stdout",
     "output_type": "stream",
     "text": [
      "nem litecoin\n",
      "0.951237779469 0.0\n",
      "0.66049989118 4.08683184678e-158\n"
     ]
    },
    {
     "data": {
      "image/png": "[encoded data removed]",
      "text/plain": [
       "<matplotlib.figure.Figure at 0x113b86cf8>"
      ]
     },
     "metadata": {},
     "output_type": "display_data"
    }
   ],
   "source": [
    "import scipy.stats as stats\n",
    "for i in range(len(quar)):\n",
    "    # Q1 vs Q3\n",
    "    if(quar[i][1] == 1):\n",
    "        for j in range(len(quar)):\n",
    "            if(quar[j][1] == 3):\n",
    "                plt.figure(figsize=(7,4))\n",
    " \n",
    "                # highly correlated coins according to the PC analysis\n",
    "                print(tickers[quar[i][0]], tickers[quar[j][0]])\n",
    " \n",
    "                ts1 = small_df[tickers[quar[i][0]]]  # time-series\n",
    "                ts2 = small_df[tickers[quar[j][0]]]\n",
    " \n",
    "                # correlation metrics and their p_values\n",
    "                slope, intercept, r2, pvalue, _ = stats.linregress(ts1, ts2)\n",
    "                ktau, kpvalue = stats.kendalltau(ts1, ts2)\n",
    "                print(r2, pvalue)\n",
    "                print(ktau, kpvalue)\n",
    " \n",
    "                plt.plot(ts1, ts2, '.k')\n",
    "                xline = np.linspace(np.min(ts1), np.max(ts1), 100)\n",
    "                yline = slope*xline + intercept\n",
    "                plt.plot(xline, yline,'--', color='b')  # linear model fit\n",
    "                plt.xlabel(tickers[quar[i][0]])\n",
    "                plt.ylabel(tickers[quar[j][0]])\n",
    "                plt.show()\n",
    "                \n",
    "    # Q2 vs Q4 - NOT USEFUL HERE\n",
    "    if(quar[i][1] == 1):\n",
    "        for j in range(len(quar)):\n",
    "            if(quar[j][1] == 2):\n",
    "                plt.figure(figsize=(7,4))\n",
    "                print(tickers[quar[i][0]], tickers[quar[j][0]])\n",
    "                ts1 = small_df[tickers[quar[i][0]]]\n",
    "                ts2 = small_df[tickers[quar[j][0]]]\n",
    "                slope, intercept, r2, pvalue, _ = stats.linregress(ts1, ts2)\n",
    "                ktau, kpvalue = stats.kendalltau(ts1, ts2)\n",
    "                print(r2, pvalue)\n",
    "                print(ktau, kpvalue)\n",
    "                plt.plot(ts1, ts2, '.k')\n",
    "                xline = np.linspace(np.min(ts1), np.max(ts1), 100)\n",
    "                yline = slope*xline + intercept\n",
    "                plt.plot(xline, yline,'--', color='b')\n",
    "                plt.xlabel(tickers[quar[i][0]])\n",
    "                plt.ylabel(tickers[quar[j][0]])\n",
    "                plt.show()\n",
    "\n",
    "    if(quar[i][1] == 2):\n",
    "        for j in range(len(quar)):\n",
    "            if(quar[j][1] == 3):\n",
    "                plt.figure(figsize=(7,4))\n",
    "                print(tickers[quar[i][0]], tickers[quar[j][0]])\n",
    "                ts1 = small_df[tickers[quar[i][0]]]\n",
    "                ts2 = small_df[tickers[quar[j][0]]]\n",
    "                slope, intercept, r2, pvalue, _ = stats.linregress(ts1, ts2)\n",
    "                ktau, kpvalue = stats.kendalltau(ts1, ts2)\n",
    "                print(r2, pvalue)\n",
    "                print(ktau, kpvalue)\n",
    "                plt.plot(ts1, ts2, '.k')\n",
    "                xline = np.linspace(np.min(ts1), np.max(ts1), 100)\n",
    "                yline = slope*xline + intercept\n",
    "                plt.plot(xline, yline,'--', color='b')\n",
    "                plt.xlabel(tickers[quar[i][0]])\n",
    "                plt.ylabel(tickers[quar[j][0]])\n",
    "                plt.show()"
   ]
  },
  {
   "cell_type": "markdown",
   "metadata": {},
   "source": [
    "Those plots represent correlated close prices for identified “highly correlated” cryptocurrencies. As we can see, a high degree in linear relationship is confirmed by $R^2 ⪆ 0.9 at τ ⪆ 0.65$ for all of them. \n",
    "\n",
    "The correlation matrix reveals a number of coefficient pointing at strong linear correlation and anti-correlation. Therefore, how a PCA method influences “the same” results? This is due to the mathematical aspect of orthogonality that is being applied within a PCA itself. Namely, every single PC appears to be linked to different latent factor. As mentioned by Yang, Rea, & Rea (2015), so far, the majority of attention has been focused on first two or three PCA principal components (i.e. PC-1, PC-2, PC-3). The appealing interpretation has been connected to a common factor responsible for general market variability (PC-1) or some other synchronised fluctuations (PC-2, PC-3)."
   ]
  },
  {
   "cell_type": "code",
   "execution_count": null,
   "metadata": {
    "collapsed": true
   },
   "outputs": [],
   "source": []
  },
  {
   "cell_type": "code",
   "execution_count": null,
   "metadata": {
    "collapsed": true
   },
   "outputs": [],
   "source": []
  },
  {
   "cell_type": "code",
   "execution_count": null,
   "metadata": {
    "collapsed": true
   },
   "outputs": [],
   "source": []
  },
  {
   "cell_type": "code",
   "execution_count": null,
   "metadata": {
    "collapsed": true
   },
   "outputs": [],
   "source": []
  },
  {
   "cell_type": "code",
   "execution_count": null,
   "metadata": {
    "collapsed": true
   },
   "outputs": [],
   "source": []
  },
  {
   "cell_type": "code",
   "execution_count": null,
   "metadata": {
    "collapsed": true
   },
   "outputs": [],
   "source": []
  }
 ],
 "metadata": {
  "anaconda-cloud": {},
  "kernelspec": {
   "display_name": "Python [py35]",
   "language": "python",
   "name": "Python [py35]"
  },
  "language_info": {
   "codemirror_mode": {
    "name": "ipython",
    "version": 3
   },
   "file_extension": ".py",
   "mimetype": "text/x-python",
   "name": "python",
   "nbconvert_exporter": "python",
   "pygments_lexer": "ipython3",
   "version": "3.5.2"
  }
 },
 "nbformat": 4,
 "nbformat_minor": 0
}

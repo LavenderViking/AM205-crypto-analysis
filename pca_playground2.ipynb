{
 "cells": [
  {
   "cell_type": "code",
   "execution_count": 42,
   "metadata": {
    "collapsed": true
   },
   "outputs": [],
   "source": [
    "import matplotlib as mpl\n",
    "import matplotlib.pyplot as plt\n",
    "import seaborn as sns\n",
    "import numpy as np\n",
    "import pandas as pd\n",
    "from sklearn.decomposition import PCA\n",
    "import sklearn.preprocessing as preprocessing\n",
    "from IPython.display import display\n",
    "import matplotlib.pyplot as plt \n",
    "from matplotlib.ticker import MaxNLocator\n",
    "from datetime import datetime\n",
    "np.set_printoptions(precision=3, suppress=True)\n",
    "pd.set_option('display.precision', 3)\n",
    "sns.set_style('darkgrid')\n",
    "#sns.set_context('poster')\n",
    "%matplotlib inline\n",
    "\n",
    "CRYPTO_FILES = [('ripple_price', 'rip'), ('bitcoin_price', 'btc'),\n",
    "                ('ethereum_price', 'eth'), ('litecoin_price', 'ltc'),\n",
    "                ('monero_price', 'mon'), ('nem_price', 'nem'),\n",
    "                ('dash_price', 'dash')]"
   ]
  },
  {
   "cell_type": "code",
   "execution_count": 2,
   "metadata": {
    "collapsed": true
   },
   "outputs": [],
   "source": [
    "def load_returns_matrix (files, tdelta=pd.Timedelta(days=30), center=True, \n",
    "                         scale=True):\n",
    "    \"\"\"Returns cryptocurrency rolling returns in three formats.\n",
    "    \n",
    "    Args:\n",
    "        files (list of tuples): (asset name, file path) tuples. Asset name \n",
    "            used in column headers for DF.\n",
    "        \n",
    "    Returns:\n",
    "        dfout (DataFrame): Returns without centering/scaling.\n",
    "        dfout_adj (DataFrame): Returns with centering/scaling (depending \n",
    "            on input vals for center and scale).\n",
    "        xout (np.matrix): Returns matrix with centering/scaling (depending \n",
    "            on args), i.e., without index or column names.\n",
    "    \"\"\"\n",
    "    dfs = []\n",
    "    for file, name in files:\n",
    "        path = 'cryptocurrencypricehistory//{}.csv'.format(file)\n",
    "        df = pd.read_csv(path, usecols=['Date', 'Close'])\n",
    "        df['Date'] = pd.to_datetime(df['Date'])\n",
    "        df = df[['Date', 'Close']]\n",
    "        df.set_index('Date', drop=True, inplace=True)\n",
    "        df.rename(columns={'Close':name}, inplace=True)\n",
    "        dfs.append(df)\n",
    "    dfout = pd.concat(dfs, axis=1, join='inner')\n",
    "    dfout = dfout.pct_change(periods=1, freq=tdelta)\n",
    "    dfout.dropna(axis=0, how='any', inplace=True)\n",
    "    xout = preprocessing.scale(dfout, axis=0, with_mean=center, with_std=scale)\n",
    "    dfout_adj = pd.DataFrame(xout, columns=dfout.columns, index=dfout.index)\n",
    "    return dfout, dfout_adj, np.matrix(xout)\n",
    "\n",
    "\n",
    "def create_proportion_of_variation_df (eigvals):\n",
    "    total_var = sum(eigvals)\n",
    "    cols = ['component', 'eigenvalue', 'proportion', 'cumulative']\n",
    "    df = pd.DataFrame(columns=cols)\n",
    "    cum = 0\n",
    "    for i, e in enumerate(eigvals):\n",
    "        cum += e\n",
    "        row = {'component':i + 1,\n",
    "               'eigenvalue':e,\n",
    "               'proportion':e/total_var,\n",
    "               'cumulative':cum/total_var}\n",
    "        df = df.append(row, ignore_index=True)\n",
    "    df['component'] = df['component'].astype(int)\n",
    "    df.set_index('component', drop=True, inplace=True)\n",
    "    return df\n",
    "\n",
    "\n",
    "def create_eigvec_df (eigvecs):\n",
    "    \"\"\"Create DataFrame of eigenvectors.\"\"\"\n",
    "    idx = [i + 1 for i in range(len(eigvecs))]\n",
    "    df = pd.DataFrame(index=idx)\n",
    "    for i, v in enumerate(eigvecs):\n",
    "        df['V{}'.format(i + 1)] = v\n",
    "    return df"
   ]
  },
  {
   "cell_type": "code",
   "execution_count": 3,
   "metadata": {
    "collapsed": false,
    "scrolled": true
   },
   "outputs": [
    {
     "name": "stdout",
     "output_type": "stream",
     "text": [
      "Number of returns in data: 794\n"
     ]
    },
    {
     "data": {
      "text/html": [
       "<div>\n",
       "<table border=\"1\" class=\"dataframe\">\n",
       "  <thead>\n",
       "    <tr style=\"text-align: right;\">\n",
       "      <th></th>\n",
       "      <th>rip</th>\n",
       "      <th>btc</th>\n",
       "      <th>eth</th>\n",
       "      <th>ltc</th>\n",
       "      <th>mon</th>\n",
       "      <th>nem</th>\n",
       "      <th>dash</th>\n",
       "    </tr>\n",
       "    <tr>\n",
       "      <th>Date</th>\n",
       "      <th></th>\n",
       "      <th></th>\n",
       "      <th></th>\n",
       "      <th></th>\n",
       "      <th></th>\n",
       "      <th></th>\n",
       "      <th></th>\n",
       "    </tr>\n",
       "  </thead>\n",
       "  <tbody>\n",
       "    <tr>\n",
       "      <th>2015-09-06</th>\n",
       "      <td>-0.291</td>\n",
       "      <td>-1.261</td>\n",
       "      <td>-1.125</td>\n",
       "      <td>-0.946</td>\n",
       "      <td>-0.783</td>\n",
       "      <td>-0.776</td>\n",
       "      <td>-0.828</td>\n",
       "    </tr>\n",
       "    <tr>\n",
       "      <th>2015-09-07</th>\n",
       "      <td>-0.314</td>\n",
       "      <td>-0.998</td>\n",
       "      <td>0.299</td>\n",
       "      <td>-0.803</td>\n",
       "      <td>-0.717</td>\n",
       "      <td>-0.739</td>\n",
       "      <td>-0.814</td>\n",
       "    </tr>\n",
       "    <tr>\n",
       "      <th>2015-09-08</th>\n",
       "      <td>-0.345</td>\n",
       "      <td>-0.998</td>\n",
       "      <td>0.427</td>\n",
       "      <td>-0.825</td>\n",
       "      <td>-0.684</td>\n",
       "      <td>-0.693</td>\n",
       "      <td>-0.852</td>\n",
       "    </tr>\n",
       "    <tr>\n",
       "      <th>2015-09-09</th>\n",
       "      <td>-0.353</td>\n",
       "      <td>-1.077</td>\n",
       "      <td>0.357</td>\n",
       "      <td>-0.915</td>\n",
       "      <td>-0.680</td>\n",
       "      <td>-0.772</td>\n",
       "      <td>-0.782</td>\n",
       "    </tr>\n",
       "    <tr>\n",
       "      <th>2015-09-10</th>\n",
       "      <td>-0.343</td>\n",
       "      <td>-1.157</td>\n",
       "      <td>-0.378</td>\n",
       "      <td>-0.979</td>\n",
       "      <td>-0.619</td>\n",
       "      <td>-0.766</td>\n",
       "      <td>-0.845</td>\n",
       "    </tr>\n",
       "  </tbody>\n",
       "</table>\n",
       "</div>"
      ],
      "text/plain": [
       "              rip    btc    eth    ltc    mon    nem   dash\n",
       "Date                                                       \n",
       "2015-09-06 -0.291 -1.261 -1.125 -0.946 -0.783 -0.776 -0.828\n",
       "2015-09-07 -0.314 -0.998  0.299 -0.803 -0.717 -0.739 -0.814\n",
       "2015-09-08 -0.345 -0.998  0.427 -0.825 -0.684 -0.693 -0.852\n",
       "2015-09-09 -0.353 -1.077  0.357 -0.915 -0.680 -0.772 -0.782\n",
       "2015-09-10 -0.343 -1.157 -0.378 -0.979 -0.619 -0.766 -0.845"
      ]
     },
     "execution_count": 3,
     "metadata": {},
     "output_type": "execute_result"
    }
   ],
   "source": [
    "# Init data and obtain covariance matrix.\n",
    "df_returns_unadj, df_returns, X = load_returns_matrix(CRYPTO_FILES,\n",
    "                                                      center=True, scale=True)\n",
    "n, p = X.shape\n",
    "C = np.cov(X, rowvar=False)  # covariance matrix\n",
    "assert n == len(df_returns.index)\n",
    "print('Number of returns in data: {}'.format(n))\n",
    "df_returns.head()"
   ]
  },
  {
   "cell_type": "code",
   "execution_count": 7,
   "metadata": {
    "collapsed": false
   },
   "outputs": [
    {
     "data": {
      "text/html": [
       "<div>\n",
       "<table border=\"1\" class=\"dataframe\">\n",
       "  <thead>\n",
       "    <tr style=\"text-align: right;\">\n",
       "      <th></th>\n",
       "      <th>rip</th>\n",
       "      <th>btc</th>\n",
       "      <th>eth</th>\n",
       "      <th>ltc</th>\n",
       "      <th>mon</th>\n",
       "      <th>nem</th>\n",
       "      <th>dash</th>\n",
       "    </tr>\n",
       "    <tr>\n",
       "      <th>Date</th>\n",
       "      <th></th>\n",
       "      <th></th>\n",
       "      <th></th>\n",
       "      <th></th>\n",
       "      <th></th>\n",
       "      <th></th>\n",
       "      <th></th>\n",
       "    </tr>\n",
       "  </thead>\n",
       "  <tbody>\n",
       "    <tr>\n",
       "      <th>2015-09-06</th>\n",
       "      <td>-0.291</td>\n",
       "      <td>-1.261</td>\n",
       "      <td>-1.125</td>\n",
       "      <td>-0.946</td>\n",
       "      <td>-0.783</td>\n",
       "      <td>-0.776</td>\n",
       "      <td>-0.828</td>\n",
       "    </tr>\n",
       "    <tr>\n",
       "      <th>2015-09-07</th>\n",
       "      <td>-0.314</td>\n",
       "      <td>-0.998</td>\n",
       "      <td>0.299</td>\n",
       "      <td>-0.803</td>\n",
       "      <td>-0.717</td>\n",
       "      <td>-0.739</td>\n",
       "      <td>-0.814</td>\n",
       "    </tr>\n",
       "    <tr>\n",
       "      <th>2015-09-08</th>\n",
       "      <td>-0.345</td>\n",
       "      <td>-0.998</td>\n",
       "      <td>0.427</td>\n",
       "      <td>-0.825</td>\n",
       "      <td>-0.684</td>\n",
       "      <td>-0.693</td>\n",
       "      <td>-0.852</td>\n",
       "    </tr>\n",
       "    <tr>\n",
       "      <th>2015-09-09</th>\n",
       "      <td>-0.353</td>\n",
       "      <td>-1.077</td>\n",
       "      <td>0.357</td>\n",
       "      <td>-0.915</td>\n",
       "      <td>-0.680</td>\n",
       "      <td>-0.772</td>\n",
       "      <td>-0.782</td>\n",
       "    </tr>\n",
       "    <tr>\n",
       "      <th>2015-09-10</th>\n",
       "      <td>-0.343</td>\n",
       "      <td>-1.157</td>\n",
       "      <td>-0.378</td>\n",
       "      <td>-0.979</td>\n",
       "      <td>-0.619</td>\n",
       "      <td>-0.766</td>\n",
       "      <td>-0.845</td>\n",
       "    </tr>\n",
       "  </tbody>\n",
       "</table>\n",
       "</div>"
      ],
      "text/plain": [
       "              rip    btc    eth    ltc    mon    nem   dash\n",
       "Date                                                       \n",
       "2015-09-06 -0.291 -1.261 -1.125 -0.946 -0.783 -0.776 -0.828\n",
       "2015-09-07 -0.314 -0.998  0.299 -0.803 -0.717 -0.739 -0.814\n",
       "2015-09-08 -0.345 -0.998  0.427 -0.825 -0.684 -0.693 -0.852\n",
       "2015-09-09 -0.353 -1.077  0.357 -0.915 -0.680 -0.772 -0.782\n",
       "2015-09-10 -0.343 -1.157 -0.378 -0.979 -0.619 -0.766 -0.845"
      ]
     },
     "execution_count": 7,
     "metadata": {},
     "output_type": "execute_result"
    }
   ],
   "source": [
    "df_returns.head()"
   ]
  },
  {
   "cell_type": "code",
   "execution_count": 8,
   "metadata": {
    "collapsed": false
   },
   "outputs": [
    {
     "data": {
      "text/plain": [
       "(794, 7)"
      ]
     },
     "execution_count": 8,
     "metadata": {},
     "output_type": "execute_result"
    }
   ],
   "source": [
    "X.shape"
   ]
  },
  {
   "cell_type": "markdown",
   "metadata": {},
   "source": [
    "### Basic features of unstandardized price return data"
   ]
  },
  {
   "cell_type": "code",
   "execution_count": 4,
   "metadata": {
    "collapsed": false
   },
   "outputs": [
    {
     "name": "stdout",
     "output_type": "stream",
     "text": [
      "Price return statistics without centering/scaling:\n",
      "Mean returns:\n"
     ]
    },
    {
     "data": {
      "text/plain": [
       "rip     0.395\n",
       "btc     0.150\n",
       "eth     0.410\n",
       "ltc     0.173\n",
       "mon     0.364\n",
       "nem     0.585\n",
       "dash    0.277\n",
       "dtype: float64"
      ]
     },
     "metadata": {},
     "output_type": "display_data"
    },
    {
     "name": "stdout",
     "output_type": "stream",
     "text": [
      "S.D. of returns:\n"
     ]
    },
    {
     "data": {
      "text/plain": [
       "rip     1.468\n",
       "btc     0.232\n",
       "eth     0.836\n",
       "ltc     0.475\n",
       "mon     0.873\n",
       "nem     1.190\n",
       "dash    0.620\n",
       "dtype: float64"
      ]
     },
     "metadata": {},
     "output_type": "display_data"
    },
    {
     "name": "stdout",
     "output_type": "stream",
     "text": [
      "Cumulative return:\n"
     ]
    },
    {
     "data": {
      "text/plain": [
       "rip     1.841e+43\n",
       "btc     8.094e+41\n",
       "eth     2.544e+71\n",
       "ltc     7.702e+36\n",
       "mon     3.682e+66\n",
       "nem     1.561e+98\n",
       "dash    3.883e+60\n",
       "dtype: float64"
      ]
     },
     "metadata": {},
     "output_type": "display_data"
    },
    {
     "name": "stdout",
     "output_type": "stream",
     "text": [
      "Correlation:\n"
     ]
    },
    {
     "data": {
      "text/html": [
       "<div>\n",
       "<table border=\"1\" class=\"dataframe\">\n",
       "  <thead>\n",
       "    <tr style=\"text-align: right;\">\n",
       "      <th></th>\n",
       "      <th>rip</th>\n",
       "      <th>btc</th>\n",
       "      <th>eth</th>\n",
       "      <th>ltc</th>\n",
       "      <th>mon</th>\n",
       "      <th>nem</th>\n",
       "      <th>dash</th>\n",
       "    </tr>\n",
       "  </thead>\n",
       "  <tbody>\n",
       "    <tr>\n",
       "      <th>rip</th>\n",
       "      <td>1.000</td>\n",
       "      <td>0.305</td>\n",
       "      <td>0.325</td>\n",
       "      <td>0.694</td>\n",
       "      <td>0.066</td>\n",
       "      <td>0.630</td>\n",
       "      <td>0.037</td>\n",
       "    </tr>\n",
       "    <tr>\n",
       "      <th>btc</th>\n",
       "      <td>0.305</td>\n",
       "      <td>1.000</td>\n",
       "      <td>0.164</td>\n",
       "      <td>0.322</td>\n",
       "      <td>0.102</td>\n",
       "      <td>0.349</td>\n",
       "      <td>0.031</td>\n",
       "    </tr>\n",
       "    <tr>\n",
       "      <th>eth</th>\n",
       "      <td>0.325</td>\n",
       "      <td>0.164</td>\n",
       "      <td>1.000</td>\n",
       "      <td>0.192</td>\n",
       "      <td>0.171</td>\n",
       "      <td>0.361</td>\n",
       "      <td>0.470</td>\n",
       "    </tr>\n",
       "    <tr>\n",
       "      <th>ltc</th>\n",
       "      <td>0.694</td>\n",
       "      <td>0.322</td>\n",
       "      <td>0.192</td>\n",
       "      <td>1.000</td>\n",
       "      <td>0.044</td>\n",
       "      <td>0.428</td>\n",
       "      <td>0.018</td>\n",
       "    </tr>\n",
       "    <tr>\n",
       "      <th>mon</th>\n",
       "      <td>0.066</td>\n",
       "      <td>0.102</td>\n",
       "      <td>0.171</td>\n",
       "      <td>0.044</td>\n",
       "      <td>1.000</td>\n",
       "      <td>0.114</td>\n",
       "      <td>0.128</td>\n",
       "    </tr>\n",
       "    <tr>\n",
       "      <th>nem</th>\n",
       "      <td>0.630</td>\n",
       "      <td>0.349</td>\n",
       "      <td>0.361</td>\n",
       "      <td>0.428</td>\n",
       "      <td>0.114</td>\n",
       "      <td>1.000</td>\n",
       "      <td>0.133</td>\n",
       "    </tr>\n",
       "    <tr>\n",
       "      <th>dash</th>\n",
       "      <td>0.037</td>\n",
       "      <td>0.031</td>\n",
       "      <td>0.470</td>\n",
       "      <td>0.018</td>\n",
       "      <td>0.128</td>\n",
       "      <td>0.133</td>\n",
       "      <td>1.000</td>\n",
       "    </tr>\n",
       "  </tbody>\n",
       "</table>\n",
       "</div>"
      ],
      "text/plain": [
       "        rip    btc    eth    ltc    mon    nem   dash\n",
       "rip   1.000  0.305  0.325  0.694  0.066  0.630  0.037\n",
       "btc   0.305  1.000  0.164  0.322  0.102  0.349  0.031\n",
       "eth   0.325  0.164  1.000  0.192  0.171  0.361  0.470\n",
       "ltc   0.694  0.322  0.192  1.000  0.044  0.428  0.018\n",
       "mon   0.066  0.102  0.171  0.044  1.000  0.114  0.128\n",
       "nem   0.630  0.349  0.361  0.428  0.114  1.000  0.133\n",
       "dash  0.037  0.031  0.470  0.018  0.128  0.133  1.000"
      ]
     },
     "execution_count": 4,
     "metadata": {},
     "output_type": "execute_result"
    }
   ],
   "source": [
    "print('Price return statistics without centering/scaling:')\n",
    "print('Mean returns:')\n",
    "display(df_returns_unadj.mean(axis=0))\n",
    "print('S.D. of returns:')\n",
    "display(df_returns_unadj.std(axis=0))\n",
    "print('Cumulative return:')\n",
    "display((df_returns_unadj + 1).prod(axis=0))\n",
    "print('Correlation:')\n",
    "df_returns.corr()"
   ]
  },
  {
   "cell_type": "code",
   "execution_count": 5,
   "metadata": {
    "collapsed": true
   },
   "outputs": [],
   "source": [
    "# Get SVD breakdown, cast into matrices.\n",
    "U, s, V = np.linalg.svd(X)\n",
    "U = np.matrix(U)  # n x n matrix\n",
    "S = np.zeros((n, p)) \n",
    "S[:p, :p] = np.diag(s)\n",
    "S = np.matrix(S)  # n x p matrix\n",
    "V = np.matrix(V).T  # p x p matrix\n",
    "eigvecs = [np.ravel(V[:,i]) for i in range(p)]\n",
    "\n",
    "# Get eigenvalues through the singular values.\n",
    "eigvals = [(s_**2)/(n - 1) for s_ in s]"
   ]
  },
  {
   "cell_type": "code",
   "execution_count": 6,
   "metadata": {
    "collapsed": false
   },
   "outputs": [
    {
     "name": "stdout",
     "output_type": "stream",
     "text": [
      "Norm[Xreconstr - X] = 0.00\n",
      "Norm[Creconstr - C] = 0.00\n"
     ]
    }
   ],
   "source": [
    "# Reconstruct data matrix X and covariance matrix C using SVD properties.\n",
    "# Check equality by looking at the norm of their difference.\n",
    "Xreconstr = U*S*V.T\n",
    "print('Norm[Xreconstr - X] = {:.2f}'.format(np.linalg.norm(Xreconstr - X)))\n",
    "\n",
    "Creconstr = V*((S.T*S)/(n - 1))*V.T\n",
    "print('Norm[Creconstr - C] = {:.2f}'.format(np.linalg.norm(Creconstr - C)))\n",
    "\n",
    "# Get principal components (n-by-p matrix).\n",
    "XV = X*V"
   ]
  },
  {
   "cell_type": "markdown",
   "metadata": {},
   "source": [
    "**Inner product should be 0 between all eigenvectors and principal components since they are orthogonal. Test this out for the first two eigenvectors and PCs.**"
   ]
  },
  {
   "cell_type": "code",
   "execution_count": 7,
   "metadata": {
    "collapsed": false
   },
   "outputs": [
    {
     "name": "stdout",
     "output_type": "stream",
     "text": [
      "Inner product between 1st and 2nd eigenvectors: 0.00\n",
      "Inner product between 1st and 2nd PCs: 0.00\n"
     ]
    }
   ],
   "source": [
    "pc1, pc2 = np.ravel(XV[:, 0]), np.ravel(XV[:, 1])\n",
    "v1, v2 = np.ravel(V[:, 0]), np.ravel(V[:, 1])\n",
    "print('Inner product between 1st and 2nd eigenvectors: {:.2f}'.format(\n",
    "      np.inner(v1, v2)))\n",
    "print('Inner product between 1st and 2nd PCs: {:.2f}'.format(\n",
    "      np.inner(pc1, pc2)))"
   ]
  },
  {
   "cell_type": "code",
   "execution_count": 8,
   "metadata": {
    "collapsed": true
   },
   "outputs": [],
   "source": [
    "# Create tables for proportion of variation and eigenvectors.\n",
    "df_variation_svd = create_proportion_of_variation_df(eigvals)\n",
    "df_eigvec_svd = create_eigvec_df(eigvecs)"
   ]
  },
  {
   "cell_type": "code",
   "execution_count": 9,
   "metadata": {
    "collapsed": false
   },
   "outputs": [
    {
     "name": "stdout",
     "output_type": "stream",
     "text": [
      "Eigenvectors obtained from SVD\n"
     ]
    },
    {
     "data": {
      "text/html": [
       "<div>\n",
       "<style>\n",
       "    .dataframe thead tr:only-child th {\n",
       "        text-align: right;\n",
       "    }\n",
       "\n",
       "    .dataframe thead th {\n",
       "        text-align: left;\n",
       "    }\n",
       "\n",
       "    .dataframe tbody tr th {\n",
       "        vertical-align: top;\n",
       "    }\n",
       "</style>\n",
       "<table border=\"1\" class=\"dataframe\">\n",
       "  <thead>\n",
       "    <tr style=\"text-align: right;\">\n",
       "      <th></th>\n",
       "      <th>V1</th>\n",
       "      <th>V2</th>\n",
       "      <th>V3</th>\n",
       "      <th>V4</th>\n",
       "      <th>V5</th>\n",
       "      <th>V6</th>\n",
       "      <th>V7</th>\n",
       "    </tr>\n",
       "  </thead>\n",
       "  <tbody>\n",
       "    <tr>\n",
       "      <th>1</th>\n",
       "      <td>0.517</td>\n",
       "      <td>-0.237</td>\n",
       "      <td>0.105</td>\n",
       "      <td>-0.286</td>\n",
       "      <td>0.015</td>\n",
       "      <td>-0.013</td>\n",
       "      <td>-0.764</td>\n",
       "    </tr>\n",
       "    <tr>\n",
       "      <th>2</th>\n",
       "      <td>0.334</td>\n",
       "      <td>-0.150</td>\n",
       "      <td>-0.305</td>\n",
       "      <td>0.867</td>\n",
       "      <td>0.095</td>\n",
       "      <td>-0.064</td>\n",
       "      <td>-0.091</td>\n",
       "    </tr>\n",
       "    <tr>\n",
       "      <th>3</th>\n",
       "      <td>0.358</td>\n",
       "      <td>0.508</td>\n",
       "      <td>0.204</td>\n",
       "      <td>0.007</td>\n",
       "      <td>-0.228</td>\n",
       "      <td>-0.712</td>\n",
       "      <td>0.118</td>\n",
       "    </tr>\n",
       "    <tr>\n",
       "      <th>4</th>\n",
       "      <td>0.455</td>\n",
       "      <td>-0.309</td>\n",
       "      <td>0.065</td>\n",
       "      <td>-0.226</td>\n",
       "      <td>0.611</td>\n",
       "      <td>-0.087</td>\n",
       "      <td>0.511</td>\n",
       "    </tr>\n",
       "    <tr>\n",
       "      <th>5</th>\n",
       "      <td>0.137</td>\n",
       "      <td>0.327</td>\n",
       "      <td>-0.880</td>\n",
       "      <td>-0.311</td>\n",
       "      <td>0.056</td>\n",
       "      <td>0.027</td>\n",
       "      <td>-0.012</td>\n",
       "    </tr>\n",
       "    <tr>\n",
       "      <th>6</th>\n",
       "      <td>0.487</td>\n",
       "      <td>-0.063</td>\n",
       "      <td>0.037</td>\n",
       "      <td>-0.044</td>\n",
       "      <td>-0.640</td>\n",
       "      <td>0.472</td>\n",
       "      <td>0.351</td>\n",
       "    </tr>\n",
       "    <tr>\n",
       "      <th>7</th>\n",
       "      <td>0.174</td>\n",
       "      <td>0.676</td>\n",
       "      <td>0.274</td>\n",
       "      <td>0.130</td>\n",
       "      <td>0.390</td>\n",
       "      <td>0.508</td>\n",
       "      <td>-0.103</td>\n",
       "    </tr>\n",
       "  </tbody>\n",
       "</table>\n",
       "</div>"
      ],
      "text/plain": [
       "      V1     V2     V3     V4     V5     V6     V7\n",
       "1  0.517 -0.237  0.105 -0.286  0.015 -0.013 -0.764\n",
       "2  0.334 -0.150 -0.305  0.867  0.095 -0.064 -0.091\n",
       "3  0.358  0.508  0.204  0.007 -0.228 -0.712  0.118\n",
       "4  0.455 -0.309  0.065 -0.226  0.611 -0.087  0.511\n",
       "5  0.137  0.327 -0.880 -0.311  0.056  0.027 -0.012\n",
       "6  0.487 -0.063  0.037 -0.044 -0.640  0.472  0.351\n",
       "7  0.174  0.676  0.274  0.130  0.390  0.508 -0.103"
      ]
     },
     "execution_count": 9,
     "metadata": {},
     "output_type": "execute_result"
    }
   ],
   "source": [
    "print('Eigenvectors obtained from SVD')\n",
    "df_eigvec_svd"
   ]
  },
  {
   "cell_type": "code",
   "execution_count": 10,
   "metadata": {
    "collapsed": false
   },
   "outputs": [
    {
     "name": "stdout",
     "output_type": "stream",
     "text": [
      "Eigenvectors obtained from sklearn PCA.components_\n"
     ]
    },
    {
     "data": {
      "text/plain": [
       "array([[ 0.517, -0.237, -0.105, -0.286, -0.015,  0.013,  0.764],\n",
       "       [ 0.334, -0.15 ,  0.305,  0.867, -0.095,  0.064,  0.091],\n",
       "       [ 0.358,  0.508, -0.204,  0.007,  0.228,  0.712, -0.118],\n",
       "       [ 0.455, -0.309, -0.065, -0.226, -0.611,  0.087, -0.511],\n",
       "       [ 0.137,  0.327,  0.88 , -0.311, -0.056, -0.027,  0.012],\n",
       "       [ 0.487, -0.063, -0.037, -0.044,  0.64 , -0.472, -0.351],\n",
       "       [ 0.174,  0.676, -0.274,  0.13 , -0.39 , -0.508,  0.103]])"
      ]
     },
     "execution_count": 10,
     "metadata": {},
     "output_type": "execute_result"
    }
   ],
   "source": [
    "# Print eigenvectors obtained using sklearn.\n",
    "pca = PCA().fit(X)\n",
    "sk_comp = pca.components_\n",
    "print('Eigenvectors obtained from sklearn PCA.components_')\n",
    "sk_comp.T"
   ]
  },
  {
   "cell_type": "markdown",
   "metadata": {},
   "source": [
    "### Variation Explained using Both Methods\n",
    "\n",
    "Total variation should be equal to the sum of crypto's variances (7 cryptos * 1 unit variance = 7%)."
   ]
  },
  {
   "cell_type": "code",
   "execution_count": 11,
   "metadata": {
    "collapsed": false
   },
   "outputs": [
    {
     "name": "stdout",
     "output_type": "stream",
     "text": [
      "Variation Explained using Eigenvalues from SVD\n"
     ]
    },
    {
     "data": {
      "text/html": [
       "<div>\n",
       "<style>\n",
       "    .dataframe thead tr:only-child th {\n",
       "        text-align: right;\n",
       "    }\n",
       "\n",
       "    .dataframe thead th {\n",
       "        text-align: left;\n",
       "    }\n",
       "\n",
       "    .dataframe tbody tr th {\n",
       "        vertical-align: top;\n",
       "    }\n",
       "</style>\n",
       "<table border=\"1\" class=\"dataframe\">\n",
       "  <thead>\n",
       "    <tr style=\"text-align: right;\">\n",
       "      <th></th>\n",
       "      <th>eigenvalue</th>\n",
       "      <th>proportion</th>\n",
       "      <th>cumulative</th>\n",
       "    </tr>\n",
       "    <tr>\n",
       "      <th>component</th>\n",
       "      <th></th>\n",
       "      <th></th>\n",
       "      <th></th>\n",
       "    </tr>\n",
       "  </thead>\n",
       "  <tbody>\n",
       "    <tr>\n",
       "      <th>1</th>\n",
       "      <td>2.657</td>\n",
       "      <td>0.379</td>\n",
       "      <td>0.379</td>\n",
       "    </tr>\n",
       "    <tr>\n",
       "      <th>2</th>\n",
       "      <td>1.376</td>\n",
       "      <td>0.196</td>\n",
       "      <td>0.575</td>\n",
       "    </tr>\n",
       "    <tr>\n",
       "      <th>3</th>\n",
       "      <td>0.941</td>\n",
       "      <td>0.134</td>\n",
       "      <td>0.710</td>\n",
       "    </tr>\n",
       "    <tr>\n",
       "      <th>4</th>\n",
       "      <td>0.769</td>\n",
       "      <td>0.110</td>\n",
       "      <td>0.819</td>\n",
       "    </tr>\n",
       "    <tr>\n",
       "      <th>5</th>\n",
       "      <td>0.564</td>\n",
       "      <td>0.080</td>\n",
       "      <td>0.900</td>\n",
       "    </tr>\n",
       "    <tr>\n",
       "      <th>6</th>\n",
       "      <td>0.464</td>\n",
       "      <td>0.066</td>\n",
       "      <td>0.966</td>\n",
       "    </tr>\n",
       "    <tr>\n",
       "      <th>7</th>\n",
       "      <td>0.239</td>\n",
       "      <td>0.034</td>\n",
       "      <td>1.000</td>\n",
       "    </tr>\n",
       "  </tbody>\n",
       "</table>\n",
       "</div>"
      ],
      "text/plain": [
       "           eigenvalue  proportion  cumulative\n",
       "component                                    \n",
       "1               2.657       0.379       0.379\n",
       "2               1.376       0.196       0.575\n",
       "3               0.941       0.134       0.710\n",
       "4               0.769       0.110       0.819\n",
       "5               0.564       0.080       0.900\n",
       "6               0.464       0.066       0.966\n",
       "7               0.239       0.034       1.000"
      ]
     },
     "execution_count": 11,
     "metadata": {},
     "output_type": "execute_result"
    }
   ],
   "source": [
    "print('Variation Explained using Eigenvalues from SVD')\n",
    "df_variation_svd"
   ]
  },
  {
   "cell_type": "code",
   "execution_count": 12,
   "metadata": {
    "collapsed": false
   },
   "outputs": [
    {
     "name": "stdout",
     "output_type": "stream",
     "text": [
      "Variation Explained using sklearn\n"
     ]
    },
    {
     "data": {
      "text/html": [
       "<div>\n",
       "<style>\n",
       "    .dataframe thead tr:only-child th {\n",
       "        text-align: right;\n",
       "    }\n",
       "\n",
       "    .dataframe thead th {\n",
       "        text-align: left;\n",
       "    }\n",
       "\n",
       "    .dataframe tbody tr th {\n",
       "        vertical-align: top;\n",
       "    }\n",
       "</style>\n",
       "<table border=\"1\" class=\"dataframe\">\n",
       "  <thead>\n",
       "    <tr style=\"text-align: right;\">\n",
       "      <th></th>\n",
       "      <th>eigenvalue</th>\n",
       "      <th>proportion</th>\n",
       "    </tr>\n",
       "    <tr>\n",
       "      <th>component</th>\n",
       "      <th></th>\n",
       "      <th></th>\n",
       "    </tr>\n",
       "  </thead>\n",
       "  <tbody>\n",
       "    <tr>\n",
       "      <th>1</th>\n",
       "      <td>2.657</td>\n",
       "      <td>0.379</td>\n",
       "    </tr>\n",
       "    <tr>\n",
       "      <th>2</th>\n",
       "      <td>1.376</td>\n",
       "      <td>0.196</td>\n",
       "    </tr>\n",
       "    <tr>\n",
       "      <th>3</th>\n",
       "      <td>0.941</td>\n",
       "      <td>0.134</td>\n",
       "    </tr>\n",
       "    <tr>\n",
       "      <th>4</th>\n",
       "      <td>0.769</td>\n",
       "      <td>0.110</td>\n",
       "    </tr>\n",
       "    <tr>\n",
       "      <th>5</th>\n",
       "      <td>0.564</td>\n",
       "      <td>0.080</td>\n",
       "    </tr>\n",
       "    <tr>\n",
       "      <th>6</th>\n",
       "      <td>0.464</td>\n",
       "      <td>0.066</td>\n",
       "    </tr>\n",
       "    <tr>\n",
       "      <th>7</th>\n",
       "      <td>0.239</td>\n",
       "      <td>0.034</td>\n",
       "    </tr>\n",
       "  </tbody>\n",
       "</table>\n",
       "</div>"
      ],
      "text/plain": [
       "           eigenvalue  proportion\n",
       "component                        \n",
       "1               2.657       0.379\n",
       "2               1.376       0.196\n",
       "3               0.941       0.134\n",
       "4               0.769       0.110\n",
       "5               0.564       0.080\n",
       "6               0.464       0.066\n",
       "7               0.239       0.034"
      ]
     },
     "metadata": {},
     "output_type": "display_data"
    },
    {
     "name": "stdout",
     "output_type": "stream",
     "text": [
      "Total variation: 7.01\n"
     ]
    }
   ],
   "source": [
    "idx = [i + 1 for i in range(p)]\n",
    "data = {'component': idx,\n",
    "       'eigenvalue': pca.explained_variance_,\n",
    "       'proportion': pca.explained_variance_ratio_}\n",
    "df_variation_sk = pd.DataFrame(data)\n",
    "df_variation_sk.set_index('component', drop=True, inplace=True)\n",
    "print('Variation Explained using sklearn')\n",
    "display(df_variation_sk)\n",
    "print('Total variation: {:.2f}'.format(df_variation_sk['eigenvalue'].sum()))"
   ]
  },
  {
   "cell_type": "markdown",
   "metadata": {},
   "source": [
    "### Comparing sklearn's PCA and SVD\n",
    "\n",
    "The principal components retrieved using `sklearn` and SVD should be the same.\n",
    "\n",
    "The following cell shows this is true for the first and second principal component."
   ]
  },
  {
   "cell_type": "code",
   "execution_count": 13,
   "metadata": {
    "collapsed": true
   },
   "outputs": [],
   "source": [
    "# Get principal components using sklearn.\n",
    "XReduced_sk = pca.transform(X)\n",
    "assert XReduced_sk.shape == (n, p)"
   ]
  },
  {
   "cell_type": "code",
   "execution_count": 14,
   "metadata": {
    "collapsed": false
   },
   "outputs": [
    {
     "name": "stdout",
     "output_type": "stream",
     "text": [
      "Norm of difference between sklearn's principal component and component created using SVD:\n",
      "PC1: 0.00\n",
      "PC2: 0.00\n"
     ]
    }
   ],
   "source": [
    "x1_reduced_sk = np.ravel(XReduced_sk[:,0])\n",
    "x2_reduced_sk = np.ravel(XReduced_sk[:,1])\n",
    "\n",
    "x1_reduced_diff = np.linalg.norm(x1_reduced_sk - pc1)\n",
    "x2_reduced_diff = np.linalg.norm(x2_reduced_sk - pc2)\n",
    "\n",
    "print(\"Norm of difference between sklearn's principal component and \" \\\n",
    "     \"component created using SVD:\")\n",
    "print('PC1: {:.2f}'.format(x1_reduced_diff))\n",
    "print('PC2: {:.2f}'.format(x2_reduced_diff))"
   ]
  },
  {
   "cell_type": "markdown",
   "metadata": {},
   "source": [
    "### Loadings"
   ]
  },
  {
   "cell_type": "code",
   "execution_count": 15,
   "metadata": {
    "collapsed": false
   },
   "outputs": [
    {
     "data": {
      "text/html": [
       "<div>\n",
       "<style>\n",
       "    .dataframe thead tr:only-child th {\n",
       "        text-align: right;\n",
       "    }\n",
       "\n",
       "    .dataframe thead th {\n",
       "        text-align: left;\n",
       "    }\n",
       "\n",
       "    .dataframe tbody tr th {\n",
       "        vertical-align: top;\n",
       "    }\n",
       "</style>\n",
       "<table border=\"1\" class=\"dataframe\">\n",
       "  <thead>\n",
       "    <tr style=\"text-align: right;\">\n",
       "      <th></th>\n",
       "      <th>rip</th>\n",
       "      <th>btc</th>\n",
       "      <th>eth</th>\n",
       "      <th>ltc</th>\n",
       "      <th>mon</th>\n",
       "      <th>nem</th>\n",
       "      <th>dash</th>\n",
       "    </tr>\n",
       "    <tr>\n",
       "      <th>component</th>\n",
       "      <th></th>\n",
       "      <th></th>\n",
       "      <th></th>\n",
       "      <th></th>\n",
       "      <th></th>\n",
       "      <th></th>\n",
       "      <th></th>\n",
       "    </tr>\n",
       "  </thead>\n",
       "  <tbody>\n",
       "    <tr>\n",
       "      <th>1</th>\n",
       "      <td>0.844</td>\n",
       "      <td>0.391</td>\n",
       "      <td>0.347</td>\n",
       "      <td>0.399</td>\n",
       "      <td>0.103</td>\n",
       "      <td>0.331</td>\n",
       "      <td>0.085</td>\n",
       "    </tr>\n",
       "    <tr>\n",
       "      <th>2</th>\n",
       "      <td>-0.386</td>\n",
       "      <td>-0.176</td>\n",
       "      <td>0.492</td>\n",
       "      <td>-0.271</td>\n",
       "      <td>0.245</td>\n",
       "      <td>-0.043</td>\n",
       "      <td>0.330</td>\n",
       "    </tr>\n",
       "    <tr>\n",
       "      <th>3</th>\n",
       "      <td>0.171</td>\n",
       "      <td>-0.358</td>\n",
       "      <td>0.198</td>\n",
       "      <td>0.057</td>\n",
       "      <td>-0.660</td>\n",
       "      <td>0.025</td>\n",
       "      <td>0.134</td>\n",
       "    </tr>\n",
       "    <tr>\n",
       "      <th>4</th>\n",
       "      <td>-0.466</td>\n",
       "      <td>1.017</td>\n",
       "      <td>0.007</td>\n",
       "      <td>-0.198</td>\n",
       "      <td>-0.233</td>\n",
       "      <td>-0.030</td>\n",
       "      <td>0.064</td>\n",
       "    </tr>\n",
       "    <tr>\n",
       "      <th>5</th>\n",
       "      <td>0.024</td>\n",
       "      <td>0.111</td>\n",
       "      <td>-0.221</td>\n",
       "      <td>0.536</td>\n",
       "      <td>0.042</td>\n",
       "      <td>-0.436</td>\n",
       "      <td>0.191</td>\n",
       "    </tr>\n",
       "    <tr>\n",
       "      <th>6</th>\n",
       "      <td>-0.021</td>\n",
       "      <td>-0.075</td>\n",
       "      <td>-0.691</td>\n",
       "      <td>-0.076</td>\n",
       "      <td>0.020</td>\n",
       "      <td>0.321</td>\n",
       "      <td>0.248</td>\n",
       "    </tr>\n",
       "    <tr>\n",
       "      <th>7</th>\n",
       "      <td>-1.245</td>\n",
       "      <td>-0.106</td>\n",
       "      <td>0.114</td>\n",
       "      <td>0.448</td>\n",
       "      <td>-0.009</td>\n",
       "      <td>0.239</td>\n",
       "      <td>-0.051</td>\n",
       "    </tr>\n",
       "  </tbody>\n",
       "</table>\n",
       "</div>"
      ],
      "text/plain": [
       "             rip    btc    eth    ltc    mon    nem   dash\n",
       "component                                                 \n",
       "1          0.844  0.391  0.347  0.399  0.103  0.331  0.085\n",
       "2         -0.386 -0.176  0.492 -0.271  0.245 -0.043  0.330\n",
       "3          0.171 -0.358  0.198  0.057 -0.660  0.025  0.134\n",
       "4         -0.466  1.017  0.007 -0.198 -0.233 -0.030  0.064\n",
       "5          0.024  0.111 -0.221  0.536  0.042 -0.436  0.191\n",
       "6         -0.021 -0.075 -0.691 -0.076  0.020  0.321  0.248\n",
       "7         -1.245 -0.106  0.114  0.448 -0.009  0.239 -0.051"
      ]
     },
     "execution_count": 15,
     "metadata": {},
     "output_type": "execute_result"
    }
   ],
   "source": [
    "# Calc loadings and put into DataFrame.\n",
    "loadings = eigvecs * np.sqrt(np.abs(eigvals))\n",
    "idx = pd.Series([i + 1 for i in range(p)], name='component')\n",
    "\n",
    "df_loadings = pd.DataFrame(loadings, columns=df_returns.columns, index=idx)\n",
    "df_loadings"
   ]
  },
  {
   "cell_type": "code",
   "execution_count": 16,
   "metadata": {
    "collapsed": false
   },
   "outputs": [
    {
     "data": {
      "text/plain": [
       "[array([ 0.517,  0.334,  0.358,  0.455,  0.137,  0.487,  0.174]),\n",
       " array([-0.237, -0.15 ,  0.508, -0.309,  0.327, -0.063,  0.676]),\n",
       " array([ 0.105, -0.305,  0.204,  0.065, -0.88 ,  0.037,  0.274]),\n",
       " array([-0.286,  0.867,  0.007, -0.226, -0.311, -0.044,  0.13 ]),\n",
       " array([ 0.015,  0.095, -0.228,  0.611,  0.056, -0.64 ,  0.39 ]),\n",
       " array([-0.013, -0.064, -0.712, -0.087,  0.027,  0.472,  0.508]),\n",
       " array([-0.764, -0.091,  0.118,  0.511, -0.012,  0.351, -0.103])]"
      ]
     },
     "execution_count": 16,
     "metadata": {},
     "output_type": "execute_result"
    }
   ],
   "source": [
    "eigvecs"
   ]
  },
  {
   "cell_type": "code",
   "execution_count": 17,
   "metadata": {
    "collapsed": false
   },
   "outputs": [
    {
     "data": {
      "text/plain": [
       "2.4618691572608493"
      ]
     },
     "execution_count": 17,
     "metadata": {},
     "output_type": "execute_result"
    }
   ],
   "source": [
    "df_eigvec_svd['V1'].sum(axis=0)"
   ]
  },
  {
   "cell_type": "code",
   "execution_count": null,
   "metadata": {
    "collapsed": true
   },
   "outputs": [],
   "source": []
  },
  {
   "cell_type": "markdown",
   "metadata": {},
   "source": [
    "## Yihang's code"
   ]
  },
  {
   "cell_type": "code",
   "execution_count": 9,
   "metadata": {
    "collapsed": false
   },
   "outputs": [
    {
     "data": {
      "text/html": [
       "<div>\n",
       "<table border=\"1\" class=\"dataframe\">\n",
       "  <thead>\n",
       "    <tr style=\"text-align: right;\">\n",
       "      <th></th>\n",
       "      <th>rip</th>\n",
       "      <th>btc</th>\n",
       "      <th>eth</th>\n",
       "      <th>ltc</th>\n",
       "      <th>mon</th>\n",
       "      <th>nem</th>\n",
       "      <th>dash</th>\n",
       "    </tr>\n",
       "    <tr>\n",
       "      <th>Date</th>\n",
       "      <th></th>\n",
       "      <th></th>\n",
       "      <th></th>\n",
       "      <th></th>\n",
       "      <th></th>\n",
       "      <th></th>\n",
       "      <th></th>\n",
       "    </tr>\n",
       "  </thead>\n",
       "  <tbody>\n",
       "    <tr>\n",
       "      <th>2015-09-06</th>\n",
       "      <td>-0.291</td>\n",
       "      <td>-1.261</td>\n",
       "      <td>-1.125</td>\n",
       "      <td>-0.946</td>\n",
       "      <td>-0.783</td>\n",
       "      <td>-0.776</td>\n",
       "      <td>-0.828</td>\n",
       "    </tr>\n",
       "    <tr>\n",
       "      <th>2015-09-07</th>\n",
       "      <td>-0.314</td>\n",
       "      <td>-0.998</td>\n",
       "      <td>0.299</td>\n",
       "      <td>-0.803</td>\n",
       "      <td>-0.717</td>\n",
       "      <td>-0.739</td>\n",
       "      <td>-0.814</td>\n",
       "    </tr>\n",
       "    <tr>\n",
       "      <th>2015-09-08</th>\n",
       "      <td>-0.345</td>\n",
       "      <td>-0.998</td>\n",
       "      <td>0.427</td>\n",
       "      <td>-0.825</td>\n",
       "      <td>-0.684</td>\n",
       "      <td>-0.693</td>\n",
       "      <td>-0.852</td>\n",
       "    </tr>\n",
       "    <tr>\n",
       "      <th>2015-09-09</th>\n",
       "      <td>-0.353</td>\n",
       "      <td>-1.077</td>\n",
       "      <td>0.357</td>\n",
       "      <td>-0.915</td>\n",
       "      <td>-0.680</td>\n",
       "      <td>-0.772</td>\n",
       "      <td>-0.782</td>\n",
       "    </tr>\n",
       "    <tr>\n",
       "      <th>2015-09-10</th>\n",
       "      <td>-0.343</td>\n",
       "      <td>-1.157</td>\n",
       "      <td>-0.378</td>\n",
       "      <td>-0.979</td>\n",
       "      <td>-0.619</td>\n",
       "      <td>-0.766</td>\n",
       "      <td>-0.845</td>\n",
       "    </tr>\n",
       "  </tbody>\n",
       "</table>\n",
       "</div>"
      ],
      "text/plain": [
       "              rip    btc    eth    ltc    mon    nem   dash\n",
       "Date                                                       \n",
       "2015-09-06 -0.291 -1.261 -1.125 -0.946 -0.783 -0.776 -0.828\n",
       "2015-09-07 -0.314 -0.998  0.299 -0.803 -0.717 -0.739 -0.814\n",
       "2015-09-08 -0.345 -0.998  0.427 -0.825 -0.684 -0.693 -0.852\n",
       "2015-09-09 -0.353 -1.077  0.357 -0.915 -0.680 -0.772 -0.782\n",
       "2015-09-10 -0.343 -1.157 -0.378 -0.979 -0.619 -0.766 -0.845"
      ]
     },
     "execution_count": 9,
     "metadata": {},
     "output_type": "execute_result"
    }
   ],
   "source": [
    "small_df_std = df_returns\n",
    "small_df_std.head()"
   ]
  },
  {
   "cell_type": "code",
   "execution_count": 11,
   "metadata": {
    "collapsed": false
   },
   "outputs": [
    {
     "data": {
      "text/plain": [
       "array([ 2.657,  1.376,  0.239,  0.941,  0.769,  0.564,  0.464])"
      ]
     },
     "execution_count": 11,
     "metadata": {},
     "output_type": "execute_result"
    }
   ],
   "source": [
    "cov = np.cov(small_df_std.values.T)     # covariance matrix\n",
    "corr = np.corrcoef(df_returns_unadj.values.T)\n",
    "eig_vals, eig_vecs = np.linalg.eig(cov)\n",
    "eig_vals"
   ]
  },
  {
   "cell_type": "code",
   "execution_count": 37,
   "metadata": {
    "collapsed": false
   },
   "outputs": [
    {
     "data": {
      "text/plain": [
       "([<matplotlib.axis.YTick at 0x113ddf0b8>,\n",
       "  <matplotlib.axis.YTick at 0x113dd7550>,\n",
       "  <matplotlib.axis.YTick at 0x113d935c0>,\n",
       "  <matplotlib.axis.YTick at 0x112e42a20>,\n",
       "  <matplotlib.axis.YTick at 0x112e89cf8>,\n",
       "  <matplotlib.axis.YTick at 0x11371f828>,\n",
       "  <matplotlib.axis.YTick at 0x113744d30>],\n",
       " <a list of 7 Text yticklabel objects>)"
      ]
     },
     "execution_count": 37,
     "metadata": {},
     "output_type": "execute_result"
    },
    {
     "data": {
      "image/png": "[encoded data removed]",
      "text/plain": [
       "<matplotlib.figure.Figure at 0x11433a748>"
      ]
     },
     "metadata": {},
     "output_type": "display_data"
    }
   ],
   "source": [
    "tickers = list(small_df_std.columns)\n",
    "\n",
    "# Graph - Correlation matrix\n",
    "plt.figure(figsize=(8,8))\n",
    "plt.imshow(corr, cmap=\"RdGy\", interpolation=\"nearest\")\n",
    "cb = plt.colorbar()\n",
    "cb.set_label(\"Correlation Matrix Coefficients\")\n",
    "plt.title(\"Correlation Matrix\", fontsize=14)\n",
    "plt.xticks(np.arange(len(tickers)), tickers, rotation=90)\n",
    "plt.yticks(np.arange(len(tickers)), tickers)"
   ]
  },
  {
   "cell_type": "markdown",
   "metadata": {},
   "source": [
    "the correlation matrix typically used instead of the covariance matrix. However, the eigendecomposition of the covariance matrix (if the input data was standardized) yields the same results as a eigendecomposition on the correlation matrix, since the correlation matrix can be understood as the normalized covariance matrix."
   ]
  },
  {
   "cell_type": "code",
   "execution_count": 18,
   "metadata": {
    "collapsed": false
   },
   "outputs": [
    {
     "data": {
      "text/plain": [
       "array([ 37.915,  57.55 ,  70.972,  81.939,  89.979,  96.592, 100.   ])"
      ]
     },
     "execution_count": 18,
     "metadata": {},
     "output_type": "execute_result"
    }
   ],
   "source": [
    "# Create a list of (eigenvalue, eigenvector) tuples\n",
    "eig_pairs = [ (np.abs(eig_vals[i]),eig_vecs[:,i]) for i in range(len(eig_vals))]\n",
    "\n",
    "# Sort from high to low\n",
    "eig_pairs.sort(key = lambda x: x[0], reverse= True)\n",
    "\n",
    "# Calculation of Explained Variance from the eigenvalues\n",
    "tot = sum(eig_vals)\n",
    "var_exp = [(i/tot)*100 for i in sorted(eig_vals, reverse=True)] \n",
    "cum_var_exp = np.cumsum(var_exp) # Cumulative explained variance\n",
    "\n",
    "cum_var_exp"
   ]
  },
  {
   "cell_type": "code",
   "execution_count": 19,
   "metadata": {
    "collapsed": false
   },
   "outputs": [
    {
     "name": "stdout",
     "output_type": "stream",
     "text": [
      "19.634999999999998\n",
      "13.421999999999997\n",
      "10.966999999999999\n",
      "8.040000000000006\n",
      "6.6129999999999995\n",
      "3.4080000000000013\n"
     ]
    }
   ],
   "source": [
    "print(57.55 - 37.915)\n",
    "print(70.972 - 57.55)\n",
    "print(81.939 - 70.972)\n",
    "print(89.979 - 81.939)\n",
    "print(96.592 - 89.979)\n",
    "print(100 - 96.592)"
   ]
  },
  {
   "cell_type": "code",
   "execution_count": 20,
   "metadata": {
    "collapsed": false
   },
   "outputs": [
    {
     "data": {
      "text/plain": [
       "[(2.6540309736566452,\n",
       "  array([ 0.517,  0.334,  0.358,  0.455,  0.137,  0.487,  0.174])),\n",
       " (1.3744606808583109,\n",
       "  array([ 0.237,  0.15 , -0.508,  0.309, -0.327,  0.063, -0.676])),\n",
       " (0.2385475306743777,\n",
       "  array([ 0.764,  0.091, -0.118, -0.511,  0.012, -0.351,  0.103])),\n",
       " (0.93952148384655831,\n",
       "  array([-0.105,  0.305, -0.204, -0.065,  0.88 , -0.037, -0.274])),\n",
       " (0.76771726938004836,\n",
       "  array([-0.286,  0.867,  0.007, -0.226, -0.311, -0.044,  0.13 ])),\n",
       " (0.56280226738329975,\n",
       "  array([-0.015, -0.095,  0.228, -0.611, -0.056,  0.64 , -0.39 ])),\n",
       " (0.46291979420075841,\n",
       "  array([-0.013, -0.064, -0.712, -0.087,  0.027,  0.472,  0.508]))]"
      ]
     },
     "execution_count": 20,
     "metadata": {},
     "output_type": "execute_result"
    }
   ],
   "source": [
    "eig_pairs = [ (np.abs(eig_vals[i]),eig_vecs[:,i]) for i in range(len(eig_vals))]\n",
    "eig_pairs"
   ]
  },
  {
   "cell_type": "markdown",
   "metadata": {},
   "source": [
    "### Sorting Eigenpairs"
   ]
  },
  {
   "cell_type": "code",
   "execution_count": 21,
   "metadata": {
    "collapsed": false
   },
   "outputs": [
    {
     "name": "stdout",
     "output_type": "stream",
     "text": [
      "Eigenvalues in descending order:\n",
      "2.65403097366\n",
      "1.37446068086\n",
      "0.939521483847\n",
      "0.76771726938\n",
      "0.562802267383\n",
      "0.462919794201\n",
      "0.238547530674\n"
     ]
    }
   ],
   "source": [
    "# Make a list of (eigenvalue, eigenvector) tuples\n",
    "eig_pairs = [(np.abs(eig_vals[i]), eig_vecs[:,i]) for i in range(len(eig_vals))]\n",
    "\n",
    "# Sort the (eigenvalue, eigenvector) tuples from high to low\n",
    "eig_pairs.sort(key=lambda x: x[0], reverse=True)\n",
    "\n",
    "# Visually confirm that the list is correctly sorted by decreasing eigenvalues\n",
    "eig_vals_list = []\n",
    "print('Eigenvalues in descending order:')\n",
    "for i in eig_pairs:\n",
    "    eig_vals_list.append(i[0])\n",
    "    print(i[0])"
   ]
  },
  {
   "cell_type": "code",
   "execution_count": 22,
   "metadata": {
    "collapsed": false
   },
   "outputs": [
    {
     "data": {
      "text/plain": [
       "array([[ 0.517,  0.237, -0.105, -0.286, -0.015, -0.013,  0.764],\n",
       "       [ 0.334,  0.15 ,  0.305,  0.867, -0.095, -0.064,  0.091],\n",
       "       [ 0.358, -0.508, -0.204,  0.007,  0.228, -0.712, -0.118],\n",
       "       [ 0.455,  0.309, -0.065, -0.226, -0.611, -0.087, -0.511],\n",
       "       [ 0.137, -0.327,  0.88 , -0.311, -0.056,  0.027,  0.012],\n",
       "       [ 0.487,  0.063, -0.037, -0.044,  0.64 ,  0.472, -0.351],\n",
       "       [ 0.174, -0.676, -0.274,  0.13 , -0.39 ,  0.508,  0.103]])"
      ]
     },
     "execution_count": 22,
     "metadata": {},
     "output_type": "execute_result"
    }
   ],
   "source": [
    "matrix_Q = np.hstack((eig_pairs[0][1].reshape(7,1),\n",
    "                      eig_pairs[1][1].reshape(7,1),\n",
    "                      eig_pairs[2][1].reshape(7,1),\n",
    "                      eig_pairs[3][1].reshape(7,1),\n",
    "                      eig_pairs[4][1].reshape(7,1),\n",
    "                      eig_pairs[5][1].reshape(7,1),\n",
    "                      eig_pairs[6][1].reshape(7,1)))\n",
    "#with desending order of eigen value \n",
    "matrix_Q"
   ]
  },
  {
   "cell_type": "markdown",
   "metadata": {},
   "source": [
    "## Loadings\n",
    "\n",
    "Compute loadings A. May skip if you don't need to interpret PCs anyhow.\n",
    "Loadings are eigenvectors normalized to respective eigenvalues: A value = V value * sqrt(L value)\n",
    "Loadings are the covariances between variables and components.\n",
    "\n",
    "Loadings=Orthonormal Eigenvectors⋅ Square root of (Absolute Eigen values)"
   ]
  },
  {
   "cell_type": "code",
   "execution_count": 23,
   "metadata": {
    "collapsed": false
   },
   "outputs": [
    {
     "data": {
      "text/plain": [
       "array([ 1.629,  1.172,  0.969,  0.876,  0.75 ,  0.68 ,  0.488])"
      ]
     },
     "execution_count": 23,
     "metadata": {},
     "output_type": "execute_result"
    }
   ],
   "source": [
    "eig_vals_sqrt = np.array([np.sqrt(eig_val) for eig_val in eig_vals_list])\n",
    "eig_vals_sqrt"
   ]
  },
  {
   "cell_type": "code",
   "execution_count": 24,
   "metadata": {
    "collapsed": false
   },
   "outputs": [
    {
     "data": {
      "text/html": [
       "<div>\n",
       "<table border=\"1\" class=\"dataframe\">\n",
       "  <thead>\n",
       "    <tr style=\"text-align: right;\">\n",
       "      <th></th>\n",
       "      <th>rip</th>\n",
       "      <th>btc</th>\n",
       "      <th>ltc</th>\n",
       "      <th>mon</th>\n",
       "      <th>nem</th>\n",
       "      <th>dash</th>\n",
       "      <th>eth</th>\n",
       "    </tr>\n",
       "  </thead>\n",
       "  <tbody>\n",
       "    <tr>\n",
       "      <th>0</th>\n",
       "      <td>0.843</td>\n",
       "      <td>0.544</td>\n",
       "      <td>0.583</td>\n",
       "      <td>0.741</td>\n",
       "      <td>0.224</td>\n",
       "      <td>0.793</td>\n",
       "      <td>0.284</td>\n",
       "    </tr>\n",
       "    <tr>\n",
       "      <th>1</th>\n",
       "      <td>0.277</td>\n",
       "      <td>0.176</td>\n",
       "      <td>-0.595</td>\n",
       "      <td>0.363</td>\n",
       "      <td>-0.383</td>\n",
       "      <td>0.074</td>\n",
       "      <td>-0.793</td>\n",
       "    </tr>\n",
       "    <tr>\n",
       "      <th>2</th>\n",
       "      <td>-0.102</td>\n",
       "      <td>0.295</td>\n",
       "      <td>-0.198</td>\n",
       "      <td>-0.063</td>\n",
       "      <td>0.853</td>\n",
       "      <td>-0.036</td>\n",
       "      <td>-0.266</td>\n",
       "    </tr>\n",
       "    <tr>\n",
       "      <th>3</th>\n",
       "      <td>-0.250</td>\n",
       "      <td>0.760</td>\n",
       "      <td>0.006</td>\n",
       "      <td>-0.198</td>\n",
       "      <td>-0.272</td>\n",
       "      <td>-0.039</td>\n",
       "      <td>0.114</td>\n",
       "    </tr>\n",
       "    <tr>\n",
       "      <th>4</th>\n",
       "      <td>-0.011</td>\n",
       "      <td>-0.071</td>\n",
       "      <td>0.171</td>\n",
       "      <td>-0.459</td>\n",
       "      <td>-0.042</td>\n",
       "      <td>0.480</td>\n",
       "      <td>-0.293</td>\n",
       "    </tr>\n",
       "    <tr>\n",
       "      <th>5</th>\n",
       "      <td>-0.009</td>\n",
       "      <td>-0.043</td>\n",
       "      <td>-0.484</td>\n",
       "      <td>-0.059</td>\n",
       "      <td>0.018</td>\n",
       "      <td>0.321</td>\n",
       "      <td>0.345</td>\n",
       "    </tr>\n",
       "    <tr>\n",
       "      <th>6</th>\n",
       "      <td>0.373</td>\n",
       "      <td>0.044</td>\n",
       "      <td>-0.058</td>\n",
       "      <td>-0.249</td>\n",
       "      <td>0.006</td>\n",
       "      <td>-0.171</td>\n",
       "      <td>0.050</td>\n",
       "    </tr>\n",
       "  </tbody>\n",
       "</table>\n",
       "</div>"
      ],
      "text/plain": [
       "     rip    btc    ltc    mon    nem   dash    eth\n",
       "0  0.843  0.544  0.583  0.741  0.224  0.793  0.284\n",
       "1  0.277  0.176 -0.595  0.363 -0.383  0.074 -0.793\n",
       "2 -0.102  0.295 -0.198 -0.063  0.853 -0.036 -0.266\n",
       "3 -0.250  0.760  0.006 -0.198 -0.272 -0.039  0.114\n",
       "4 -0.011 -0.071  0.171 -0.459 -0.042  0.480 -0.293\n",
       "5 -0.009 -0.043 -0.484 -0.059  0.018  0.321  0.345\n",
       "6  0.373  0.044 -0.058 -0.249  0.006 -0.171  0.050"
      ]
     },
     "execution_count": 24,
     "metadata": {},
     "output_type": "execute_result"
    }
   ],
   "source": [
    "ordered_col = (['rip','btc','ltc','mon','nem','dash','eth'])\n",
    "loadings = pd.DataFrame(np.multiply(matrix_Q,eig_vals_sqrt)).T\n",
    "loadings.columns = ordered_col\n",
    "loadings"
   ]
  },
  {
   "cell_type": "code",
   "execution_count": 25,
   "metadata": {
    "collapsed": false
   },
   "outputs": [
    {
     "data": {
      "text/html": [
       "<div>\n",
       "<table border=\"1\" class=\"dataframe\">\n",
       "  <thead>\n",
       "    <tr style=\"text-align: right;\">\n",
       "      <th></th>\n",
       "      <th>rip</th>\n",
       "      <th>btc</th>\n",
       "      <th>ltc</th>\n",
       "      <th>mon</th>\n",
       "      <th>nem</th>\n",
       "      <th>dash</th>\n",
       "      <th>eth</th>\n",
       "    </tr>\n",
       "  </thead>\n",
       "  <tbody>\n",
       "    <tr>\n",
       "      <th>0</th>\n",
       "      <td>7.107e-01</td>\n",
       "      <td>0.296</td>\n",
       "      <td>3.395e-01</td>\n",
       "      <td>0.549</td>\n",
       "      <td>4.995e-02</td>\n",
       "      <td>0.628</td>\n",
       "      <td>0.081</td>\n",
       "    </tr>\n",
       "    <tr>\n",
       "      <th>1</th>\n",
       "      <td>7.699e-02</td>\n",
       "      <td>0.031</td>\n",
       "      <td>3.542e-01</td>\n",
       "      <td>0.132</td>\n",
       "      <td>1.467e-01</td>\n",
       "      <td>0.006</td>\n",
       "      <td>0.628</td>\n",
       "    </tr>\n",
       "    <tr>\n",
       "      <th>2</th>\n",
       "      <td>1.032e-02</td>\n",
       "      <td>0.087</td>\n",
       "      <td>3.914e-02</td>\n",
       "      <td>0.004</td>\n",
       "      <td>7.270e-01</td>\n",
       "      <td>0.001</td>\n",
       "      <td>0.071</td>\n",
       "    </tr>\n",
       "    <tr>\n",
       "      <th>3</th>\n",
       "      <td>6.267e-02</td>\n",
       "      <td>0.577</td>\n",
       "      <td>3.779e-05</td>\n",
       "      <td>0.039</td>\n",
       "      <td>7.418e-02</td>\n",
       "      <td>0.001</td>\n",
       "      <td>0.013</td>\n",
       "    </tr>\n",
       "    <tr>\n",
       "      <th>4</th>\n",
       "      <td>1.237e-04</td>\n",
       "      <td>0.005</td>\n",
       "      <td>2.921e-02</td>\n",
       "      <td>0.210</td>\n",
       "      <td>1.754e-03</td>\n",
       "      <td>0.231</td>\n",
       "      <td>0.086</td>\n",
       "    </tr>\n",
       "    <tr>\n",
       "      <th>5</th>\n",
       "      <td>7.420e-05</td>\n",
       "      <td>0.002</td>\n",
       "      <td>2.347e-01</td>\n",
       "      <td>0.003</td>\n",
       "      <td>3.309e-04</td>\n",
       "      <td>0.103</td>\n",
       "      <td>0.119</td>\n",
       "    </tr>\n",
       "    <tr>\n",
       "      <th>6</th>\n",
       "      <td>1.391e-01</td>\n",
       "      <td>0.002</td>\n",
       "      <td>3.309e-03</td>\n",
       "      <td>0.062</td>\n",
       "      <td>3.496e-05</td>\n",
       "      <td>0.029</td>\n",
       "      <td>0.003</td>\n",
       "    </tr>\n",
       "  </tbody>\n",
       "</table>\n",
       "</div>"
      ],
      "text/plain": [
       "         rip    btc        ltc    mon        nem   dash    eth\n",
       "0  7.107e-01  0.296  3.395e-01  0.549  4.995e-02  0.628  0.081\n",
       "1  7.699e-02  0.031  3.542e-01  0.132  1.467e-01  0.006  0.628\n",
       "2  1.032e-02  0.087  3.914e-02  0.004  7.270e-01  0.001  0.071\n",
       "3  6.267e-02  0.577  3.779e-05  0.039  7.418e-02  0.001  0.013\n",
       "4  1.237e-04  0.005  2.921e-02  0.210  1.754e-03  0.231  0.086\n",
       "5  7.420e-05  0.002  2.347e-01  0.003  3.309e-04  0.103  0.119\n",
       "6  1.391e-01  0.002  3.309e-03  0.062  3.496e-05  0.029  0.003"
      ]
     },
     "execution_count": 25,
     "metadata": {},
     "output_type": "execute_result"
    }
   ],
   "source": [
    "sqr_loadings = loadings.applymap(np.square)\n",
    "sqr_loadings"
   ]
  },
  {
   "cell_type": "code",
   "execution_count": 26,
   "metadata": {
    "collapsed": false
   },
   "outputs": [
    {
     "data": {
      "text/plain": [
       "2.65415"
      ]
     },
     "execution_count": 26,
     "metadata": {},
     "output_type": "execute_result"
    }
   ],
   "source": [
    "#make sure each row of square loadings table = eigenvalue\n",
    "7.107e-01+0.296+3.395e-01+0.549+4.995e-02+0.628+0.081"
   ]
  },
  {
   "cell_type": "code",
   "execution_count": 28,
   "metadata": {
    "collapsed": false
   },
   "outputs": [
    {
     "data": {
      "text/plain": [
       "1.3748900000000002"
      ]
     },
     "execution_count": 28,
     "metadata": {},
     "output_type": "execute_result"
    }
   ],
   "source": [
    "7.699e-02+0.031+3.542e-01+0.132+1.467e-01+0.006+0.628"
   ]
  },
  {
   "cell_type": "code",
   "execution_count": 32,
   "metadata": {
    "collapsed": false
   },
   "outputs": [
    {
     "data": {
      "image/png": "[encoded data removed]",
      "text/plain": [
       "<matplotlib.figure.Figure at 0x113f99da0>"
      ]
     },
     "metadata": {},
     "output_type": "display_data"
    }
   ],
   "source": [
    "LL = np.multiply(matrix_Q,eig_vals_sqrt)\n",
    "tickers = ordered_col\n",
    "ax = plt.figure(figsize=(8,8)).gca()\n",
    "plt.imshow(LL, cmap=\"bwr\", interpolation=\"nearest\")\n",
    "cb = plt.colorbar()\n",
    "plt.yticks(np.arange(len(tickers)), tickers)\n",
    "plt.xticks(np.arange(len(tickers)), [1,2,3,4,5,6,7]))\n",
    "plt.xlabel(\"PC Number\")\n",
    "plt.title(\"PCA\", fontsize=14)\n",
    "# force x-tickers to be displayed as integers (not floats)\n",
    "ax.xaxis.set_major_locator(MaxNLocator(integer=True))"
   ]
  },
  {
   "cell_type": "code",
   "execution_count": 43,
   "metadata": {
    "collapsed": false
   },
   "outputs": [
    {
     "data": {
      "text/plain": [
       "<matplotlib.text.Text at 0x114b538d0>"
      ]
     },
     "execution_count": 43,
     "metadata": {},
     "output_type": "execute_result"
    },
    {
     "data": {
      "image/png": "[encoded data removed]",
      "text/plain": [
       "<matplotlib.figure.Figure at 0x114b63d68>"
      ]
     },
     "metadata": {},
     "output_type": "display_data"
    }
   ],
   "source": [
    "k1 = 1  # the last PC column in 'v' PCA matrix\n",
    "k2 = 0  # the second last PC column\n",
    " \n",
    "# begin constructing bi-plot for PC(k1) and PC(k2)\n",
    "# loadings\n",
    "plt.figure(figsize=(7,7))\n",
    "plt.grid()\n",
    " \n",
    "# compute the distance from (0,0) point\n",
    "dist = []\n",
    "for i in range(LL.shape[0]):\n",
    "    x = LL[i,k1]\n",
    "    y = LL[i,k2]\n",
    "    plt.plot(x, y, '.k')\n",
    "    plt.plot([0,x], [0,y], '-', color=\"r\")\n",
    "    d = np.sqrt(x**2 + y**2)\n",
    "    dist.append(d)\n",
    "    plt.text(x, y, tickers[i], color='g')\n",
    "plt.xlabel(\"PC-\" + str(k1+1))\n",
    "plt.ylabel(\"PC-\" + str(k2+1))"
   ]
  },
  {
   "cell_type": "code",
   "execution_count": null,
   "metadata": {
    "collapsed": true
   },
   "outputs": [],
   "source": []
  },
  {
   "cell_type": "code",
   "execution_count": 58,
   "metadata": {
    "collapsed": true
   },
   "outputs": [],
   "source": [
    "XLE_FILES = [('COP_data', 'COP'), ('CVX_data', 'CVX'),\n",
    "                ('EOG_data', 'EOG'), ('OXY_data', 'OXY'),\n",
    "                ('PSX_data', 'PSX'), ('SLB_data', 'SLB'),\n",
    "                ('XOM_data', 'XOM')]\n",
    "def load_returns_matrix (files, tdelta=pd.Timedelta(days=30), center=True, \n",
    "                         scale=True):\n",
    "    \"\"\"Returns cryptocurrency rolling returns in three formats.\n",
    "    \n",
    "    Args:\n",
    "        files (list of tuples): (asset name, file path) tuples. Asset name \n",
    "            used in column headers for DF.\n",
    "        \n",
    "    Returns:\n",
    "        dfout (DataFrame): Returns without centering/scaling.\n",
    "        dfout_adj (DataFrame): Returns with centering/scaling (depending \n",
    "            on input vals for center and scale).\n",
    "        xout (np.matrix): Returns matrix with centering/scaling (depending \n",
    "            on args), i.e., without index or column names.\n",
    "    \"\"\"\n",
    "    dfs = []\n",
    "    for file, name in files:\n",
    "        path = 'XLE//{}.csv'.format(file)\n",
    "        df = pd.read_csv(path, usecols=['Date', 'Close']).iloc[::-1]\n",
    "        df['Date'] = pd.to_datetime(df['Date'])\n",
    "        df = df[['Date', 'Close']]\n",
    "        df.set_index('Date', drop=True, inplace=True)\n",
    "        df.rename(columns={'Close':name}, inplace=True)\n",
    "        dfs.append(df)\n",
    "    dfout = pd.concat(dfs, axis=1, join='inner')\n",
    "    dfout = dfout.pct_change(periods=1, freq=tdelta)\n",
    "    dfout.dropna(axis=0, how='any', inplace=True)\n",
    "    xout = preprocessing.scale(dfout, axis=0, with_mean=center, with_std=scale)\n",
    "    dfout_adj = pd.DataFrame(xout, columns=dfout.columns, index=dfout.index)\n",
    "    return dfout, dfout_adj, np.matrix(xout)"
   ]
  },
  {
   "cell_type": "code",
   "execution_count": 59,
   "metadata": {
    "collapsed": true
   },
   "outputs": [],
   "source": [
    "df_returns_unadj, df_returns, X = load_returns_matrix(XLE_FILES,\n",
    "                                                      center=True, scale=True)"
   ]
  },
  {
   "cell_type": "code",
   "execution_count": 62,
   "metadata": {
    "collapsed": false
   },
   "outputs": [
    {
     "data": {
      "text/html": [
       "<div>\n",
       "<table border=\"1\" class=\"dataframe\">\n",
       "  <thead>\n",
       "    <tr style=\"text-align: right;\">\n",
       "      <th></th>\n",
       "      <th>COP</th>\n",
       "      <th>CVX</th>\n",
       "      <th>EOG</th>\n",
       "      <th>OXY</th>\n",
       "      <th>PSX</th>\n",
       "      <th>SLB</th>\n",
       "      <th>XOM</th>\n",
       "    </tr>\n",
       "    <tr>\n",
       "      <th>Date</th>\n",
       "      <th></th>\n",
       "      <th></th>\n",
       "      <th></th>\n",
       "      <th></th>\n",
       "      <th></th>\n",
       "      <th></th>\n",
       "      <th></th>\n",
       "    </tr>\n",
       "  </thead>\n",
       "  <tbody>\n",
       "    <tr>\n",
       "      <th>2012-09-12</th>\n",
       "      <td>-0.170</td>\n",
       "      <td>0.174</td>\n",
       "      <td>0.301</td>\n",
       "      <td>-0.579</td>\n",
       "      <td>2.078</td>\n",
       "      <td>-0.204</td>\n",
       "      <td>0.383</td>\n",
       "    </tr>\n",
       "    <tr>\n",
       "      <th>2012-09-13</th>\n",
       "      <td>0.075</td>\n",
       "      <td>0.501</td>\n",
       "      <td>0.445</td>\n",
       "      <td>0.149</td>\n",
       "      <td>2.308</td>\n",
       "      <td>0.249</td>\n",
       "      <td>0.814</td>\n",
       "    </tr>\n",
       "    <tr>\n",
       "      <th>2012-09-14</th>\n",
       "      <td>0.229</td>\n",
       "      <td>0.737</td>\n",
       "      <td>0.840</td>\n",
       "      <td>0.610</td>\n",
       "      <td>2.155</td>\n",
       "      <td>0.810</td>\n",
       "      <td>1.155</td>\n",
       "    </tr>\n",
       "    <tr>\n",
       "      <th>2012-09-19</th>\n",
       "      <td>0.071</td>\n",
       "      <td>0.640</td>\n",
       "      <td>0.342</td>\n",
       "      <td>-0.188</td>\n",
       "      <td>0.662</td>\n",
       "      <td>0.068</td>\n",
       "      <td>0.707</td>\n",
       "    </tr>\n",
       "    <tr>\n",
       "      <th>2012-09-20</th>\n",
       "      <td>0.229</td>\n",
       "      <td>0.933</td>\n",
       "      <td>0.452</td>\n",
       "      <td>-0.067</td>\n",
       "      <td>1.317</td>\n",
       "      <td>0.179</td>\n",
       "      <td>1.097</td>\n",
       "    </tr>\n",
       "  </tbody>\n",
       "</table>\n",
       "</div>"
      ],
      "text/plain": [
       "              COP    CVX    EOG    OXY    PSX    SLB    XOM\n",
       "Date                                                       \n",
       "2012-09-12 -0.170  0.174  0.301 -0.579  2.078 -0.204  0.383\n",
       "2012-09-13  0.075  0.501  0.445  0.149  2.308  0.249  0.814\n",
       "2012-09-14  0.229  0.737  0.840  0.610  2.155  0.810  1.155\n",
       "2012-09-19  0.071  0.640  0.342 -0.188  0.662  0.068  0.707\n",
       "2012-09-20  0.229  0.933  0.452 -0.067  1.317  0.179  1.097"
      ]
     },
     "execution_count": 62,
     "metadata": {},
     "output_type": "execute_result"
    }
   ],
   "source": [
    "df_returns.head()"
   ]
  },
  {
   "cell_type": "code",
   "execution_count": 63,
   "metadata": {
    "collapsed": true
   },
   "outputs": [],
   "source": [
    "XLE_df = df_returns_unadj\n",
    "XLE_df_std = df_returns\n",
    "\n",
    "cov = np.cov(XLE_df_std.values.T)     # covariance matrix\n",
    "corr = np.corrcoef(XLE_df.values.T)   # correlation matrix\n",
    "eig_vals, eig_vecs = np.linalg.eig(cov)"
   ]
  },
  {
   "cell_type": "code",
   "execution_count": 64,
   "metadata": {
    "collapsed": false
   },
   "outputs": [
    {
     "name": "stdout",
     "output_type": "stream",
     "text": [
      "Eigenvalues in descending order:\n",
      "4.39949467639\n",
      "0.74475025426\n",
      "0.677117981209\n",
      "0.528119015865\n",
      "0.310976461774\n",
      "0.218834728165\n",
      "0.130429104563\n"
     ]
    }
   ],
   "source": [
    "# Make a list of (eigenvalue, eigenvector) tuples\n",
    "eig_pairs = [(np.abs(eig_vals[i]), eig_vecs[:,i]) for i in range(len(eig_vals))]\n",
    "\n",
    "# Sort the (eigenvalue, eigenvector) tuples from high to low\n",
    "eig_pairs.sort(key=lambda x: x[0], reverse=True)\n",
    "\n",
    "# Visually confirm that the list is correctly sorted by decreasing eigenvalues\n",
    "eig_vals_list = []\n",
    "print('Eigenvalues in descending order:')\n",
    "for i in eig_pairs:\n",
    "    eig_vals_list.append(i[0])\n",
    "    print(i[0])"
   ]
  },
  {
   "cell_type": "code",
   "execution_count": 66,
   "metadata": {
    "collapsed": false
   },
   "outputs": [
    {
     "data": {
      "text/plain": [
       "array([ 4.399,  0.13 ,  0.219,  0.311,  0.528,  0.745,  0.677])"
      ]
     },
     "execution_count": 66,
     "metadata": {},
     "output_type": "execute_result"
    }
   ],
   "source": [
    "4.399,  0.13 ,  0.219,  0.311,  0.528,  0.745,  0.677\n",
    "COP\tCVX\tEOG\tOXY\tPSX\tSLB\tXOM\n",
    "\n",
    "COP, SLB, XOM,PSX,OXY, EOG,CVX"
   ]
  },
  {
   "cell_type": "code",
   "execution_count": 65,
   "metadata": {
    "collapsed": false
   },
   "outputs": [
    {
     "data": {
      "text/plain": [
       "array([[ 0.394, -0.04 , -0.024,  0.678,  0.294,  0.283, -0.464],\n",
       "       [ 0.417,  0.117,  0.426,  0.204, -0.038,  0.225,  0.733],\n",
       "       [ 0.395, -0.313, -0.39 ,  0.205, -0.064, -0.71 ,  0.209],\n",
       "       [ 0.378, -0.277, -0.089, -0.573,  0.646,  0.164,  0.023],\n",
       "       [ 0.274,  0.848, -0.434, -0.127,  0.036, -0.022,  0.006],\n",
       "       [ 0.398, -0.25 , -0.249, -0.232, -0.683,  0.42 , -0.143],\n",
       "       [ 0.371,  0.17 ,  0.639, -0.242, -0.154, -0.401, -0.427]])"
      ]
     },
     "execution_count": 65,
     "metadata": {},
     "output_type": "execute_result"
    }
   ],
   "source": [
    "matrix_Q = np.hstack((eig_pairs[0][1].reshape(7,1),\n",
    "                      eig_pairs[1][1].reshape(7,1),\n",
    "                      eig_pairs[2][1].reshape(7,1),\n",
    "                      eig_pairs[3][1].reshape(7,1),\n",
    "                      eig_pairs[4][1].reshape(7,1),\n",
    "                      eig_pairs[5][1].reshape(7,1),\n",
    "                      eig_pairs[6][1].reshape(7,1)))\n",
    "matrix_Q"
   ]
  },
  {
   "cell_type": "code",
   "execution_count": 67,
   "metadata": {
    "collapsed": false
   },
   "outputs": [
    {
     "data": {
      "text/html": [
       "<div>\n",
       "<table border=\"1\" class=\"dataframe\">\n",
       "  <thead>\n",
       "    <tr style=\"text-align: right;\">\n",
       "      <th></th>\n",
       "      <th>COP</th>\n",
       "      <th>SLB</th>\n",
       "      <th>XOM</th>\n",
       "      <th>PSX</th>\n",
       "      <th>OXY</th>\n",
       "      <th>EOG</th>\n",
       "      <th>CVX</th>\n",
       "    </tr>\n",
       "  </thead>\n",
       "  <tbody>\n",
       "    <tr>\n",
       "      <th>0</th>\n",
       "      <td>0.827</td>\n",
       "      <td>0.875</td>\n",
       "      <td>0.828</td>\n",
       "      <td>0.794</td>\n",
       "      <td>0.574</td>\n",
       "      <td>0.836</td>\n",
       "      <td>0.779</td>\n",
       "    </tr>\n",
       "    <tr>\n",
       "      <th>1</th>\n",
       "      <td>-0.035</td>\n",
       "      <td>0.101</td>\n",
       "      <td>-0.270</td>\n",
       "      <td>-0.239</td>\n",
       "      <td>0.732</td>\n",
       "      <td>-0.215</td>\n",
       "      <td>0.147</td>\n",
       "    </tr>\n",
       "    <tr>\n",
       "      <th>2</th>\n",
       "      <td>-0.020</td>\n",
       "      <td>0.350</td>\n",
       "      <td>-0.321</td>\n",
       "      <td>-0.073</td>\n",
       "      <td>-0.357</td>\n",
       "      <td>-0.205</td>\n",
       "      <td>0.526</td>\n",
       "    </tr>\n",
       "    <tr>\n",
       "      <th>3</th>\n",
       "      <td>0.493</td>\n",
       "      <td>0.148</td>\n",
       "      <td>0.149</td>\n",
       "      <td>-0.416</td>\n",
       "      <td>-0.092</td>\n",
       "      <td>-0.169</td>\n",
       "      <td>-0.176</td>\n",
       "    </tr>\n",
       "    <tr>\n",
       "      <th>4</th>\n",
       "      <td>0.164</td>\n",
       "      <td>-0.021</td>\n",
       "      <td>-0.036</td>\n",
       "      <td>0.360</td>\n",
       "      <td>0.020</td>\n",
       "      <td>-0.381</td>\n",
       "      <td>-0.086</td>\n",
       "    </tr>\n",
       "    <tr>\n",
       "      <th>5</th>\n",
       "      <td>0.132</td>\n",
       "      <td>0.105</td>\n",
       "      <td>-0.332</td>\n",
       "      <td>0.077</td>\n",
       "      <td>-0.010</td>\n",
       "      <td>0.197</td>\n",
       "      <td>-0.187</td>\n",
       "    </tr>\n",
       "    <tr>\n",
       "      <th>6</th>\n",
       "      <td>-0.168</td>\n",
       "      <td>0.265</td>\n",
       "      <td>0.075</td>\n",
       "      <td>0.008</td>\n",
       "      <td>0.002</td>\n",
       "      <td>-0.052</td>\n",
       "      <td>-0.154</td>\n",
       "    </tr>\n",
       "  </tbody>\n",
       "</table>\n",
       "</div>"
      ],
      "text/plain": [
       "     COP    SLB    XOM    PSX    OXY    EOG    CVX\n",
       "0  0.827  0.875  0.828  0.794  0.574  0.836  0.779\n",
       "1 -0.035  0.101 -0.270 -0.239  0.732 -0.215  0.147\n",
       "2 -0.020  0.350 -0.321 -0.073 -0.357 -0.205  0.526\n",
       "3  0.493  0.148  0.149 -0.416 -0.092 -0.169 -0.176\n",
       "4  0.164 -0.021 -0.036  0.360  0.020 -0.381 -0.086\n",
       "5  0.132  0.105 -0.332  0.077 -0.010  0.197 -0.187\n",
       "6 -0.168  0.265  0.075  0.008  0.002 -0.052 -0.154"
      ]
     },
     "execution_count": 67,
     "metadata": {},
     "output_type": "execute_result"
    }
   ],
   "source": [
    "eig_vals_sqrt = np.array([np.sqrt(eig_val) for eig_val in eig_vals_list])\n",
    "eig_vals_sqrt\n",
    "\n",
    "ordered_col = ([\"COP\",\"SLB\",\"XOM\",\"PSX\",\"OXY\",\"EOG\",\"CVX\"])\n",
    "loadings = pd.DataFrame(np.multiply(matrix_Q,eig_vals_sqrt)).T\n",
    "loadings.columns = ordered_col\n",
    "loadings"
   ]
  },
  {
   "cell_type": "code",
   "execution_count": 68,
   "metadata": {
    "collapsed": false
   },
   "outputs": [
    {
     "data": {
      "image/png": "[encoded data removed]",
      "text/plain": [
       "<matplotlib.figure.Figure at 0x114e42748>"
      ]
     },
     "metadata": {},
     "output_type": "display_data"
    }
   ],
   "source": [
    "sqr_loadings = loadings.applymap(np.square)\n",
    "\n",
    "LL = np.multiply(matrix_Q,eig_vals_sqrt)\n",
    "tickers = ordered_col\n",
    "ax = plt.figure(figsize=(8,8)).gca()\n",
    "plt.imshow(LL, cmap=\"bwr\", interpolation=\"nearest\")\n",
    "cb = plt.colorbar()\n",
    "plt.yticks(np.arange(len(tickers)), tickers)\n",
    "plt.xlabel(\"PC Number\")\n",
    "plt.title(\"PCA\", fontsize=14)\n",
    "# force x-tickers to be displayed as integers (not floats)\n",
    "ax.xaxis.set_major_locator(MaxNLocator(integer=True))"
   ]
  },
  {
   "cell_type": "code",
   "execution_count": 69,
   "metadata": {
    "collapsed": false
   },
   "outputs": [
    {
     "data": {
      "text/plain": [
       "<matplotlib.text.Text at 0x114b299e8>"
      ]
     },
     "execution_count": 69,
     "metadata": {},
     "output_type": "execute_result"
    },
    {
     "data": {
      "image/png": "[encoded data removed]",
      "text/plain": [
       "<matplotlib.figure.Figure at 0x114764cc0>"
      ]
     },
     "metadata": {},
     "output_type": "display_data"
    }
   ],
   "source": [
    "k1 = 1  # the last PC column in 'v' PCA matrix\n",
    "k2 = 0  # the second last PC column\n",
    " \n",
    "# begin constructing bi-plot for PC(k1) and PC(k2)\n",
    "# loadings\n",
    "plt.figure(figsize=(7,7))\n",
    "plt.grid()\n",
    " \n",
    "# compute the distance from (0,0) point\n",
    "dist = []\n",
    "for i in range(LL.shape[0]):\n",
    "    x = LL[i,k1]\n",
    "    y = LL[i,k2]\n",
    "    plt.plot(x, y, '.k')\n",
    "    plt.plot([0,x], [0,y], '-', color=\"r\")\n",
    "    d = np.sqrt(x**2 + y**2)\n",
    "    dist.append(d)\n",
    "    plt.text(x, y, tickers[i], color='g')\n",
    "plt.xlabel(\"PC-\" + str(k1+1))\n",
    "plt.ylabel(\"PC-\" + str(k2+1))"
   ]
  },
  {
   "cell_type": "code",
   "execution_count": null,
   "metadata": {
    "collapsed": true
   },
   "outputs": [],
   "source": []
  },
  {
   "cell_type": "code",
   "execution_count": null,
   "metadata": {
    "collapsed": true
   },
   "outputs": [],
   "source": []
  },
  {
   "cell_type": "code",
   "execution_count": null,
   "metadata": {
    "collapsed": true
   },
   "outputs": [],
   "source": []
  }
 ],
 "metadata": {
  "kernelspec": {
   "display_name": "Python [py35]",
   "language": "python",
   "name": "Python [py35]"
  },
  "language_info": {
   "codemirror_mode": {
    "name": "ipython",
    "version": 3
   },
   "file_extension": ".py",
   "mimetype": "text/x-python",
   "name": "python",
   "nbconvert_exporter": "python",
   "pygments_lexer": "ipython3",
   "version": "3.5.2"
  }
 },
 "nbformat": 4,
 "nbformat_minor": 2
}
